{
 "cells": [
  {
   "cell_type": "markdown",
   "id": "8cc01069",
   "metadata": {},
   "source": [
    "# Lab: Working with files in Jupyter Notebooks\n",
    "Estimated time needed: 15 minutes\n",
    "\n",
    "## Objectives\n",
    "After completing this lab, you will be able to:\n",
    "\n",
    "- Explore different Run Options\n",
    "- Rename your notebook\n",
    "- Shutdown your notebook\n",
    "- Save and download the notebook\n",
    "- Upload the downloaded notebook\n",
    "- Work with multiple notebooks"
   ]
  },
  {
   "cell_type": "markdown",
   "id": "fae6b4d3",
   "metadata": {},
   "source": [
    "# Exercise 1\n",
    "## Explore different Run Options\n",
    "\n",
    "You can explore the various run options under Run menu such as Run Selected Cells, Run All Cells, Run Selected Cells abd Insert Below and many more.\n",
    "\n"
   ]
  },
  {
   "cell_type": "code",
   "execution_count": 2,
   "id": "7d21a62e",
   "metadata": {},
   "outputs": [
    {
     "data": {
      "text/plain": [
       "15"
      ]
     },
     "execution_count": 2,
     "metadata": {},
     "output_type": "execute_result"
    }
   ],
   "source": [
    "## Click here and use Run Selected Cells to execute it\n",
    "11+4"
   ]
  },
  {
   "cell_type": "markdown",
   "id": "823b8004",
   "metadata": {},
   "source": [
    "# Exercise 2\n",
    "## Rename your notebook\n",
    "\n",
    "You can now reame your notebook to yopu prefe"
   ]
  }
 ],
 "metadata": {
  "kernelspec": {
   "display_name": "Python 3 (ipykernel)",
   "language": "python",
   "name": "python3"
  },
  "language_info": {
   "codemirror_mode": {
    "name": "ipython",
    "version": 3
   },
   "file_extension": ".py",
   "mimetype": "text/x-python",
   "name": "python",
   "nbconvert_exporter": "python",
   "pygments_lexer": "ipython3",
   "version": "3.11.7"
  }
 },
 "nbformat": 4,
 "nbformat_minor": 5
}
