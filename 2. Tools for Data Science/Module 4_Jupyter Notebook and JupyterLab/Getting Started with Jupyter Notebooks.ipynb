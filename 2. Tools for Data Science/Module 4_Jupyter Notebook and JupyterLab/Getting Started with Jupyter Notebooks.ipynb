{
 "cells": [
  {
   "cell_type": "markdown",
   "id": "9f693339",
   "metadata": {},
   "source": [
    "# Practice Exercises\n"
   ]
  },
  {
   "cell_type": "markdown",
   "id": "559b9fc9",
   "metadata": {},
   "source": [
    "### Task 1: Insert a new Markdown cell  with the text as **Evaluating Basic Arithmetic Expression**.\n"
   ]
  },
  {
   "cell_type": "markdown",
   "id": "6bcf1d3b",
   "metadata": {},
   "source": [
    "Evaluating Basic Arithmetic Expression"
   ]
  },
  {
   "cell_type": "markdown",
   "id": "74cbb517",
   "metadata": {},
   "source": [
    "### Task 2: Insert a new code cell below and use this **expression** <code>(20+5)*4</code> and **execute** it.\n"
   ]
  },
  {
   "cell_type": "code",
   "execution_count": 1,
   "id": "f4641e20",
   "metadata": {},
   "outputs": [
    {
     "data": {
      "text/plain": [
       "100"
      ]
     },
     "execution_count": 1,
     "metadata": {},
     "output_type": "execute_result"
    }
   ],
   "source": [
    "(20+5)*4"
   ]
  },
  {
   "cell_type": "markdown",
   "id": "a994cb65",
   "metadata": {},
   "source": [
    "### Task 3: In the cell below, add a comment as **Displaying a string message**. Add the line <code>\"Let us explore python without coding.\" </code>below the comment and execute it \n"
   ]
  },
  {
   "cell_type": "code",
   "execution_count": 2,
   "id": "1f925898",
   "metadata": {},
   "outputs": [
    {
     "data": {
      "text/plain": [
       "'Let us explore python without coding'"
      ]
     },
     "execution_count": 2,
     "metadata": {},
     "output_type": "execute_result"
    }
   ],
   "source": [
    "\"Let us explore python without coding\""
   ]
  },
  {
   "cell_type": "markdown",
   "id": "d33d71c0",
   "metadata": {},
   "source": [
    "### (Bonus) Task 4: Split the code cell below after ```1+1```\n"
   ]
  },
  {
   "cell_type": "code",
   "execution_count": 3,
   "id": "1e640e77",
   "metadata": {},
   "outputs": [
    {
     "data": {
      "text/plain": [
       "2"
      ]
     },
     "execution_count": 3,
     "metadata": {},
     "output_type": "execute_result"
    }
   ],
   "source": [
    "1+1"
   ]
  },
  {
   "cell_type": "code",
   "execution_count": 2,
   "id": "ef50549e",
   "metadata": {},
   "outputs": [
    {
     "data": {
      "text/plain": [
       "4"
      ]
     },
     "execution_count": 2,
     "metadata": {},
     "output_type": "execute_result"
    }
   ],
   "source": [
    "2*2"
   ]
  }
 ],
 "metadata": {
  "kernelspec": {
   "display_name": "Python 3 (ipykernel)",
   "language": "python",
   "name": "python3"
  },
  "language_info": {
   "codemirror_mode": {
    "name": "ipython",
    "version": 3
   },
   "file_extension": ".py",
   "mimetype": "text/x-python",
   "name": "python",
   "nbconvert_exporter": "python",
   "pygments_lexer": "ipython3",
   "version": "3.11.7"
  }
 },
 "nbformat": 4,
 "nbformat_minor": 5
}
