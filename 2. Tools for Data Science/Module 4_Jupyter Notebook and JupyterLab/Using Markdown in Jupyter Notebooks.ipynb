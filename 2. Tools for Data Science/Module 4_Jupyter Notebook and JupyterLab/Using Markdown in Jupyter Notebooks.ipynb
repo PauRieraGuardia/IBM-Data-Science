{
 "cells": [
  {
   "cell_type": "markdown",
   "id": "aa5f4d63",
   "metadata": {},
   "source": [
    "# Practice Exercises\n",
    "\n",
    "### Demonstrate your proficiency in using Markdown in Jupyter notebooks"
   ]
  },
  {
   "cell_type": "markdown",
   "id": "f1e33389",
   "metadata": {},
   "source": [
    "#### Task 1: Create **H2 level heading** as **Welcome to Python programming** and add the image from the following **url** with alt text as **This is SN labs New Launcher**\n",
    "\n",
    "_https://cf-courses-data.s3.us.cloud-object-storage.appdomain.cloud/IBMDeveloperSkillsNetwork-DS0105EN-SkillsNetwork/labs/Labs_V4/images/Launcher.png_"
   ]
  },
  {
   "cell_type": "markdown",
   "id": "9efc5dcb",
   "metadata": {},
   "source": [
    "## Welcome to Python programming\n",
    "Launch: ![This is SN labs New Laucnher](https://cf-courses-data.s3.us.cloud-object-storage.appdomain.cloud/IBMDeveloperSkillsNetwork-DS0105EN-SkillsNetwork/labs/Labs_V4/images/Launcher.png)"
   ]
  },
  {
   "cell_type": "markdown",
   "id": "c000b088",
   "metadata": {},
   "source": [
    "#### Task 2: Create a hyperlink to <code>https://www.coursera.org/learn/open-source-tools-for-data-science/home</code> with the **Name of the link** as \"Tools For Data Science\".\n"
   ]
  },
  {
   "cell_type": "markdown",
   "id": "653f2d94",
   "metadata": {},
   "source": [
    "<a href=\"https://www.coursera.org/learn/open-source-tools-for-data-science/home\">Tools For Data Science"
   ]
  },
  {
   "cell_type": "markdown",
   "id": "cc7da49c",
   "metadata": {},
   "source": [
    "#### Task 3: Create the following table:"
   ]
  },
  {
   "cell_type": "markdown",
   "id": "bdc9c3d8",
   "metadata": {},
   "source": [
    "|Fruits|Quantity(Kg)|Price(In Rupee)|\n",
    "|-----|----------|--------------|\n",
    "|Apple|2|500|\n",
    "|Orange|1|200|\n",
    "|Mango|3|1000|\n",
    "|Grapes|2|400|"
   ]
  },
  {
   "cell_type": "markdown",
   "id": "bbcb3fc7",
   "metadata": {},
   "source": [
    "#### Task 4: Create the following ordered list:\n",
    "\n",
    "<img src=\"https://cf-courses-data.s3.us.cloud-object-storage.appdomain.cloud/IBMDeveloperSkillsNetwork-DS0105EN-SkillsNetwork/labs/Labs_V4/images/order1.png\">\n"
   ]
  },
  {
   "cell_type": "markdown",
   "id": "ceb33a2d",
   "metadata": {},
   "source": [
    "1. Python\n",
    "2. Java\n",
    "3. C++\n",
    "4. C"
   ]
  }
 ],
 "metadata": {
  "kernelspec": {
   "display_name": "Python 3 (ipykernel)",
   "language": "python",
   "name": "python3"
  },
  "language_info": {
   "codemirror_mode": {
    "name": "ipython",
    "version": 3
   },
   "file_extension": ".py",
   "mimetype": "text/x-python",
   "name": "python",
   "nbconvert_exporter": "python",
   "pygments_lexer": "ipython3",
   "version": "3.11.7"
  }
 },
 "nbformat": 4,
 "nbformat_minor": 5
}
