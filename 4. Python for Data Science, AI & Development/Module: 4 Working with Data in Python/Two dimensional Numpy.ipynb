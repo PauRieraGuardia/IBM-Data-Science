{
 "cells": [
  {
   "cell_type": "markdown",
   "id": "c873eb26-1b5e-4f8d-991a-112ce4fd0b97",
   "metadata": {},
   "source": [
    "### 2D Numpy in Python"
   ]
  },
  {
   "cell_type": "markdown",
   "id": "0a53526d-aeee-4e10-8ae7-03590ccdf24f",
   "metadata": {},
   "source": [
    "#### Create a 2D numpy Array"
   ]
  },
  {
   "cell_type": "code",
   "execution_count": 107,
   "id": "c0316637-166d-432e-8cb1-3c7f8a41beb2",
   "metadata": {
    "tags": []
   },
   "outputs": [],
   "source": [
    "# Import the libraries \n",
    "\n",
    "import numpy as np"
   ]
  },
  {
   "cell_type": "markdown",
   "id": "109bb814-c863-43ab-aebf-6461a1bb8361",
   "metadata": {},
   "source": [
    "Consider the list <code>a</code>, which contains three nested lists <b>each of equal size</b>."
   ]
  },
  {
   "cell_type": "code",
   "execution_count": 109,
   "id": "4663bb35-1d55-4fdf-bfe7-fbda608cad62",
   "metadata": {
    "tags": []
   },
   "outputs": [
    {
     "data": {
      "text/plain": [
       "[[11, 12, 13], [21, 22, 23], [31, 32, 33]]"
      ]
     },
     "execution_count": 109,
     "metadata": {},
     "output_type": "execute_result"
    }
   ],
   "source": [
    "# Create a list \n",
    "\n",
    "a = [[11,12,13],[21,22,23],[31,32,33]]\n",
    "a"
   ]
  },
  {
   "cell_type": "markdown",
   "id": "507aaee6-c1d0-48ae-90d7-8cdadd267694",
   "metadata": {},
   "source": [
    "We can cast the list to a Numpy Array as follows:"
   ]
  },
  {
   "cell_type": "code",
   "execution_count": 111,
   "id": "0098a22d-84dd-41fa-869c-7ebc76249e58",
   "metadata": {
    "tags": []
   },
   "outputs": [
    {
     "data": {
      "text/plain": [
       "array([[11, 12, 13],\n",
       "       [21, 22, 23],\n",
       "       [31, 32, 33]])"
      ]
     },
     "execution_count": 111,
     "metadata": {},
     "output_type": "execute_result"
    }
   ],
   "source": [
    "# Convert list to Numpy Array\n",
    "# Every element is the same type\n",
    "\n",
    "A = np.array(a)\n",
    "A"
   ]
  },
  {
   "cell_type": "markdown",
   "id": "3f48ab57-bb09-4e36-8537-3567f6372992",
   "metadata": {},
   "source": [
    "We can use the attribute <code>ndim</code> to obtain the number of axes or dimensions, referred to ask the rank."
   ]
  },
  {
   "cell_type": "code",
   "execution_count": 113,
   "id": "34515d2f-8bed-4107-925c-0f69b98bf7b8",
   "metadata": {
    "tags": []
   },
   "outputs": [
    {
     "data": {
      "text/plain": [
       "2"
      ]
     },
     "execution_count": 113,
     "metadata": {},
     "output_type": "execute_result"
    }
   ],
   "source": [
    "# Show the numpy array dimensions\n",
    "A.ndim"
   ]
  },
  {
   "cell_type": "markdown",
   "id": "cd8866f3-3cf5-4d33-904b-5de37e14d4dd",
   "metadata": {},
   "source": [
    "Attribute <code>shape</code> returns a tuple corresponding to the sixe or number of each dimension."
   ]
  },
  {
   "cell_type": "code",
   "execution_count": 115,
   "id": "f560a7cc-6429-4e10-8681-8d90f203b61c",
   "metadata": {
    "tags": []
   },
   "outputs": [
    {
     "data": {
      "text/plain": [
       "(3, 3)"
      ]
     },
     "execution_count": 115,
     "metadata": {},
     "output_type": "execute_result"
    }
   ],
   "source": [
    "# Shoe the numpy array shape\n",
    "\n",
    "A.shape"
   ]
  },
  {
   "cell_type": "markdown",
   "id": "d01cb657-819e-4874-b931-f3d9fa6e82ea",
   "metadata": {},
   "source": [
    "The total number of elements in te array is given by the attribute <code>size</code>."
   ]
  },
  {
   "cell_type": "code",
   "execution_count": 117,
   "id": "2b0dc779-46ab-4b9c-bbf1-7353952faceb",
   "metadata": {
    "tags": []
   },
   "outputs": [
    {
     "data": {
      "text/plain": [
       "9"
      ]
     },
     "execution_count": 117,
     "metadata": {},
     "output_type": "execute_result"
    }
   ],
   "source": [
    "# Show the numpy array size\n",
    "\n",
    "A.size"
   ]
  },
  {
   "cell_type": "markdown",
   "id": "86328b37-0291-450f-814f-90f28c8eb417",
   "metadata": {},
   "source": [
    "#### Accessing different elements ot a Numpy Array\n",
    "\n",
    "We can use rectangular brackets to access the different elements to the array.\n",
    "\n",
    "We simply use the swuare brakcets and the indices corresponding to the element we would like:"
   ]
  },
  {
   "cell_type": "code",
   "execution_count": 119,
   "id": "b0b46177-0d07-4524-a15a-aa9af5089dc7",
   "metadata": {
    "tags": []
   },
   "outputs": [
    {
     "data": {
      "text/plain": [
       "23"
      ]
     },
     "execution_count": 119,
     "metadata": {},
     "output_type": "execute_result"
    }
   ],
   "source": [
    "# Acces the element on the second row and third column\n",
    "\n",
    "A[1,2]"
   ]
  },
  {
   "cell_type": "markdown",
   "id": "2e01dade-b50b-47eb-ac0f-2a6896b6bcc4",
   "metadata": {},
   "source": [
    "We can also use the following notation to obtain the elements:"
   ]
  },
  {
   "cell_type": "code",
   "execution_count": 121,
   "id": "3758b395-fd54-4670-9bf8-9735fdf78562",
   "metadata": {
    "tags": []
   },
   "outputs": [
    {
     "data": {
      "text/plain": [
       "23"
      ]
     },
     "execution_count": 121,
     "metadata": {},
     "output_type": "execute_result"
    }
   ],
   "source": [
    "A[1][2]"
   ]
  },
  {
   "cell_type": "markdown",
   "id": "e772eec6-c3ce-4321-a8c7-68862f134ed2",
   "metadata": {},
   "source": [
    "We can also use slicing in numpy arrays. This can be done with the following syntax:"
   ]
  },
  {
   "cell_type": "code",
   "execution_count": 123,
   "id": "1cb9d665-a1c6-45fe-a65a-4eb1312247dc",
   "metadata": {
    "tags": []
   },
   "outputs": [
    {
     "data": {
      "text/plain": [
       "array([11, 12])"
      ]
     },
     "execution_count": 123,
     "metadata": {},
     "output_type": "execute_result"
    }
   ],
   "source": [
    "# Access the element on the first row and first and second columns\n",
    "\n",
    "A[0][0:2]"
   ]
  },
  {
   "cell_type": "markdown",
   "id": "9a2324f3-f604-4f08-9aad-a0db9aae899a",
   "metadata": {},
   "source": [
    "Similary, we can obtain the first two rows of the 3rd columns as follows:"
   ]
  },
  {
   "cell_type": "code",
   "execution_count": 125,
   "id": "82718533-2f42-42b3-a048-587e52af7929",
   "metadata": {
    "tags": []
   },
   "outputs": [
    {
     "data": {
      "text/plain": [
       "array([13, 23])"
      ]
     },
     "execution_count": 125,
     "metadata": {},
     "output_type": "execute_result"
    }
   ],
   "source": [
    "# Access the element on the first and second rows and third column\n",
    "\n",
    "A[0:2,2]"
   ]
  },
  {
   "cell_type": "markdown",
   "id": "2822da28-98f3-455f-90a9-bd4fd6e2465b",
   "metadata": {},
   "source": [
    "#### Basic Operations\n",
    "\n",
    "We can also add arrats. The process is identical to matrix addition."
   ]
  },
  {
   "cell_type": "markdown",
   "id": "67fa5d39-f8af-4925-add8-212cefdddac5",
   "metadata": {},
   "source": [
    "The Numpy array is given by <code>X</code> and <code>Y</code>"
   ]
  },
  {
   "cell_type": "code",
   "execution_count": 128,
   "id": "3d7de392-d9af-4a21-b37b-e9a7e19d89fc",
   "metadata": {
    "tags": []
   },
   "outputs": [
    {
     "data": {
      "text/plain": [
       "array([[1, 0],\n",
       "       [0, 1]])"
      ]
     },
     "execution_count": 128,
     "metadata": {},
     "output_type": "execute_result"
    }
   ],
   "source": [
    "# Create a numpy array X\n",
    "\n",
    "X = np.array([[1,0],[0,1]])\n",
    "X"
   ]
  },
  {
   "cell_type": "code",
   "execution_count": 129,
   "id": "9e0931f8-111d-436d-9988-b7f7363098f0",
   "metadata": {
    "tags": []
   },
   "outputs": [
    {
     "data": {
      "text/plain": [
       "array([[2, 1],\n",
       "       [1, 2]])"
      ]
     },
     "execution_count": 129,
     "metadata": {},
     "output_type": "execute_result"
    }
   ],
   "source": [
    "# Create a numpy array Y\n",
    "\n",
    "Y = np.array([[2,1],[1,2]])\n",
    "Y"
   ]
  },
  {
   "cell_type": "markdown",
   "id": "b137cf3a-f5fc-4f2b-8ef8-77111f3b039b",
   "metadata": {},
   "source": [
    "We can add the numpy array as follows."
   ]
  },
  {
   "cell_type": "code",
   "execution_count": 131,
   "id": "8f9f1d35-6447-4a61-9186-c45d597171f8",
   "metadata": {
    "tags": []
   },
   "outputs": [
    {
     "data": {
      "text/plain": [
       "array([[3, 1],\n",
       "       [1, 3]])"
      ]
     },
     "execution_count": 131,
     "metadata": {},
     "output_type": "execute_result"
    }
   ],
   "source": [
    "# Add X and Y\n",
    "\n",
    "Z = X + Y\n",
    "Z"
   ]
  },
  {
   "cell_type": "markdown",
   "id": "4b49c3c9-2256-4559-9a82-6d4148125af2",
   "metadata": {},
   "source": [
    "Multiplying a numpy array by scaler is identical yo multiplying a matrix by a scaler. We can perform the operation as follows."
   ]
  },
  {
   "cell_type": "code",
   "execution_count": 133,
   "id": "ca4c4332-9c51-4357-8b39-985e930fbeb5",
   "metadata": {
    "tags": []
   },
   "outputs": [
    {
     "data": {
      "text/plain": [
       "array([[2, 1],\n",
       "       [1, 2]])"
      ]
     },
     "execution_count": 133,
     "metadata": {},
     "output_type": "execute_result"
    }
   ],
   "source": [
    "# Create a Numpy array Y\n",
    "\n",
    "Y = np.array([[2,1],[1,2]])\n",
    "Y"
   ]
  },
  {
   "cell_type": "code",
   "execution_count": 134,
   "id": "fa53b9a6-2d31-41d4-aa83-4e0c48448323",
   "metadata": {
    "tags": []
   },
   "outputs": [
    {
     "data": {
      "text/plain": [
       "array([[4, 2],\n",
       "       [2, 4]])"
      ]
     },
     "execution_count": 134,
     "metadata": {},
     "output_type": "execute_result"
    }
   ],
   "source": [
    "# Multiply Y with 2\n",
    "\n",
    "Z = 2 * Y\n",
    "Z"
   ]
  },
  {
   "cell_type": "markdown",
   "id": "f4eb7357-c3db-470e-af9d-db9a6d1b47f1",
   "metadata": {},
   "source": [
    "Multiplication of two arrays corresponds to an element-wise product or <em>Hadamard product</em>. Consider matrix <code>X</code> and <code>Y</code>. The Hadamard product corresponds to multiplying each of the elements in the same position. We can perform element-wise product of the array <code>X</code> and <code>Y</code> as follows:"
   ]
  },
  {
   "cell_type": "code",
   "execution_count": 136,
   "id": "cfdda000-de8d-4a48-972d-8ad5e6498b27",
   "metadata": {
    "tags": []
   },
   "outputs": [
    {
     "data": {
      "text/plain": [
       "array([[2, 1],\n",
       "       [1, 2]])"
      ]
     },
     "execution_count": 136,
     "metadata": {},
     "output_type": "execute_result"
    }
   ],
   "source": [
    "# Create a Numpy array Y\n",
    "\n",
    "Y = np.array([[2,1],[1,2]])\n",
    "Y"
   ]
  },
  {
   "cell_type": "code",
   "execution_count": 137,
   "id": "86482951-97ef-4321-8450-c0c083513d3a",
   "metadata": {
    "tags": []
   },
   "outputs": [
    {
     "data": {
      "text/plain": [
       "array([[1, 0],\n",
       "       [0, 1]])"
      ]
     },
     "execution_count": 137,
     "metadata": {},
     "output_type": "execute_result"
    }
   ],
   "source": [
    "# Create a Numpy array X \n",
    "\n",
    "X = np.array([[1,0],[0,1]])\n",
    "X"
   ]
  },
  {
   "cell_type": "code",
   "execution_count": 138,
   "id": "1eae5e2b-f522-4aaa-9164-ec6c7a57a938",
   "metadata": {
    "tags": []
   },
   "outputs": [
    {
     "data": {
      "text/plain": [
       "array([[2, 0],\n",
       "       [0, 2]])"
      ]
     },
     "execution_count": 138,
     "metadata": {},
     "output_type": "execute_result"
    }
   ],
   "source": [
    "# Multiply X with Y\n",
    "\n",
    "Z = X * Y\n",
    "Z"
   ]
  },
  {
   "cell_type": "markdown",
   "id": "ec988daf-2071-443d-94ef-656ee65fcbf8",
   "metadata": {},
   "source": [
    "We can also perform matrix multiplication woth the numpy arrays <code>A</code> and <code>B</code> as follows:\n",
    "\n",
    "First, we define matrix <code>A</code> and <code>B</code>:"
   ]
  },
  {
   "cell_type": "code",
   "execution_count": 140,
   "id": "033e1473-fe9d-4ea8-b734-3327aabdfdc9",
   "metadata": {
    "tags": []
   },
   "outputs": [
    {
     "data": {
      "text/plain": [
       "array([[0, 1, 1],\n",
       "       [1, 0, 1]])"
      ]
     },
     "execution_count": 140,
     "metadata": {},
     "output_type": "execute_result"
    }
   ],
   "source": [
    "# Create a matrix A\n",
    "\n",
    "A = np.array([[0,1,1],[1,0,1]])\n",
    "A"
   ]
  },
  {
   "cell_type": "code",
   "execution_count": 141,
   "id": "56ba5090-b93a-4a92-8a61-2fe41cb2446e",
   "metadata": {
    "tags": []
   },
   "outputs": [
    {
     "data": {
      "text/plain": [
       "array([[ 1,  1],\n",
       "       [ 1,  1],\n",
       "       [-1,  1]])"
      ]
     },
     "execution_count": 141,
     "metadata": {},
     "output_type": "execute_result"
    }
   ],
   "source": [
    "# Create a matrix B\n",
    "\n",
    "B = np.array([[1,1],[1,1],[-1,1]])\n",
    "B"
   ]
  },
  {
   "cell_type": "markdown",
   "id": "6b40ede8-30cf-4a55-b6dc-bda1d4538871",
   "metadata": {},
   "source": [
    "We use the numpy function <code>dot</code> to multiply the arrays together."
   ]
  },
  {
   "cell_type": "code",
   "execution_count": 143,
   "id": "f0724cd1-8d5c-4976-9578-4b4979453a0b",
   "metadata": {
    "tags": []
   },
   "outputs": [
    {
     "data": {
      "text/plain": [
       "array([[0, 2],\n",
       "       [0, 2]])"
      ]
     },
     "execution_count": 143,
     "metadata": {},
     "output_type": "execute_result"
    }
   ],
   "source": [
    "# Calculate the dot product\n",
    "Z = np.dot(A,B)\n",
    "Z"
   ]
  },
  {
   "cell_type": "code",
   "execution_count": 144,
   "id": "a1634f06-8085-483b-9b98-e769e41bcf10",
   "metadata": {
    "tags": []
   },
   "outputs": [
    {
     "data": {
      "text/plain": [
       "array([[0.        , 0.90929743],\n",
       "       [0.        , 0.90929743]])"
      ]
     },
     "execution_count": 144,
     "metadata": {},
     "output_type": "execute_result"
    }
   ],
   "source": [
    "# Calculate the sine of Z\n",
    "np.sin(Z)"
   ]
  },
  {
   "cell_type": "markdown",
   "id": "233fbaf0-8b7a-4760-87cc-dee7e10d145a",
   "metadata": {},
   "source": [
    "We use the numpy attribute <code>T</code> to calculate the transposed matrix"
   ]
  },
  {
   "cell_type": "code",
   "execution_count": 146,
   "id": "8e51d296-4b2b-46d2-aa85-fb80f417a134",
   "metadata": {
    "tags": []
   },
   "outputs": [
    {
     "data": {
      "text/plain": [
       "array([[1, 1],\n",
       "       [2, 2],\n",
       "       [3, 3]])"
      ]
     },
     "execution_count": 146,
     "metadata": {},
     "output_type": "execute_result"
    }
   ],
   "source": [
    "# Create a matrix C\n",
    "\n",
    "C = np.array([[1,1],[2,2],[3,3]])\n",
    "C"
   ]
  },
  {
   "cell_type": "code",
   "execution_count": 147,
   "id": "71d3ef04-d07c-47c1-ae44-490b78aa895b",
   "metadata": {
    "tags": []
   },
   "outputs": [
    {
     "data": {
      "text/plain": [
       "array([[1, 2, 3],\n",
       "       [1, 2, 3]])"
      ]
     },
     "execution_count": 147,
     "metadata": {},
     "output_type": "execute_result"
    }
   ],
   "source": [
    "# Get the transposed of C\n",
    "\n",
    "C.T"
   ]
  },
  {
   "cell_type": "markdown",
   "id": "2de509ef-57fd-4979-94b5-c9443b934c42",
   "metadata": {},
   "source": [
    "#### Quiz on 2D Numpy Array \n",
    "\n",
    "Consider the following list <code>a</code>, convert it to a Numpy Array."
   ]
  },
  {
   "cell_type": "code",
   "execution_count": 149,
   "id": "caa5255b-1cfb-4f10-9519-492e1a574cd4",
   "metadata": {
    "tags": []
   },
   "outputs": [],
   "source": [
    "# Write your code below and press Shif+Enter to execute\n",
    "\n",
    "A = [[1,2,3,4],[5,6,7,8],[9,10,11,12]]"
   ]
  },
  {
   "cell_type": "code",
   "execution_count": 156,
   "id": "c889b96b-9692-41e7-8757-58f8a40beeb3",
   "metadata": {
    "tags": []
   },
   "outputs": [],
   "source": [
    "A = np.array(A)"
   ]
  },
  {
   "cell_type": "markdown",
   "id": "83e9686d-c739-4259-96c1-05b2a74157ff",
   "metadata": {},
   "source": [
    "Calculate the numpy array size"
   ]
  },
  {
   "cell_type": "code",
   "execution_count": 158,
   "id": "ea0df9a0-2c73-4c31-9686-334884e187fa",
   "metadata": {
    "tags": []
   },
   "outputs": [
    {
     "data": {
      "text/plain": [
       "12"
      ]
     },
     "execution_count": 158,
     "metadata": {},
     "output_type": "execute_result"
    }
   ],
   "source": [
    "A.size"
   ]
  },
  {
   "cell_type": "markdown",
   "id": "4f7000cb-cdba-4f9a-86a1-5b4acaf41c4b",
   "metadata": {},
   "source": [
    "Access the element on the first row and first and second columns"
   ]
  },
  {
   "cell_type": "code",
   "execution_count": 163,
   "id": "8ddc5db6-1142-4840-b64f-0a1b045ba1f0",
   "metadata": {
    "tags": []
   },
   "outputs": [
    {
     "data": {
      "text/plain": [
       "array([1, 2])"
      ]
     },
     "execution_count": 163,
     "metadata": {},
     "output_type": "execute_result"
    }
   ],
   "source": [
    "A[0][0:2]"
   ]
  },
  {
   "cell_type": "markdown",
   "id": "5bf6e5e3-71f1-42ca-9b6c-db606f397f30",
   "metadata": {},
   "source": [
    "Perform matrix multiplication with the numpy arrays <code>A</code> and <code>B</code>"
   ]
  },
  {
   "cell_type": "code",
   "execution_count": 168,
   "id": "d450f02b-7fbe-428e-843d-1fa468c2d51a",
   "metadata": {
    "tags": []
   },
   "outputs": [
    {
     "data": {
      "text/plain": [
       "array([[ 1,  4],\n",
       "       [ 5, 12],\n",
       "       [ 9, 20]])"
      ]
     },
     "execution_count": 168,
     "metadata": {},
     "output_type": "execute_result"
    }
   ],
   "source": [
    "B = np.array([[0,1],[1,0],[1,1],[-1,0 ]])\n",
    "\n",
    "np.dot(A,B)"
   ]
  }
 ],
 "metadata": {
  "kernelspec": {
   "display_name": "Python 3 (ipykernel)",
   "language": "python",
   "name": "python3"
  },
  "language_info": {
   "codemirror_mode": {
    "name": "ipython",
    "version": 3
   },
   "file_extension": ".py",
   "mimetype": "text/x-python",
   "name": "python",
   "nbconvert_exporter": "python",
   "pygments_lexer": "ipython3",
   "version": "3.11.7"
  }
 },
 "nbformat": 4,
 "nbformat_minor": 5
}
