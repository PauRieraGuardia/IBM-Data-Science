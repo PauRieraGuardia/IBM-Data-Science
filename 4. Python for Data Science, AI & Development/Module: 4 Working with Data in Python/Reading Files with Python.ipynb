{
 "cells": [
  {
   "cell_type": "markdown",
   "id": "3c66b6c7-0ede-4ed8-bc9f-627c561703f7",
   "metadata": {},
   "source": [
    "### Reading Files Python\n",
    "\n",
    "#### Reading Text Files\n",
    "\n",
    "One way to read or write a file in Python is to use the built-in <code>opern</code> function. The <code>open</code> function provides a <b>File object</b> that contains the methods and attributes you need in order to read, save, and manipulate the file. \n",
    "\n",
    "We read the file:"
   ]
  },
  {
   "cell_type": "code",
   "execution_count": 36,
   "id": "14e35acc-f9e6-4b50-8aef-68eb31a3e696",
   "metadata": {
    "tags": []
   },
   "outputs": [
    {
     "name": "stdout",
     "output_type": "stream",
     "text": [
      "done\n"
     ]
    }
   ],
   "source": [
    "# This code let us to work with local files in JupyterNotebook\n",
    "\n",
    "import aiohttp\n",
    "import asyncio\n",
    "\n",
    "async def download(url, filename):\n",
    "    async with aiohttp.ClientSession() as session:\n",
    "        async with session.get(url) as response:\n",
    "            if response.status == 200:\n",
    "                with open(filename, 'wb') as f:\n",
    "                    f.write(await response.read())\n",
    "\n",
    "url = \"https://cf-courses-data.s3.us.cloud-object-storage.appdomain.cloud/IBMDeveloperSkillsNetwork-PY0101EN-SkillsNetwork/labs/Module%204/data/example1.txt\"\n",
    "local_filename = \"example1.txt\"\n",
    "\n",
    "async def main():\n",
    "    await download(url, local_filename)\n",
    "    print(\"done\")\n",
    "\n",
    "# Ejecutar el código asíncrono en un cuaderno Jupyter\n",
    "await main()"
   ]
  },
  {
   "cell_type": "markdown",
   "id": "570fa76e-57af-4c91-b6c2-afe5da065d37",
   "metadata": {},
   "source": [
    "### Reading Text Files\n",
    "\n",
    "One way to read or write a file in Python is to use the built-in <code>open</code> function. The <code>open</code> function provides a <b>File object</b> that contains the methods and attributes you need in order to read, save, and manipulate the file."
   ]
  },
  {
   "cell_type": "code",
   "execution_count": 68,
   "id": "261452ab-c027-4aa5-bb6a-0685a7311ee8",
   "metadata": {
    "tags": []
   },
   "outputs": [],
   "source": [
    "# Read the Example1.txt\"\n",
    "\n",
    "example1 = \"C:/Users/pauri/OneDrive/Escritorio/example1.txt\"\n",
    "file1= open(example1,\"r\")"
   ]
  },
  {
   "cell_type": "markdown",
   "id": "466fc8e1-32a4-4bfe-b563-3289b39003c0",
   "metadata": {
    "tags": []
   },
   "source": [
    "We can view the attributes of the file.\n",
    "\n",
    "The name of the file:"
   ]
  },
  {
   "cell_type": "code",
   "execution_count": 70,
   "id": "226479ca-71e1-415a-9ba0-412764d16df9",
   "metadata": {
    "tags": []
   },
   "outputs": [
    {
     "data": {
      "text/plain": [
       "'C:/Users/pauri/OneDrive/Escritorio/example1.txt'"
      ]
     },
     "execution_count": 70,
     "metadata": {},
     "output_type": "execute_result"
    }
   ],
   "source": [
    "# print the path of file \n",
    "\n",
    "file1.name"
   ]
  },
  {
   "cell_type": "markdown",
   "id": "831be4df-c263-4023-a8bd-43010bad2edd",
   "metadata": {},
   "source": [
    "The mode the file object is in:"
   ]
  },
  {
   "cell_type": "code",
   "execution_count": 72,
   "id": "5a228b19-47f3-492f-a8f1-d62f5ccd3e24",
   "metadata": {
    "tags": []
   },
   "outputs": [
    {
     "data": {
      "text/plain": [
       "'r'"
      ]
     },
     "execution_count": 72,
     "metadata": {},
     "output_type": "execute_result"
    }
   ],
   "source": [
    "# print the mode of file, either \"r\" or \"w\"\n",
    "\n",
    "file1.mode"
   ]
  },
  {
   "cell_type": "markdown",
   "id": "eeefbc81-3f59-4802-be0a-88ec3a9f4ccb",
   "metadata": {},
   "source": [
    "We can read the file and assing it to a variable:\n"
   ]
  },
  {
   "cell_type": "code",
   "execution_count": 74,
   "id": "97b486bc-0651-452d-9a5f-374f6ec116a2",
   "metadata": {
    "tags": []
   },
   "outputs": [
    {
     "data": {
      "text/plain": [
       "'This is line 1\\nThis is line 2\\nThis is line 3\\n'"
      ]
     },
     "execution_count": 74,
     "metadata": {},
     "output_type": "execute_result"
    }
   ],
   "source": [
    "# Read the file\n",
    "\n",
    "FileContent =file1.read()\n",
    "FileContent"
   ]
  },
  {
   "cell_type": "markdown",
   "id": "143472be-9f6a-4159-9657-9bf2977bc960",
   "metadata": {},
   "source": [
    "The <b>/n</b> means that there is a new line.\n",
    "\n",
    "We can print the file:"
   ]
  },
  {
   "cell_type": "code",
   "execution_count": 78,
   "id": "fceab613-daf1-4bb6-8d98-30fc35524b33",
   "metadata": {
    "tags": []
   },
   "outputs": [
    {
     "name": "stdout",
     "output_type": "stream",
     "text": [
      "This is line 1\n",
      "This is line 2\n",
      "This is line 3\n",
      "\n"
     ]
    }
   ],
   "source": [
    "#Print the file with \"/n\" as a new line\n",
    "\n",
    "print(FileContent)"
   ]
  },
  {
   "cell_type": "markdown",
   "id": "3172350a-0f90-42c8-8694-b2960359fab0",
   "metadata": {},
   "source": [
    "The file is of type of string:"
   ]
  },
  {
   "cell_type": "code",
   "execution_count": 81,
   "id": "ed2c07d6-1e7e-41e6-8a92-8b2f0b4106d4",
   "metadata": {
    "tags": []
   },
   "outputs": [
    {
     "data": {
      "text/plain": [
       "str"
      ]
     },
     "execution_count": 81,
     "metadata": {},
     "output_type": "execute_result"
    }
   ],
   "source": [
    "# Type of file content\n",
    "type(FileContent)"
   ]
  },
  {
   "cell_type": "markdown",
   "id": "fc04c50f-a18f-4880-a2a5-6cbbc4fb3fbd",
   "metadata": {},
   "source": [
    "It is very important that the file is closed in the end. This frees up resources and endsures consistency across different pythion versions."
   ]
  },
  {
   "cell_type": "code",
   "execution_count": 84,
   "id": "a95aedf4-f913-4ba8-8618-f48184193803",
   "metadata": {
    "tags": []
   },
   "outputs": [],
   "source": [
    "# Close file after finish\n",
    "\n",
    "file1.close()"
   ]
  },
  {
   "cell_type": "markdown",
   "id": "8d2e89fe-2274-4c31-be4e-0b27a86e2b66",
   "metadata": {},
   "source": [
    "### A Better Way to open a File\n",
    "\n",
    "Using the <code>with</code> statemnt is better  practice, it automatically closes the file even if the code encounters an exception. The code will run everything in the indent block the close the file object."
   ]
  },
  {
   "cell_type": "code",
   "execution_count": 87,
   "id": "5829881f-9a26-42d5-8f4b-810822b47896",
   "metadata": {
    "tags": []
   },
   "outputs": [
    {
     "name": "stdout",
     "output_type": "stream",
     "text": [
      "This is line 1\n",
      "This is line 2\n",
      "This is line 3\n",
      "\n"
     ]
    }
   ],
   "source": [
    "# Open file using with\n",
    "\n",
    "with open(example1,\"r\") as file1:\n",
    "    FileContent= file1.read()\n",
    "    print(FileContent)"
   ]
  },
  {
   "cell_type": "markdown",
   "id": "815c8ac0-63df-4314-9c1b-fe648183d422",
   "metadata": {},
   "source": [
    "the file object is closed, you can verify it by running the following cell:"
   ]
  },
  {
   "cell_type": "code",
   "execution_count": 90,
   "id": "7b344ad1-efec-4323-9f48-3d56f0a4bdca",
   "metadata": {
    "tags": []
   },
   "outputs": [
    {
     "data": {
      "text/plain": [
       "True"
      ]
     },
     "execution_count": 90,
     "metadata": {},
     "output_type": "execute_result"
    }
   ],
   "source": [
    "# Verify if the file is closed\n",
    "\n",
    "file1.closed"
   ]
  },
  {
   "cell_type": "code",
   "execution_count": 92,
   "id": "19509ba5-71c1-4996-83c6-25f0ed24762b",
   "metadata": {
    "tags": []
   },
   "outputs": [
    {
     "name": "stdout",
     "output_type": "stream",
     "text": [
      "This is line 1\n",
      "This is line 2\n",
      "This is line 3\n",
      "\n"
     ]
    }
   ],
   "source": [
    "# See the content of file\n",
    "print(FileContent)"
   ]
  },
  {
   "cell_type": "markdown",
   "id": "4122b521-8e55-48fb-a0b3-8b97ea918cee",
   "metadata": {},
   "source": [
    "We don't have to read the entire file, for example, we can read the firt 4 characters by enterinf three has a paramenter to the medhi <b>.read()</b>:"
   ]
  },
  {
   "cell_type": "code",
   "execution_count": 95,
   "id": "0de00011-d40b-4720-bd88-c32fac394c1e",
   "metadata": {
    "tags": []
   },
   "outputs": [
    {
     "name": "stdout",
     "output_type": "stream",
     "text": [
      "This\n"
     ]
    }
   ],
   "source": [
    "# Read first four characters \n",
    "\n",
    "with open(example1, \"r\") as file1:\n",
    "    print(file1.read(4))"
   ]
  },
  {
   "cell_type": "markdown",
   "id": "1b0a11f6-0405-4a7d-a346-6e885320a60d",
   "metadata": {},
   "source": [
    "Once the method <code>.read(4)</code> is called the firts 4 characters are called. If we call the method again, the next 4 characters are called. The output for the following cell will demonstrate the process for different inputs to the method <code>read()</code>:"
   ]
  },
  {
   "cell_type": "code",
   "execution_count": 100,
   "id": "a110626b-10c9-4422-9e84-315012a7eb51",
   "metadata": {
    "tags": []
   },
   "outputs": [
    {
     "name": "stdout",
     "output_type": "stream",
     "text": [
      "This\n",
      " is\n",
      " line \n"
     ]
    }
   ],
   "source": [
    "# Read certain amount of characters \n",
    "\n",
    "with open(example1,\"r\") as file1:\n",
    "    print(file1.read(4))\n",
    "    print(file1.read(3))\n",
    "    print(file1.read(6))"
   ]
  },
  {
   "cell_type": "markdown",
   "id": "d95882cd-51dd-475e-a3f0-8eab4a9a56e2",
   "metadata": {},
   "source": [
    "We can also an argument to <code> readline()</code> to specify the number of characters we want to read. However, unlike <code>read()</code>, <code>readline()</code> can only read one line at most."
   ]
  },
  {
   "cell_type": "code",
   "execution_count": 105,
   "id": "becc25cb-d56a-40a1-8efc-9c31614ea05d",
   "metadata": {
    "tags": []
   },
   "outputs": [
    {
     "name": "stdout",
     "output_type": "stream",
     "text": [
      "This is line 1\n",
      "\n",
      "This is line 2\n",
      "\n"
     ]
    }
   ],
   "source": [
    "with open(example1,\"r\") as file1:\n",
    "    print(file1.readline(20))\n",
    "    print(file1.readline(20))"
   ]
  },
  {
   "cell_type": "markdown",
   "id": "30799a68-fa61-4784-ae42-31d87d4d9ad7",
   "metadata": {},
   "source": [
    "We can use a loop to iterate through each line:"
   ]
  },
  {
   "cell_type": "code",
   "execution_count": 110,
   "id": "60f4bd55-6c94-4e1b-95ce-042850be1a3e",
   "metadata": {
    "tags": []
   },
   "outputs": [
    {
     "name": "stdout",
     "output_type": "stream",
     "text": [
      "Iteration 0 : This is line 1\n",
      "\n",
      "Iteration 1 : This is line 2\n",
      "\n",
      "Iteration 2 : This is line 3\n",
      "\n"
     ]
    }
   ],
   "source": [
    "with open(example1,\"r\") as file1:\n",
    "    i = 0;\n",
    "    for line in file1:\n",
    "        print(\"Iteration\", str(i),\":\",line)\n",
    "        i = i + 1"
   ]
  },
  {
   "cell_type": "markdown",
   "id": "45e774ad-7ffb-4edd-a527-dc6b3393512e",
   "metadata": {},
   "source": [
    "We can use the method <code>readlines()</code> to save the text file to a list:"
   ]
  },
  {
   "cell_type": "code",
   "execution_count": 118,
   "id": "43e96699-f5cf-44dc-b767-208e3470ac4e",
   "metadata": {
    "tags": []
   },
   "outputs": [],
   "source": [
    "with open(example1,\"r\") as file1:\n",
    "    FileasList=file1.readlines()"
   ]
  },
  {
   "cell_type": "markdown",
   "id": "a1ede21d-6888-4be3-8c97-e4cd0c79505d",
   "metadata": {},
   "source": [
    "Each element of the list corresponds to a line of text:"
   ]
  },
  {
   "cell_type": "code",
   "execution_count": 122,
   "id": "f02e6d8b-a272-40ac-98c9-fd9ddec7d8ae",
   "metadata": {
    "tags": []
   },
   "outputs": [
    {
     "data": {
      "text/plain": [
       "'This is line 1\\n'"
      ]
     },
     "execution_count": 122,
     "metadata": {},
     "output_type": "execute_result"
    }
   ],
   "source": [
    "FileasList[0]"
   ]
  },
  {
   "cell_type": "code",
   "execution_count": 124,
   "id": "615281d5-5eb8-4200-92fc-02deede1071f",
   "metadata": {
    "tags": []
   },
   "outputs": [
    {
     "data": {
      "text/plain": [
       "'This is line 2\\n'"
      ]
     },
     "execution_count": 124,
     "metadata": {},
     "output_type": "execute_result"
    }
   ],
   "source": [
    "FileasList[1]"
   ]
  },
  {
   "cell_type": "code",
   "execution_count": 126,
   "id": "25e3839b-75d5-44e1-a486-bdd29d4217fc",
   "metadata": {
    "tags": []
   },
   "outputs": [
    {
     "data": {
      "text/plain": [
       "'This is line 3\\n'"
      ]
     },
     "execution_count": 126,
     "metadata": {},
     "output_type": "execute_result"
    }
   ],
   "source": [
    "FileasList[2]"
   ]
  }
 ],
 "metadata": {
  "kernelspec": {
   "display_name": "Python 3 (ipykernel)",
   "language": "python",
   "name": "python3"
  },
  "language_info": {
   "codemirror_mode": {
    "name": "ipython",
    "version": 3
   },
   "file_extension": ".py",
   "mimetype": "text/x-python",
   "name": "python",
   "nbconvert_exporter": "python",
   "pygments_lexer": "ipython3",
   "version": "3.11.7"
  }
 },
 "nbformat": 4,
 "nbformat_minor": 5
}
