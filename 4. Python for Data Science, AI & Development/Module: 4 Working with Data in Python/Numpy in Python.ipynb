{
 "cells": [
  {
   "cell_type": "markdown",
   "id": "fa47a84d-c0a3-4871-8b1a-d6be20ba2f4f",
   "metadata": {},
   "source": [
    "### Numpy in Python"
   ]
  },
  {
   "cell_type": "markdown",
   "id": "77e0631f-de7f-4310-883f-13ab10a54850",
   "metadata": {},
   "source": [
    "#### What is Numpy?\n",
    "\n",
    "NumPy is a Python Library used for working with arrays, linear algebram fourier transform, and matrices. NumPy stands for Numerical Python and it is an open source project. The array object in NumPy is called <b>ndarray</b>, it provides a lot of supporting functions that make working with ndaray very easy.\n",
    "\n",
    "Arrays are very frequently used in darta science, where speed and resources are very important.\n",
    "\n",
    "NumPy is usually imported under the np alias.\n",
    "\n",
    "It's usually fixed in size and each element is of the same type. We can cast a list to a numpy array by first importing <code>numpy</code>:"
   ]
  },
  {
   "cell_type": "code",
   "execution_count": 4,
   "id": "4d9ac62f-94df-451c-99fa-16ed261f83e0",
   "metadata": {
    "tags": []
   },
   "outputs": [],
   "source": [
    "#import numpy library\n",
    "\n",
    "import numpy as np"
   ]
  },
  {
   "cell_type": "markdown",
   "id": "db81ecd3-10ea-4508-88c8-71d3652f9452",
   "metadata": {},
   "source": [
    "We then cast the list as follows:"
   ]
  },
  {
   "cell_type": "code",
   "execution_count": 6,
   "id": "72509aba-ec1e-4411-b6ff-45fb07e6eeff",
   "metadata": {
    "tags": []
   },
   "outputs": [
    {
     "data": {
      "text/plain": [
       "array([0, 1, 2, 3, 4])"
      ]
     },
     "execution_count": 6,
     "metadata": {},
     "output_type": "execute_result"
    }
   ],
   "source": [
    "# Create a numpy array\n",
    "\n",
    "a =np.array([0,1,2,3,4,])\n",
    "a"
   ]
  },
  {
   "cell_type": "markdown",
   "id": "b1b7e048-f48f-427e-b45b-37c5bb5e43ae",
   "metadata": {},
   "source": [
    "Each element is of the same type, in this case integers:\n",
    "\n",
    "As with lists, we can access each element via a square bracket:"
   ]
  },
  {
   "cell_type": "code",
   "execution_count": 8,
   "id": "8f5e40a6-1d37-4bc3-b2ac-30885c5d0c6f",
   "metadata": {
    "tags": []
   },
   "outputs": [
    {
     "name": "stdout",
     "output_type": "stream",
     "text": [
      "a[0]: 0\n",
      "a[1]: 1\n",
      "a[2]: 2\n",
      "a[3]: 3\n",
      "a[4]: 4\n"
     ]
    }
   ],
   "source": [
    "# Print each element\n",
    "\n",
    "print(\"a[0]:\",a[0])\n",
    "print(\"a[1]:\",a[1])\n",
    "print(\"a[2]:\",a[2])\n",
    "print(\"a[3]:\",a[3])\n",
    "print(\"a[4]:\",a[4])"
   ]
  },
  {
   "cell_type": "markdown",
   "id": "4b55388c-d009-48c5-b0cf-c1654b8326cf",
   "metadata": {},
   "source": [
    "#### Checking NumPy Version\n",
    "\n",
    "The version string is stored under <b>version</b> attribute."
   ]
  },
  {
   "cell_type": "code",
   "execution_count": 10,
   "id": "0cd993f5-d539-4594-869d-bce5af6cbd61",
   "metadata": {
    "tags": []
   },
   "outputs": [
    {
     "name": "stdout",
     "output_type": "stream",
     "text": [
      "1.26.4\n"
     ]
    }
   ],
   "source": [
    "print(np.__version__)"
   ]
  },
  {
   "cell_type": "markdown",
   "id": "fe14c9f6-faa8-4101-807f-a2c80e0cedb6",
   "metadata": {},
   "source": [
    "#### Type \n",
    "\n",
    "If we check the type of the array we get <b>numpy.ndarray/b>:"
   ]
  },
  {
   "cell_type": "code",
   "execution_count": 12,
   "id": "3b954414-2459-4bf2-b3ef-b3088d7113cc",
   "metadata": {
    "tags": []
   },
   "outputs": [
    {
     "data": {
      "text/plain": [
       "numpy.ndarray"
      ]
     },
     "execution_count": 12,
     "metadata": {},
     "output_type": "execute_result"
    }
   ],
   "source": [
    "# Check the type of the array\n",
    "type(a)"
   ]
  },
  {
   "cell_type": "markdown",
   "id": "bf8e0524-9965-4e42-af1c-b2724c2f0048",
   "metadata": {},
   "source": [
    "As numpy arrays contain data of the sa,e type, we can use the attribute \"dtype\" to obtain the data type of the array's elements. In this case, it's a 32-bit integer:"
   ]
  },
  {
   "cell_type": "code",
   "execution_count": 14,
   "id": "229a85e4-cbd8-4915-9829-f7e9acfe124d",
   "metadata": {
    "tags": []
   },
   "outputs": [
    {
     "data": {
      "text/plain": [
       "dtype('int32')"
      ]
     },
     "execution_count": 14,
     "metadata": {},
     "output_type": "execute_result"
    }
   ],
   "source": [
    "# Check the type of the values stored in numpy arrat\n",
    "\n",
    "a.dtype"
   ]
  },
  {
   "cell_type": "markdown",
   "id": "4228e1c6-7692-4f0b-a86d-b3d07ca69dd6",
   "metadata": {},
   "source": [
    "#### Try it youtsef\n",
    "\n",
    "Check the type of the array and Value type for the given array <b>b</b>"
   ]
  },
  {
   "cell_type": "code",
   "execution_count": 16,
   "id": "c31d30de-f2ee-484d-9f8a-2533a30ff2ba",
   "metadata": {
    "tags": []
   },
   "outputs": [
    {
     "data": {
      "text/plain": [
       "dtype('float64')"
      ]
     },
     "execution_count": 16,
     "metadata": {},
     "output_type": "execute_result"
    }
   ],
   "source": [
    "b = np.array([3.1,11.02,6.2,213.2,5.2])\n",
    "\n",
    "type(b)\n",
    "\n",
    "b.dtype"
   ]
  },
  {
   "cell_type": "markdown",
   "id": "f940f0aa-b60a-4859-9ccc-8583cfe9dcd0",
   "metadata": {},
   "source": [
    "#### Assing value\n",
    "\n",
    "We can change the value of the array. Consider the array <code>c</code>"
   ]
  },
  {
   "cell_type": "code",
   "execution_count": 18,
   "id": "09c0445f-05f2-45ee-86d2-e99fd763c6cb",
   "metadata": {
    "tags": []
   },
   "outputs": [
    {
     "data": {
      "text/plain": [
       "array([20,  1,  2,  3,  4])"
      ]
     },
     "execution_count": 18,
     "metadata": {},
     "output_type": "execute_result"
    }
   ],
   "source": [
    "# Create a numpy array \n",
    "\n",
    "c = np.array([20,1,2,3,4])\n",
    "c"
   ]
  },
  {
   "cell_type": "markdown",
   "id": "59637e04-baf1-435f-8f1c-ca3ea388175e",
   "metadata": {},
   "source": [
    "We can change the first element of the array to 100 as follows:"
   ]
  },
  {
   "cell_type": "code",
   "execution_count": 20,
   "id": "ebfc69e7-5576-4aaa-9cc7-2a312eba71cb",
   "metadata": {
    "tags": []
   },
   "outputs": [
    {
     "data": {
      "text/plain": [
       "array([100,   1,   2,   3,   4])"
      ]
     },
     "execution_count": 20,
     "metadata": {},
     "output_type": "execute_result"
    }
   ],
   "source": [
    "# Assign the first element to 100\n",
    "\n",
    "c[0] = 100\n",
    "c"
   ]
  },
  {
   "cell_type": "markdown",
   "id": "3da6f38e-8f84-42d6-9444-d3fc3f7383a1",
   "metadata": {},
   "source": [
    "We can change the 5yh element of the array to 0 as follows:"
   ]
  },
  {
   "cell_type": "code",
   "execution_count": 22,
   "id": "989fa404-9ecd-4177-b0fd-a4566fc83bfa",
   "metadata": {
    "tags": []
   },
   "outputs": [
    {
     "data": {
      "text/plain": [
       "array([100,   1,   2,   3,   0])"
      ]
     },
     "execution_count": 22,
     "metadata": {},
     "output_type": "execute_result"
    }
   ],
   "source": [
    "c[4] = 0\n",
    "c"
   ]
  },
  {
   "cell_type": "markdown",
   "id": "f547a35f-f570-48fc-a41c-2f3bd10c155e",
   "metadata": {},
   "source": [
    "#### Try it yourself\n",
    "\n",
    "Assign the value 20 for the second element in the given array:"
   ]
  },
  {
   "cell_type": "code",
   "execution_count": 24,
   "id": "99d7f51b-9990-4bff-8d78-4fd87206270d",
   "metadata": {
    "tags": []
   },
   "outputs": [
    {
     "data": {
      "text/plain": [
       "array([10, 20, 30, 40, 50])"
      ]
     },
     "execution_count": 24,
     "metadata": {},
     "output_type": "execute_result"
    }
   ],
   "source": [
    "a = np.array([10,2,30,40,50,])\n",
    "\n",
    "a[1]=20\n",
    "a"
   ]
  },
  {
   "cell_type": "markdown",
   "id": "151b5b45-2732-48c3-bb87-286384e14e29",
   "metadata": {},
   "source": [
    "#### Slicing \n",
    "\n",
    "Like lists, we can slice the numpy array. Slicing in python means taking the elements from the given index to another given idnex.\n",
    "\n",
    "We pass slice like this: [start:end]. The element at end index is not being included in the output.\n",
    "\n",
    "We can select the elements from 1 to 3 and assing it to a new numpy array <code>d</code> as follows:"
   ]
  },
  {
   "cell_type": "code",
   "execution_count": 26,
   "id": "2e3f262d-d7f0-4aa2-8e43-05dd9f6a3697",
   "metadata": {
    "tags": []
   },
   "outputs": [
    {
     "data": {
      "text/plain": [
       "array([1, 2, 3])"
      ]
     },
     "execution_count": 26,
     "metadata": {},
     "output_type": "execute_result"
    }
   ],
   "source": [
    "# Slicing the numpy array\n",
    "\n",
    "d=c[1:4]\n",
    "d"
   ]
  },
  {
   "cell_type": "markdown",
   "id": "e1c6ac90-5f8e-4c8a-a4a1-bd1341abec91",
   "metadata": {},
   "source": [
    "We can assing the corresponding indexes to new values as follows:"
   ]
  },
  {
   "cell_type": "code",
   "execution_count": 28,
   "id": "d5e37b7d-5804-4ace-90c6-498dd9479549",
   "metadata": {
    "tags": []
   },
   "outputs": [
    {
     "data": {
      "text/plain": [
       "array([100,   1,   2, 300, 400])"
      ]
     },
     "execution_count": 28,
     "metadata": {},
     "output_type": "execute_result"
    }
   ],
   "source": [
    "# Set the fourth element and fifth element to 300 and 400\n",
    "\n",
    "c[3:5]=300,400\n",
    "c"
   ]
  },
  {
   "cell_type": "markdown",
   "id": "31ee271f-02b1-44f5-83ef-5e92c63b6f7e",
   "metadata": {},
   "source": [
    "We can also define the steps in slicing, like this: [start:end:step]"
   ]
  },
  {
   "cell_type": "code",
   "execution_count": 30,
   "id": "3b4fdaf6-43e9-46b0-b8a7-fc08e1a7432f",
   "metadata": {
    "tags": []
   },
   "outputs": [
    {
     "name": "stdout",
     "output_type": "stream",
     "text": [
      "[2 4]\n"
     ]
    }
   ],
   "source": [
    "arr = np.array([1,2,3,4,5,6,7])\n",
    "\n",
    "print(arr[1:5:2])"
   ]
  },
  {
   "cell_type": "markdown",
   "id": "b2604475-a2d2-4f53-a6c6-320901072b09",
   "metadata": {},
   "source": [
    "If we don't pass start its considered 0"
   ]
  },
  {
   "cell_type": "code",
   "execution_count": 32,
   "id": "06d145ad-bb69-4fd6-bde2-6c86ef13fc95",
   "metadata": {
    "tags": []
   },
   "outputs": [
    {
     "name": "stdout",
     "output_type": "stream",
     "text": [
      "[1 2 3 4]\n"
     ]
    }
   ],
   "source": [
    "print(arr[:4])"
   ]
  },
  {
   "cell_type": "markdown",
   "id": "a69bf23c-5aec-421e-862e-0fec75f2ddb1",
   "metadata": {},
   "source": [
    "If we don't pass end it considers till the length of array."
   ]
  },
  {
   "cell_type": "code",
   "execution_count": 34,
   "id": "475a9a2a-a4e7-482f-b0fb-1fdeda313f06",
   "metadata": {
    "tags": []
   },
   "outputs": [
    {
     "name": "stdout",
     "output_type": "stream",
     "text": [
      "[5 6 7]\n"
     ]
    }
   ],
   "source": [
    "print(arr[4:])"
   ]
  },
  {
   "cell_type": "markdown",
   "id": "8ab6b92f-940d-4eff-a547-22f59b03033f",
   "metadata": {},
   "source": [
    "If we don't pass step its considered 1"
   ]
  },
  {
   "cell_type": "code",
   "execution_count": 36,
   "id": "225b11a0-5ef4-465f-92fd-66033360344f",
   "metadata": {
    "tags": []
   },
   "outputs": [
    {
     "name": "stdout",
     "output_type": "stream",
     "text": [
      "[2 3 4]\n"
     ]
    }
   ],
   "source": [
    "print(arr[1:4:])"
   ]
  },
  {
   "cell_type": "markdown",
   "id": "da7cf20f-fda7-4df4-9931-2a85bb1b8bce",
   "metadata": {},
   "source": [
    "#### Try it yourself\n",
    "\n",
    "Print the even elements in the given array"
   ]
  },
  {
   "cell_type": "code",
   "execution_count": 38,
   "id": "bddd9e50-70e8-49eb-9e46-444f09fcadd6",
   "metadata": {
    "tags": []
   },
   "outputs": [
    {
     "name": "stdout",
     "output_type": "stream",
     "text": [
      "[2 4 6 8]\n"
     ]
    }
   ],
   "source": [
    "arr = np.array([1,2,3,4,5,6,7,8])\n",
    "\n",
    "print(arr[1:8:2])"
   ]
  },
  {
   "cell_type": "markdown",
   "id": "01581d69-a467-4e87-97b0-24ede4d3278d",
   "metadata": {},
   "source": [
    "#### Assign Value with List\n",
    "\n",
    "Similary, we can use a list to select more than one speccific index. The list <code>select</code> contains several values:"
   ]
  },
  {
   "cell_type": "code",
   "execution_count": 40,
   "id": "71288513-825e-4fd4-aeef-7625b8eb59f1",
   "metadata": {
    "tags": []
   },
   "outputs": [
    {
     "data": {
      "text/plain": [
       "[0, 2, 3, 4]"
      ]
     },
     "execution_count": 40,
     "metadata": {},
     "output_type": "execute_result"
    }
   ],
   "source": [
    "# Create the index list\n",
    "\n",
    "select =[0,2,3,4]\n",
    "select"
   ]
  },
  {
   "cell_type": "markdown",
   "id": "5e7c00c6-1e13-498f-a1fc-b25003c66418",
   "metadata": {},
   "source": [
    "We can use the list as an argument in the brackets. The output is the elements corresponding to the particular idnexes:"
   ]
  },
  {
   "cell_type": "code",
   "execution_count": 42,
   "id": "20e380fb-4462-48e0-9ea5-bc941c0ff917",
   "metadata": {
    "tags": []
   },
   "outputs": [
    {
     "data": {
      "text/plain": [
       "array([100,   2, 300, 400])"
      ]
     },
     "execution_count": 42,
     "metadata": {},
     "output_type": "execute_result"
    }
   ],
   "source": [
    "# Use List to select elements \n",
    "d =c[select]\n",
    "d"
   ]
  },
  {
   "cell_type": "markdown",
   "id": "5a95e400-b402-4cd9-a5d1-4264b9e68048",
   "metadata": {},
   "source": [
    "We can assing the specified elements to a new value. For example, we can assign the values to 100 000 as follows:"
   ]
  },
  {
   "cell_type": "code",
   "execution_count": 44,
   "id": "cd9cbaa4-cedd-494b-b143-882a6c6b02c8",
   "metadata": {
    "tags": []
   },
   "outputs": [
    {
     "data": {
      "text/plain": [
       "array([100000,      1, 100000, 100000, 100000])"
      ]
     },
     "execution_count": 44,
     "metadata": {},
     "output_type": "execute_result"
    }
   ],
   "source": [
    "# Assing the specified elements to a new value\n",
    "\n",
    "c[select]=100000\n",
    "c"
   ]
  },
  {
   "cell_type": "markdown",
   "id": "8c9ad748-6185-4986-b4c5-340867d2516a",
   "metadata": {},
   "source": [
    "#### Other Attributes \n",
    "\n",
    "Let's review some basic array attributes using the array <code>a</code>:"
   ]
  },
  {
   "cell_type": "code",
   "execution_count": 46,
   "id": "38499a24-3445-442f-80a1-c7255ad84167",
   "metadata": {
    "tags": []
   },
   "outputs": [
    {
     "data": {
      "text/plain": [
       "array([0, 1, 2, 3, 4])"
      ]
     },
     "execution_count": 46,
     "metadata": {},
     "output_type": "execute_result"
    }
   ],
   "source": [
    "# Create a numpy array \n",
    "\n",
    "a = np.array([0,1,2,3,4])\n",
    "a"
   ]
  },
  {
   "cell_type": "markdown",
   "id": "64384f9a-44e2-43b8-9339-3caccd78087b",
   "metadata": {},
   "source": [
    "The attribute <code>size</code> is the number of elements in the array:"
   ]
  },
  {
   "cell_type": "code",
   "execution_count": 48,
   "id": "ba31da41-449b-4d82-acc4-dc1d1dd0a3b3",
   "metadata": {
    "tags": []
   },
   "outputs": [
    {
     "data": {
      "text/plain": [
       "5"
      ]
     },
     "execution_count": 48,
     "metadata": {},
     "output_type": "execute_result"
    }
   ],
   "source": [
    "# Get the size of numpy array \n",
    "a.size"
   ]
  },
  {
   "cell_type": "markdown",
   "id": "d72bc3ab-a2d0-4e7e-bd8f-2d2fa20e3f19",
   "metadata": {},
   "source": [
    "The next two attributes will make more sense when we get to higher dimensions but let's review them. The attribute <code>ndim</code> represents the number of array dimensions, or the rank of the array. Int this case, one:"
   ]
  },
  {
   "cell_type": "code",
   "execution_count": 50,
   "id": "eb83278e-8847-4b0e-aba8-fdfe2071f926",
   "metadata": {
    "tags": []
   },
   "outputs": [
    {
     "data": {
      "text/plain": [
       "1"
      ]
     },
     "execution_count": 50,
     "metadata": {},
     "output_type": "execute_result"
    }
   ],
   "source": [
    "# get the number of dimensions of numpy array\n",
    "\n",
    "a.ndim"
   ]
  },
  {
   "cell_type": "markdown",
   "id": "83b3e13a-ec40-4f8d-ba9d-81528f77a580",
   "metadata": {},
   "source": [
    "The attribute <code>shape</code> is a tuple of integers indicating the size of the array in each dimension"
   ]
  },
  {
   "cell_type": "code",
   "execution_count": 52,
   "id": "34e02ae2-d91e-4b19-9208-0bad44d0a83b",
   "metadata": {
    "tags": []
   },
   "outputs": [
    {
     "data": {
      "text/plain": [
       "(5,)"
      ]
     },
     "execution_count": 52,
     "metadata": {},
     "output_type": "execute_result"
    }
   ],
   "source": [
    "# Get the shape/size of numpy array\n",
    "\n",
    "a.shape"
   ]
  },
  {
   "cell_type": "markdown",
   "id": "bfe21368-9bbc-427c-819e-14ac4991d44d",
   "metadata": {},
   "source": [
    "#### Try it yourself\n",
    "\n",
    "Fin the size, dimension and shape for the given array <b>b</b>"
   ]
  },
  {
   "cell_type": "code",
   "execution_count": 54,
   "id": "ab6afecb-ebfb-4fe5-aa94-8506dbfef369",
   "metadata": {
    "tags": []
   },
   "outputs": [
    {
     "data": {
      "text/plain": [
       "array([10, 20, 30, 40, 50, 60, 70])"
      ]
     },
     "execution_count": 54,
     "metadata": {},
     "output_type": "execute_result"
    }
   ],
   "source": [
    "b = np.array([10,20,30,40,50,60,70])\n",
    "b"
   ]
  },
  {
   "cell_type": "code",
   "execution_count": 55,
   "id": "bb3b3e7b-6acf-4340-8c74-ada4ea722acc",
   "metadata": {
    "tags": []
   },
   "outputs": [
    {
     "data": {
      "text/plain": [
       "5"
      ]
     },
     "execution_count": 55,
     "metadata": {},
     "output_type": "execute_result"
    }
   ],
   "source": [
    "a.size"
   ]
  },
  {
   "cell_type": "code",
   "execution_count": 56,
   "id": "d859e850-547c-48f7-9d35-6cfddee57006",
   "metadata": {
    "tags": []
   },
   "outputs": [
    {
     "data": {
      "text/plain": [
       "1"
      ]
     },
     "execution_count": 56,
     "metadata": {},
     "output_type": "execute_result"
    }
   ],
   "source": [
    "a.ndim"
   ]
  },
  {
   "cell_type": "code",
   "execution_count": 57,
   "id": "7a9802af-bf98-4da4-a1fa-b1a8a665bee4",
   "metadata": {
    "tags": []
   },
   "outputs": [
    {
     "data": {
      "text/plain": [
       "(5,)"
      ]
     },
     "execution_count": 57,
     "metadata": {},
     "output_type": "execute_result"
    }
   ],
   "source": [
    "a.shape"
   ]
  },
  {
   "cell_type": "markdown",
   "id": "924151dc-f5b5-4717-9a22-4aee0923df05",
   "metadata": {},
   "source": [
    "#### Numpy Statistical Functions"
   ]
  },
  {
   "cell_type": "code",
   "execution_count": 59,
   "id": "e430833e-63e7-434e-bdaf-9afb012d7c06",
   "metadata": {
    "tags": []
   },
   "outputs": [],
   "source": [
    "# Create a numpy array\n",
    "\n",
    "a = np.array([1,-1,1,-1])"
   ]
  },
  {
   "cell_type": "code",
   "execution_count": 60,
   "id": "0a1cf6b4-d41a-46c0-9ba3-61283884c356",
   "metadata": {
    "tags": []
   },
   "outputs": [
    {
     "data": {
      "text/plain": [
       "0.0"
      ]
     },
     "execution_count": 60,
     "metadata": {},
     "output_type": "execute_result"
    }
   ],
   "source": [
    "# Get the mean of mupy array\n",
    "\n",
    "mean = a.mean()\n",
    "mean"
   ]
  },
  {
   "cell_type": "code",
   "execution_count": 61,
   "id": "284aa096-46e8-45c7-bfdf-0ad1476a6e99",
   "metadata": {
    "tags": []
   },
   "outputs": [
    {
     "data": {
      "text/plain": [
       "1.0"
      ]
     },
     "execution_count": 61,
     "metadata": {},
     "output_type": "execute_result"
    }
   ],
   "source": [
    "# Get the standard deviation of numpy arary\n",
    "\n",
    "standard_deviation  = a.std()\n",
    "standard_deviation"
   ]
  },
  {
   "cell_type": "code",
   "execution_count": 62,
   "id": "130fa068-6c65-4123-866a-3a0da03800d6",
   "metadata": {
    "tags": []
   },
   "outputs": [
    {
     "data": {
      "text/plain": [
       "array([-1,  2,  3,  4,  5])"
      ]
     },
     "execution_count": 62,
     "metadata": {},
     "output_type": "execute_result"
    }
   ],
   "source": [
    "# Create a numpy array \n",
    "\n",
    "b = np.array([-1,2,3,4,5])\n",
    "b"
   ]
  },
  {
   "cell_type": "code",
   "execution_count": 63,
   "id": "22f10f38-4f1b-4526-bd6b-dd1eb90c3c92",
   "metadata": {
    "tags": []
   },
   "outputs": [
    {
     "data": {
      "text/plain": [
       "5"
      ]
     },
     "execution_count": 63,
     "metadata": {},
     "output_type": "execute_result"
    }
   ],
   "source": [
    "# Get the biggst value in the numpy array\n",
    "\n",
    "max_b =b.max()\n",
    "max_b"
   ]
  },
  {
   "cell_type": "code",
   "execution_count": 64,
   "id": "785addbd-5b62-4e30-b07e-d1045258ba5b",
   "metadata": {
    "tags": []
   },
   "outputs": [
    {
     "data": {
      "text/plain": [
       "-1"
      ]
     },
     "execution_count": 64,
     "metadata": {},
     "output_type": "execute_result"
    }
   ],
   "source": [
    "# Get the smallest value in the numpy array\n",
    "min_b = b.min()\n",
    "min_b"
   ]
  },
  {
   "cell_type": "markdown",
   "id": "8d14110d-f1a3-4c49-b2de-68a6e12d05c7",
   "metadata": {},
   "source": [
    "#### Try it yourself\n",
    "\n",
    "Fin the sum of maximum and minimum value in the given numpy array"
   ]
  },
  {
   "cell_type": "code",
   "execution_count": 66,
   "id": "98b463fe-0e1d-491b-86a0-20bfd8f88005",
   "metadata": {
    "tags": []
   },
   "outputs": [
    {
     "data": {
      "text/plain": [
       "array([-10, 201,  43,  94, 502])"
      ]
     },
     "execution_count": 66,
     "metadata": {},
     "output_type": "execute_result"
    }
   ],
   "source": [
    "c = np.array([-10,201,43,94,502])\n",
    "c"
   ]
  },
  {
   "cell_type": "code",
   "execution_count": 67,
   "id": "ca625deb-45e4-4671-81bc-5ba228660b1c",
   "metadata": {
    "tags": []
   },
   "outputs": [
    {
     "data": {
      "text/plain": [
       "492"
      ]
     },
     "execution_count": 67,
     "metadata": {},
     "output_type": "execute_result"
    }
   ],
   "source": [
    "max_x =c.max()\n",
    "min_x = c.min()\n",
    "\n",
    "sum=max_x+min_x\n",
    "sum"
   ]
  },
  {
   "cell_type": "markdown",
   "id": "b6563696-8a26-42bb-a02b-11337aba4324",
   "metadata": {},
   "source": [
    "#### Numpy Array Operations\n",
    "\n",
    "You could use arithmetic operators directly between NumPy arrays"
   ]
  },
  {
   "cell_type": "markdown",
   "id": "93ab0df0-f1f2-4caf-93b2-a5f37699ec0d",
   "metadata": {},
   "source": [
    "#### Array Addition\n",
    "\n",
    "Consider the mupy array <code>u</code>:"
   ]
  },
  {
   "cell_type": "code",
   "execution_count": 70,
   "id": "f615ac8b-74a0-4df9-b7e3-87fa4effb061",
   "metadata": {
    "tags": []
   },
   "outputs": [
    {
     "data": {
      "text/plain": [
       "array([1, 0])"
      ]
     },
     "execution_count": 70,
     "metadata": {},
     "output_type": "execute_result"
    }
   ],
   "source": [
    "u = np.array([1,0])\n",
    "u"
   ]
  },
  {
   "cell_type": "markdown",
   "id": "eb5f2db6-23fe-4d7d-a137-b7a0ec3bc2de",
   "metadata": {},
   "source": [
    "Consider the mupy array <code>v</code>:"
   ]
  },
  {
   "cell_type": "code",
   "execution_count": 72,
   "id": "22606f34-5a9b-42d8-84ed-a6356f313d06",
   "metadata": {
    "tags": []
   },
   "outputs": [
    {
     "data": {
      "text/plain": [
       "array([0, 1])"
      ]
     },
     "execution_count": 72,
     "metadata": {},
     "output_type": "execute_result"
    }
   ],
   "source": [
    "v = np.array([0,1])\n",
    "v"
   ]
  },
  {
   "cell_type": "markdown",
   "id": "4a25dbba-0b23-4ee0-95d5-685b01bea68a",
   "metadata": {},
   "source": [
    "We can add the two arrays and assign it to z:"
   ]
  },
  {
   "cell_type": "code",
   "execution_count": 74,
   "id": "45c7c49e-a92a-4e8f-ae99-360223cfb7ab",
   "metadata": {
    "tags": []
   },
   "outputs": [
    {
     "data": {
      "text/plain": [
       "array([1, 1])"
      ]
     },
     "execution_count": 74,
     "metadata": {},
     "output_type": "execute_result"
    }
   ],
   "source": [
    "# Numpy array addition\n",
    "\n",
    "z = np.add(u,v)\n",
    "z"
   ]
  },
  {
   "cell_type": "markdown",
   "id": "42782f84-ebb3-4098-806f-5ab779c4d951",
   "metadata": {},
   "source": [
    "The operation is equivalent to vector addition:"
   ]
  },
  {
   "cell_type": "code",
   "execution_count": 76,
   "id": "e89baf67-e318-4b4d-be37-bde3860c5703",
   "metadata": {
    "tags": []
   },
   "outputs": [],
   "source": [
    "# Plotting functions\n",
    "\n",
    "import time\n",
    "import sys\n",
    "import numpy as np\n",
    "\n",
    "import matplotlib.pyplot as plt"
   ]
  },
  {
   "cell_type": "code",
   "execution_count": 77,
   "id": "c4ebbf7f-6edd-404a-8759-dd86e4a81a01",
   "metadata": {
    "tags": []
   },
   "outputs": [],
   "source": [
    "def Plotvec1(u, z, v):\n",
    "    \n",
    "    ax = plt.axes() # to generate the full window axes\n",
    "    ax.arrow(0, 0, *u, head_width=0.05, color='r', head_length=0.1)# Add an arrow to the  U Axes with arrow head width 0.05, color red and arrow head length 0.1\n",
    "    plt.text(*(u + 0.1), 'u')#Adds the text u to the Axes \n",
    "    \n",
    "    ax.arrow(0, 0, *v, head_width=0.05, color='b', head_length=0.1)# Add an arrow to the  v Axes with arrow head width 0.05, color red and arrow head length 0.1\n",
    "    plt.text(*(v + 0.1), 'v')#Adds the text v to the Axes \n",
    "    \n",
    "    ax.arrow(0, 0, *z, head_width=0.05, head_length=0.1)\n",
    "    plt.text(*(z + 0.1), 'z')#Adds the text z to the Axes \n",
    "    plt.ylim(-2, 2)#set the ylim to bottom(-2), top(2)\n",
    "    plt.xlim(-2, 2)#set the xlim to left(-2), right(2)\n"
   ]
  },
  {
   "cell_type": "code",
   "execution_count": 78,
   "id": "50fc68b4-dd43-4fe2-b969-1b95f37f8a5d",
   "metadata": {
    "tags": []
   },
   "outputs": [
    {
     "data": {
      "image/png": "[encoded data removed]",
      "text/plain": [
       "<Figure size 640x480 with 1 Axes>"
      ]
     },
     "metadata": {},
     "output_type": "display_data"
    }
   ],
   "source": [
    "# Plot numpy arrays\n",
    "\n",
    "Plotvec1(u,z,v)"
   ]
  },
  {
   "cell_type": "markdown",
   "id": "69aeacd3-b1a9-4c7d-9516-19e142bc8c4c",
   "metadata": {
    "tags": []
   },
   "source": [
    "#### Try it yourself\n",
    "\n",
    "Perfor addition operation on the given numpy array"
   ]
  },
  {
   "cell_type": "code",
   "execution_count": 80,
   "id": "e88eaf66-96b9-42cf-bcc2-b310c64b18dc",
   "metadata": {
    "tags": []
   },
   "outputs": [
    {
     "data": {
      "text/plain": [
       "array([30, 32, 34, 36, 38, 40])"
      ]
     },
     "execution_count": 80,
     "metadata": {},
     "output_type": "execute_result"
    }
   ],
   "source": [
    "arr1 = np.array([10,11,12,13,14,15])\n",
    "arr2 =np.array([20,21,22,23,24,25])\n",
    "\n",
    "np.add(arr1,arr2)"
   ]
  },
  {
   "cell_type": "markdown",
   "id": "c2a57e36-1eba-4a9b-b498-bf722335e7a5",
   "metadata": {},
   "source": [
    "#### Array Substraction\n",
    "\n",
    "Consider the numpy array a:"
   ]
  },
  {
   "cell_type": "code",
   "execution_count": 82,
   "id": "d619c103-fb13-4f8e-936f-e79242b654ff",
   "metadata": {
    "tags": []
   },
   "outputs": [
    {
     "data": {
      "text/plain": [
       "array([10, 20, 30])"
      ]
     },
     "execution_count": 82,
     "metadata": {},
     "output_type": "execute_result"
    }
   ],
   "source": [
    "a = np.array([10,20,30])\n",
    "a"
   ]
  },
  {
   "cell_type": "markdown",
   "id": "aa21a3a5-aef0-4374-90d9-b9b2dc794500",
   "metadata": {},
   "source": [
    "Consider the numpy array b:"
   ]
  },
  {
   "cell_type": "code",
   "execution_count": 84,
   "id": "fa1fb2c1-d000-4690-8d1b-ce68f9d87153",
   "metadata": {
    "tags": []
   },
   "outputs": [
    {
     "data": {
      "text/plain": [
       "array([ 5, 10, 15])"
      ]
     },
     "execution_count": 84,
     "metadata": {},
     "output_type": "execute_result"
    }
   ],
   "source": [
    "b = np.array([5,10,15])\n",
    "b"
   ]
  },
  {
   "cell_type": "markdown",
   "id": "0240d205-b266-42d1-9faa-3c0bc0195500",
   "metadata": {},
   "source": [
    "We can substract tthe two arrays and assing it to c:"
   ]
  },
  {
   "cell_type": "code",
   "execution_count": 86,
   "id": "e36c0b53-ce28-43c6-b25e-23843cb5db07",
   "metadata": {
    "tags": []
   },
   "outputs": [
    {
     "data": {
      "text/plain": [
       "array([ 5, 10, 15])"
      ]
     },
     "execution_count": 86,
     "metadata": {},
     "output_type": "execute_result"
    }
   ],
   "source": [
    "c = np.subtract(a,b)\n",
    "c"
   ]
  },
  {
   "cell_type": "markdown",
   "id": "afeeeb02-1413-4417-b28c-301b94d77005",
   "metadata": {},
   "source": [
    "#### Try it yourself\n",
    "\n",
    "Perform substraction operation on the given numpy array arr1 and arr2:"
   ]
  },
  {
   "cell_type": "code",
   "execution_count": 143,
   "id": "c67a957a-f8a6-45e8-b071-605be533d4cd",
   "metadata": {
    "tags": []
   },
   "outputs": [
    {
     "data": {
      "text/plain": [
       "array([-10,  -1,   8,  17,  25,  35])"
      ]
     },
     "execution_count": 143,
     "metadata": {},
     "output_type": "execute_result"
    }
   ],
   "source": [
    "arr1 = np.array([10,20,30,40,50,60])\n",
    "arr2 = np.array([20,21,22,23,25,25])\n",
    "\n",
    "np.subtract(arr1,arr2)"
   ]
  },
  {
   "cell_type": "markdown",
   "id": "34833402-1043-4541-89d0-0a4e51bd8ed2",
   "metadata": {},
   "source": [
    "#### Array multiplication\n",
    "\n",
    "Consider the vector numpy array <code>y</code>:"
   ]
  },
  {
   "cell_type": "code",
   "execution_count": 146,
   "id": "3c0d8b80-4b3d-4571-89ec-e84a6f1d1217",
   "metadata": {
    "tags": []
   },
   "outputs": [
    {
     "data": {
      "text/plain": [
       "array([1, 2])"
      ]
     },
     "execution_count": 146,
     "metadata": {},
     "output_type": "execute_result"
    }
   ],
   "source": [
    "# Create a numpy array \n",
    "\n",
    "x = np.array([1,2])\n",
    "x"
   ]
  },
  {
   "cell_type": "code",
   "execution_count": 148,
   "id": "f3733846-3464-4f40-b7f6-cda779b77a46",
   "metadata": {
    "tags": []
   },
   "outputs": [
    {
     "data": {
      "text/plain": [
       "array([2, 1])"
      ]
     },
     "execution_count": 148,
     "metadata": {},
     "output_type": "execute_result"
    }
   ],
   "source": [
    "y = np.array([2,1])\n",
    "y"
   ]
  },
  {
   "cell_type": "markdown",
   "id": "499b2b9b-d658-49aa-a23f-3712c51e80ae",
   "metadata": {},
   "source": [
    "We can multiply every element in the array by 2:"
   ]
  },
  {
   "cell_type": "code",
   "execution_count": 151,
   "id": "2359ad26-24b5-4150-9347-65908c371a70",
   "metadata": {
    "tags": []
   },
   "outputs": [
    {
     "data": {
      "text/plain": [
       "array([2, 2])"
      ]
     },
     "execution_count": 151,
     "metadata": {},
     "output_type": "execute_result"
    }
   ],
   "source": [
    "# Numpy Array multiplication\n",
    "\n",
    "z = np.multiply(x,y)\n",
    "z"
   ]
  },
  {
   "cell_type": "markdown",
   "id": "c6b36c0f-24ef-450d-ba50-aa3fe0f3be4d",
   "metadata": {},
   "source": [
    "This is equivalent to multipliying a vector by a scaler:"
   ]
  },
  {
   "cell_type": "markdown",
   "id": "7e77ece4-b7bc-4936-8ad9-1899a5346042",
   "metadata": {},
   "source": [
    "#### Try it yourself\n",
    "\n",
    "Perform multiply operation on the given numy arrayt arr1 and arr2:"
   ]
  },
  {
   "cell_type": "code",
   "execution_count": 155,
   "id": "db015b27-e686-4d6a-b64a-463d0f37507b",
   "metadata": {
    "tags": []
   },
   "outputs": [
    {
     "data": {
      "text/plain": [
       "array([ 20,  20,  60, 120, 200, 300])"
      ]
     },
     "execution_count": 155,
     "metadata": {},
     "output_type": "execute_result"
    }
   ],
   "source": [
    "arr1= np.array([10,20,30,40,50,60])\n",
    "arr2 = np.array([2,1,2,3,4,5])\n",
    "\n",
    "np.multiply(arr1,arr2)"
   ]
  },
  {
   "cell_type": "markdown",
   "id": "4f0bb158-2f26-42db-a895-7c8a8f72dcac",
   "metadata": {},
   "source": [
    "#### Array Division\n",
    "\n",
    "Consider the vector numpy array a and b:"
   ]
  },
  {
   "cell_type": "code",
   "execution_count": 167,
   "id": "9123c626-4906-4aac-b480-b5b193dd64fc",
   "metadata": {
    "tags": []
   },
   "outputs": [
    {
     "name": "stdout",
     "output_type": "stream",
     "text": [
      "[10 20 30]\n",
      "[ 2 10  5]\n"
     ]
    }
   ],
   "source": [
    "a = np.array([10,20,30])\n",
    "b = np.array([2,10,5])\n",
    "print(a)\n",
    "print(b)"
   ]
  },
  {
   "cell_type": "markdown",
   "id": "5c9f0b70-2019-460b-9d72-9e0846c4d581",
   "metadata": {},
   "source": [
    "We can divide the two arrats and asing it to c:"
   ]
  },
  {
   "cell_type": "code",
   "execution_count": 170,
   "id": "8e1d8761-e1d5-4d29-a176-130cb47f3bbf",
   "metadata": {
    "tags": []
   },
   "outputs": [
    {
     "data": {
      "text/plain": [
       "array([5., 2., 6.])"
      ]
     },
     "execution_count": 170,
     "metadata": {},
     "output_type": "execute_result"
    }
   ],
   "source": [
    "c = np.divide(a,b)\n",
    "c"
   ]
  },
  {
   "cell_type": "markdown",
   "id": "28790400-d874-4a75-afdb-51eb8203db6e",
   "metadata": {},
   "source": [
    "#### Try it yourself\n",
    "\n",
    "Perform de division operation on the given numpy array arr1 and arr2:"
   ]
  },
  {
   "cell_type": "code",
   "execution_count": 173,
   "id": "dbdae2e0-6fc4-4641-ab64-f6edff583fde",
   "metadata": {
    "tags": []
   },
   "outputs": [
    {
     "data": {
      "text/plain": [
       "array([ 3.33333333,  4.        ,  3.        ,  5.        , 25.        ,\n",
       "        1.81818182])"
      ]
     },
     "execution_count": 173,
     "metadata": {},
     "output_type": "execute_result"
    }
   ],
   "source": [
    "arr1= np.array([10,20,30,40,50,60])\n",
    "arr2 = np.array([3,5,10,8,2,33])\n",
    "\n",
    "np.divide(arr1,arr2)"
   ]
  },
  {
   "cell_type": "markdown",
   "id": "e7aa09a6-70c7-462a-9c3b-b11d4616df6d",
   "metadata": {},
   "source": [
    "#### Do Product\n",
    "\n",
    "The dot product of the two numpy arrays <code>u</code> and <code>v</code> is given by:"
   ]
  },
  {
   "cell_type": "code",
   "execution_count": 177,
   "id": "9618fd0d-ca84-4087-89a4-5037ff80b017",
   "metadata": {
    "tags": []
   },
   "outputs": [],
   "source": [
    "X = np.array([1,2])\n",
    "Y = np.array([3,2])"
   ]
  },
  {
   "cell_type": "code",
   "execution_count": 179,
   "id": "c208192a-1938-4ec6-95b9-76ead46d70f5",
   "metadata": {
    "tags": []
   },
   "outputs": [
    {
     "data": {
      "text/plain": [
       "7"
      ]
     },
     "execution_count": 179,
     "metadata": {},
     "output_type": "execute_result"
    }
   ],
   "source": [
    "# Calculate the dot product\n",
    "\n",
    "np.dot(X,Y)"
   ]
  },
  {
   "cell_type": "code",
   "execution_count": 181,
   "id": "fd5545a7-a211-41ff-9177-52297b30dd6f",
   "metadata": {
    "tags": []
   },
   "outputs": [
    {
     "name": "stdout",
     "output_type": "stream",
     "text": [
      "1\n",
      "2\n"
     ]
    }
   ],
   "source": [
    "# Elements of X\n",
    "print(X[0])\n",
    "print(X[1])"
   ]
  },
  {
   "cell_type": "code",
   "execution_count": 183,
   "id": "3e1dad1e-339f-49a5-9031-2d0fc232aae6",
   "metadata": {
    "tags": []
   },
   "outputs": [
    {
     "name": "stdout",
     "output_type": "stream",
     "text": [
      "3\n",
      "2\n"
     ]
    }
   ],
   "source": [
    "# Elements of Y\n",
    "print(Y[0])\n",
    "print(Y[1])"
   ]
  },
  {
   "cell_type": "markdown",
   "id": "a068c178-60dd-44ae-89f0-00ee2a836738",
   "metadata": {},
   "source": [
    "#### Try it yourself\n",
    "\n",
    "Perform dot operation on the given numpy array arr1 and arr2:"
   ]
  },
  {
   "cell_type": "code",
   "execution_count": 188,
   "id": "05d16e08-73c9-403d-8fe3-ca6fefe6c5ca",
   "metadata": {
    "tags": []
   },
   "outputs": [
    {
     "data": {
      "text/plain": [
       "26"
      ]
     },
     "execution_count": 188,
     "metadata": {},
     "output_type": "execute_result"
    }
   ],
   "source": [
    "arr1 =np.array([3,5])\n",
    "arr2 = np.array([2,4])\n",
    "\n",
    "np.dot(arr1,arr2)"
   ]
  },
  {
   "cell_type": "markdown",
   "id": "c9c1efc0-44b7-451c-b94a-55cc56888627",
   "metadata": {},
   "source": [
    "#### Adding Constant to a Numpy Array\n",
    "\n",
    "Consider the following array:"
   ]
  },
  {
   "cell_type": "code",
   "execution_count": 191,
   "id": "d96888d5-20f1-4eee-a348-832c81790e22",
   "metadata": {
    "tags": []
   },
   "outputs": [
    {
     "data": {
      "text/plain": [
       "array([ 1,  2,  3, -1])"
      ]
     },
     "execution_count": 191,
     "metadata": {},
     "output_type": "execute_result"
    }
   ],
   "source": [
    "# Create a constant to a numpy array\n",
    "\n",
    "u = np.array([1,2,3,-1])\n",
    "u"
   ]
  },
  {
   "cell_type": "markdown",
   "id": "2aa7bc89-d3ad-4d53-87e9-352b722f2955",
   "metadata": {},
   "source": [
    "Adding the constant 1 to each element in the array:"
   ]
  },
  {
   "cell_type": "code",
   "execution_count": 194,
   "id": "9cd6b2f8-8029-46be-ba45-2864c1edb211",
   "metadata": {
    "tags": []
   },
   "outputs": [
    {
     "data": {
      "text/plain": [
       "array([2, 3, 4, 0])"
      ]
     },
     "execution_count": 194,
     "metadata": {},
     "output_type": "execute_result"
    }
   ],
   "source": [
    "# Add the constant to array\n",
    "\n",
    "u +1"
   ]
  },
  {
   "cell_type": "markdown",
   "id": "24195756-926f-471d-9b4f-f84071a2e534",
   "metadata": {},
   "source": [
    "#### Try it yourself \n",
    "\n",
    "Add constant 5 yo the gven numpy arra arr:"
   ]
  },
  {
   "cell_type": "code",
   "execution_count": 197,
   "id": "bf3f4f73-0c72-4e87-9bcd-bc02c13de025",
   "metadata": {
    "tags": []
   },
   "outputs": [
    {
     "data": {
      "text/plain": [
       "array([6, 7, 8, 4])"
      ]
     },
     "execution_count": 197,
     "metadata": {},
     "output_type": "execute_result"
    }
   ],
   "source": [
    "arr = np.array([1,2,3,-1])\n",
    "\n",
    "arr+5"
   ]
  },
  {
   "cell_type": "markdown",
   "id": "a1ff4f4d-e1e4-4d8e-b41a-64116e53b72d",
   "metadata": {},
   "source": [
    "#### Mathematical Functions\n",
    "\n",
    "We can access the value of <code>pi</code> in numpy as follows:"
   ]
  },
  {
   "cell_type": "code",
   "execution_count": 201,
   "id": "d047563a-65c9-4381-a8cb-6c487ad3f310",
   "metadata": {
    "tags": []
   },
   "outputs": [
    {
     "data": {
      "text/plain": [
       "3.141592653589793"
      ]
     },
     "execution_count": 201,
     "metadata": {},
     "output_type": "execute_result"
    }
   ],
   "source": [
    "# The value of pi\n",
    "\n",
    "np.pi"
   ]
  },
  {
   "cell_type": "markdown",
   "id": "e7ac1335-f050-4959-9f66-597baeecd55e",
   "metadata": {},
   "source": [
    "We can create the following numpy array in radians:"
   ]
  },
  {
   "cell_type": "code",
   "execution_count": 206,
   "id": "074aaf82-072d-4749-9017-23c025480a60",
   "metadata": {
    "tags": []
   },
   "outputs": [
    {
     "data": {
      "text/plain": [
       "array([0.        , 1.57079633, 3.14159265])"
      ]
     },
     "execution_count": 206,
     "metadata": {},
     "output_type": "execute_result"
    }
   ],
   "source": [
    "# Create the numpy array in radians\n",
    "\n",
    "x = np.array([0,np.pi/2,np.pi])\n",
    "x"
   ]
  },
  {
   "cell_type": "markdown",
   "id": "926361da-b89a-475b-ab5f-16af91eb7250",
   "metadata": {},
   "source": [
    "We can apply the function <code>sin</code> to the array <code>x</code> and assign the values to the array <code>y</code>: This applies the sin function to each element in the array:"
   ]
  },
  {
   "cell_type": "code",
   "execution_count": 209,
   "id": "fa8e07f7-d806-48c7-8c58-65d4caab4bcf",
   "metadata": {
    "tags": []
   },
   "outputs": [
    {
     "data": {
      "text/plain": [
       "array([0.0000000e+00, 1.0000000e+00, 1.2246468e-16])"
      ]
     },
     "execution_count": 209,
     "metadata": {},
     "output_type": "execute_result"
    }
   ],
   "source": [
    "# Calculate the sin of each elements\n",
    "\n",
    "y = np.sin(x)\n",
    "y"
   ]
  },
  {
   "cell_type": "markdown",
   "id": "679c1d7d-7084-48aa-b564-1fddf377503b",
   "metadata": {},
   "source": [
    "#### Linspace \n",
    "\n",
    "A useful function for plotting mathematical functions is <code>linspace</code>. Linspace returns evenly spaced numbers over a specified interval.\n",
    "\n",
    "<b>numpy.linspace(start,stop,=int value)</b>\n",
    "\n",
    "start: Start of interval range\n",
    "\n",
    "stop: end of interval range\n",
    "\n",
    "num: number of samples to generate."
   ]
  },
  {
   "cell_type": "code",
   "execution_count": 216,
   "id": "bb78a1e0-db43-481d-8d30-50edbd949f1c",
   "metadata": {
    "tags": []
   },
   "outputs": [
    {
     "data": {
      "text/plain": [
       "array([-2., -1.,  0.,  1.,  2.])"
      ]
     },
     "execution_count": 216,
     "metadata": {},
     "output_type": "execute_result"
    }
   ],
   "source": [
    "# Makeup a numpy arrat within [-2,2] and 5 elements\n",
    "\n",
    "np.linspace(-2,2,num=5)"
   ]
  },
  {
   "cell_type": "markdown",
   "id": "47e2c35e-5df9-4453-a0ee-3a09bdd2cfe1",
   "metadata": {},
   "source": [
    "If we change the parameter <code>num</code> to 9, we get 9 evenly spaced numbers over the interval from -2 to 2:"
   ]
  },
  {
   "cell_type": "code",
   "execution_count": 219,
   "id": "521a4ee9-cd85-4ba7-a37b-d64946ae39d1",
   "metadata": {
    "tags": []
   },
   "outputs": [
    {
     "data": {
      "text/plain": [
       "array([-2. , -1.5, -1. , -0.5,  0. ,  0.5,  1. ,  1.5,  2. ])"
      ]
     },
     "execution_count": 219,
     "metadata": {},
     "output_type": "execute_result"
    }
   ],
   "source": [
    "# makeup a numpy array within [-2,2] and 9 elements\n",
    "\n",
    "np.linspace(-2,2,num=9)"
   ]
  },
  {
   "cell_type": "markdown",
   "id": "bafe3e55-81a3-4045-94bf-749b041a6d6d",
   "metadata": {},
   "source": [
    "We can apply the sine function to each element in the array <code>x</code> and assign it to the aray <code>y</code>"
   ]
  },
  {
   "cell_type": "code",
   "execution_count": 224,
   "id": "47a1bd15-717a-4e6c-8440-1893950ed0cf",
   "metadata": {
    "tags": []
   },
   "outputs": [
    {
     "data": {
      "text/plain": [
       "array([0.0000000e+00, 1.0000000e+00, 1.2246468e-16])"
      ]
     },
     "execution_count": 224,
     "metadata": {},
     "output_type": "execute_result"
    }
   ],
   "source": [
    "# Calculate the sine of x list \n",
    "\n",
    "y = np.sin(x)\n",
    "y"
   ]
  },
  {
   "cell_type": "code",
   "execution_count": 226,
   "id": "440a10d2-2e19-46e0-ab2f-8926dc1af987",
   "metadata": {
    "tags": []
   },
   "outputs": [
    {
     "data": {
      "text/plain": [
       "[<matplotlib.lines.Line2D at 0x271eb101250>]"
      ]
     },
     "execution_count": 226,
     "metadata": {},
     "output_type": "execute_result"
    },
    {
     "data": {
      "image/png": "[encoded data removed]",
      "text/plain": [
       "<Figure size 640x480 with 1 Axes>"
      ]
     },
     "metadata": {},
     "output_type": "display_data"
    }
   ],
   "source": [
    "# Plot the result \n",
    "\n",
    "plt.plot(x,y)"
   ]
  },
  {
   "cell_type": "markdown",
   "id": "9a7e4519-fd43-4fd4-8749-5b26603e1d4f",
   "metadata": {},
   "source": [
    "#### Try it yourself \n",
    "\n",
    "Make a numpy array within [5,4] and 5 elements"
   ]
  },
  {
   "cell_type": "code",
   "execution_count": 235,
   "id": "e4de8758-98da-43d1-9e14-08878708505a",
   "metadata": {
    "tags": []
   },
   "outputs": [
    {
     "data": {
      "text/plain": [
       "array([5. , 4.8, 4.6, 4.4, 4.2, 4. ])"
      ]
     },
     "execution_count": 235,
     "metadata": {},
     "output_type": "execute_result"
    }
   ],
   "source": [
    "# Enter your code here\n",
    "\n",
    "np.linspace(5,4,num=6)"
   ]
  },
  {
   "cell_type": "markdown",
   "id": "3be9850e-57dc-4a9a-bfd7-0420eec57665",
   "metadata": {},
   "source": [
    "#### Iterating 1-D Arrays\n",
    "\n",
    "Iteratin means going through elements one by one.\n",
    "\n",
    "If we iterate on a 1-D array it will go through each element one by one.\n",
    "\n",
    "If we execute the numpy array, we get in the array format"
   ]
  },
  {
   "cell_type": "code",
   "execution_count": 238,
   "id": "a501c24c-b69a-42f8-a5de-98aac51bd8b4",
   "metadata": {
    "tags": []
   },
   "outputs": [
    {
     "name": "stdout",
     "output_type": "stream",
     "text": [
      "[1 2 3]\n"
     ]
    }
   ],
   "source": [
    "arr1 = np.array([1,2,3])\n",
    "print(arr1)"
   ]
  },
  {
   "cell_type": "markdown",
   "id": "661eff34-a825-45db-8df8-a52395fb1fbb",
   "metadata": {},
   "source": [
    "But if you want to result in the form of the list, then you can use for loop:"
   ]
  },
  {
   "cell_type": "code",
   "execution_count": 242,
   "id": "9a344ff4-b028-43e0-bd75-b0442b64cacb",
   "metadata": {
    "tags": []
   },
   "outputs": [
    {
     "name": "stdout",
     "output_type": "stream",
     "text": [
      "1\n",
      "2\n",
      "3\n"
     ]
    }
   ],
   "source": [
    "for x in arr1:\n",
    "    print(x)"
   ]
  }
 ],
 "metadata": {
  "kernelspec": {
   "display_name": "Python 3 (ipykernel)",
   "language": "python",
   "name": "python3"
  },
  "language_info": {
   "codemirror_mode": {
    "name": "ipython",
    "version": 3
   },
   "file_extension": ".py",
   "mimetype": "text/x-python",
   "name": "python",
   "nbconvert_exporter": "python",
   "pygments_lexer": "ipython3",
   "version": "3.11.7"
  }
 },
 "nbformat": 4,
 "nbformat_minor": 5
}
