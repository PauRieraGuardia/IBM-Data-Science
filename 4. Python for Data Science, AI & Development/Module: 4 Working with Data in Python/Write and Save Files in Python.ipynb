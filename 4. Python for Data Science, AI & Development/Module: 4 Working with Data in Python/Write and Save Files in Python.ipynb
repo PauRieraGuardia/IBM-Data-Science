{
 "cells": [
  {
   "cell_type": "markdown",
   "id": "f14775a0-6635-42c5-bb1a-e77545c093d9",
   "metadata": {},
   "source": [
    "### Write an Save Files in Python\n",
    "\n",
    "#### Writing files\n",
    "\n",
    "We can open a file object using the method <code>write()</code> to save the text file to a list. To write to a file, the mode argument must be set to <b>w</b>. Let's writ a file <b>Example2.txt</b> with the line <b>This is line A</b>"
   ]
  },
  {
   "cell_type": "code",
   "execution_count": 13,
   "id": "17d5684e-973e-4484-a52a-eea20f2d13da",
   "metadata": {
    "tags": []
   },
   "outputs": [],
   "source": [
    "# Write line to file\n",
    "\n",
    "Example2 = \"C:/Users/pauri/OneDrive/Escritorio/example2.txt\"\n",
    "with open(Example2,\"w\") as writefile:\n",
    "    writefile.write(\"This is line A\")\n"
   ]
  },
  {
   "cell_type": "markdown",
   "id": "7e51aeaa-3f81-46c2-8bd7-f94e569cad29",
   "metadata": {},
   "source": [
    "We can read the file to see if it worked:"
   ]
  },
  {
   "cell_type": "code",
   "execution_count": 16,
   "id": "c67cb831-8034-48b9-b718-e3cc9ed9722c",
   "metadata": {
    "tags": []
   },
   "outputs": [
    {
     "name": "stdout",
     "output_type": "stream",
     "text": [
      "This is line A\n"
     ]
    }
   ],
   "source": [
    "# Read file \n",
    "\n",
    "with open(Example2, \"r\") as testwritefile:\n",
    "    print(testwritefile.read())"
   ]
  },
  {
   "cell_type": "markdown",
   "id": "08342706-d845-4073-8c28-e322928d43cb",
   "metadata": {},
   "source": [
    "We can write multiplie lines:"
   ]
  },
  {
   "cell_type": "code",
   "execution_count": 25,
   "id": "c2f985b9-af5a-44d8-8888-f501db67cb89",
   "metadata": {
    "tags": []
   },
   "outputs": [],
   "source": [
    "# Write lines to file \n",
    "\n",
    "with open(Example2, \"w\") as writefile:\n",
    "    writefile.write(\"This is line A\\n\")\n",
    "    writefile.write(\"This is line B\\n\")"
   ]
  },
  {
   "cell_type": "markdown",
   "id": "b3491aa8-82e9-40c4-85e5-162de9e22124",
   "metadata": {},
   "source": [
    "The method <code>.write()</code> works similar to the method <code>readline()</code>, except isntead of reading a new line it write a new line. You can check the file to see if your results are correct"
   ]
  },
  {
   "cell_type": "code",
   "execution_count": 31,
   "id": "d8e430dd-8ab0-4c79-8c51-3f0edaa7105c",
   "metadata": {
    "tags": []
   },
   "outputs": [
    {
     "name": "stdout",
     "output_type": "stream",
     "text": [
      "This is line A\n",
      "This is line B\n",
      "\n"
     ]
    }
   ],
   "source": [
    "with open(Example2,\"r\") as testwritefile:\n",
    "    print(testwritefile.read())"
   ]
  },
  {
   "cell_type": "markdown",
   "id": "01f15381-9bae-4052-83ad-a7c0d9db52c9",
   "metadata": {},
   "source": [
    "We write a list to a <b>.text</b> file as follows:"
   ]
  },
  {
   "cell_type": "code",
   "execution_count": 71,
   "id": "ec7b8698-d140-4a07-9b46-9595767ac4ab",
   "metadata": {
    "tags": []
   },
   "outputs": [
    {
     "data": {
      "text/plain": [
       "['This is line A \\n', 'This is line B \\n', 'This is line C\\n']"
      ]
     },
     "execution_count": 71,
     "metadata": {},
     "output_type": "execute_result"
    }
   ],
   "source": [
    "# Sample list of text\n",
    "\n",
    "Lines = [\"This is line A \\n\",\"This is line B \\n\", \"This is line C\\n\"]\n",
    "Lines"
   ]
  },
  {
   "cell_type": "code",
   "execution_count": 75,
   "id": "7aa8de8b-e91f-4be6-adb4-d7cd8f9b0033",
   "metadata": {
    "tags": []
   },
   "outputs": [
    {
     "name": "stdout",
     "output_type": "stream",
     "text": [
      "This is line A \n",
      "\n",
      "This is line B \n",
      "\n",
      "This is line C\n",
      "\n"
     ]
    }
   ],
   "source": [
    "# Write the strings in the list to text file\n",
    "\n",
    "with open(Example2,\"w\")as writefile:\n",
    "    for line in Lines:\n",
    "        print(line)\n",
    "        writefile.write(line)"
   ]
  },
  {
   "cell_type": "markdown",
   "id": "10ec8401-0eac-4ae5-9846-32828a03d4c2",
   "metadata": {},
   "source": [
    "We can verify the file is written by reading it and printing put the values:"
   ]
  },
  {
   "cell_type": "code",
   "execution_count": 77,
   "id": "c2dcb96e-468b-4d20-a51d-bd9898101ba0",
   "metadata": {
    "tags": []
   },
   "outputs": [
    {
     "name": "stdout",
     "output_type": "stream",
     "text": [
      "This is line A \n",
      "This is line B \n",
      "This is line C\n",
      "\n"
     ]
    }
   ],
   "source": [
    "# Verify if writting to file is successfully executed\n",
    "\n",
    "with open(Example2, 'r') as testwritefile:\n",
    "    print(testwritefile.read())"
   ]
  },
  {
   "cell_type": "markdown",
   "id": "ca019182-bc98-4aff-9d94-b38f9416a229",
   "metadata": {},
   "source": [
    "### Appending files \n",
    "\n",
    "We can write to files wothout losing any of the existing data as follows by setting the mode argument to append: <b>a</b> you can append a new line as follows:"
   ]
  },
  {
   "cell_type": "code",
   "execution_count": 81,
   "id": "8aca712f-e984-4885-9b4d-36ec9801618a",
   "metadata": {
    "tags": []
   },
   "outputs": [],
   "source": [
    "# Write a new line to text file\n",
    "\n",
    "with open (Example2, \"a\") as testwritefile:\n",
    "    testwritefile.write(\"This is line C\\n\")\n",
    "    testwritefile.write(\"This is line D\\n\")\n",
    "    testwritefile.write(\"This is line E\\n\")\n",
    "    "
   ]
  },
  {
   "cell_type": "markdown",
   "id": "d12874dd-944f-4299-83fa-87adbac617db",
   "metadata": {},
   "source": [
    "You can verify the file has changed by running the following cell:"
   ]
  },
  {
   "cell_type": "code",
   "execution_count": 83,
   "id": "2980d641-8a36-4855-8ef6-f4bd56650781",
   "metadata": {
    "tags": []
   },
   "outputs": [
    {
     "name": "stdout",
     "output_type": "stream",
     "text": [
      "This is line A \n",
      "This is line B \n",
      "This is line C\n",
      "This is line C\n",
      "This is line D\n",
      "This is line E\n",
      "This is line C\n",
      "This is line D\n",
      "This is line E\n",
      "\n"
     ]
    }
   ],
   "source": [
    "# Verify if the new line is in the text file\n",
    "\n",
    "with open (Example2,\"r\") as testwritefile:\n",
    "    print(testwritefile.read())"
   ]
  },
  {
   "cell_type": "markdown",
   "id": "e09294b3-75a3-4471-8cc4-8d643c4a1f01",
   "metadata": {},
   "source": [
    "### Additional modes \n",
    "\n",
    "It's fairly inefficient to open the file i<b>a</b> or <b>w</b> and then reopening it in <b>r</b> to read any lines. Luckily we can access the file in the following modes:\n",
    "\n",
    "* <b>r+</b>: Reading and writing. Cannot truncate the file.\n",
    "* <b>w+</b>: Writing and reading. Truncate the file\n",
    "* <b>a</b>: Appending and Reading. Creates a new file, if none exists.\n",
    "\n",
    "Let's tru out the <b>a+</b> mode:"
   ]
  },
  {
   "cell_type": "code",
   "execution_count": 94,
   "id": "406ddf4e-2339-47c5-ad74-51f646446a12",
   "metadata": {
    "tags": []
   },
   "outputs": [
    {
     "name": "stdout",
     "output_type": "stream",
     "text": [
      "\n"
     ]
    }
   ],
   "source": [
    "with open (Example2, \"a+\") as testwritefile:\n",
    "           testwritefile.write(\"This is line E\\n\")\n",
    "           print(testwritefile.read())"
   ]
  },
  {
   "cell_type": "markdown",
   "id": "2eb37be8-77d9-482c-a013-d068d8cd2d50",
   "metadata": {},
   "source": [
    "There were no erros but <code>read(</code> also did not output anything. This is beacuse of our location un the file.\n",
    "\n",
    "Most of the file methods we've looked at work in a certain location in the file. <code>.write() </code> writes at a certain location in the file. <code>.read()</code> reads at a certain location in the file and so on. You can think of this as moving your pointer around in the notepad to make changes at specific location.\n",
    "\n",
    "Opening the file in <b>w</b>is akin to opening the .txt file, moving your cursor to the beginning of the text file, writing new text and deleting everything that follows.\n",
    "Whereas opening the file in **a** is similiar to opening the .txt file, moving your cursor to the very end and then adding the new pieces of text. <br>\n",
    "It is often very useful to know where the 'cursor' is in a file and be able to control it. The following methods allow us to do precisely this -\n",
    "- <code>.tell()</code> - returns the current position in bytes\n",
    "- <code>.seek(offset,from)</code> - changes the position by 'offset' bytes with respect to 'from'. From can take the value of 0,1,2 corresponding to beginning, relative to current position and end\n",
    "\n",
    "Now lets revisit **a+**\n"
   ]
  },
  {
   "cell_type": "code",
   "execution_count": 103,
   "id": "3a86d370-79ba-41d9-b0c8-01b74f34138b",
   "metadata": {
    "tags": []
   },
   "outputs": [
    {
     "name": "stdout",
     "output_type": "stream",
     "text": [
      "Initial Location: 162\n",
      "Read nothing\n",
      "\n",
      "New Location : 0\n",
      "This is line A \n",
      "This is line B \n",
      "This is line C\n",
      "This is line C\n",
      "This is line D\n",
      "This is line E\n",
      "This is line C\n",
      "This is line D\n",
      "This is line E\n",
      "This is line E\n",
      "\n",
      "Location after read: 162\n"
     ]
    }
   ],
   "source": [
    "with open(Example2, 'a+') as testwritefile:\n",
    "    print(\"Initial Location: {}\".format(testwritefile.tell()))\n",
    "    \n",
    "    data = testwritefile.read()\n",
    "    if (not data):  #empty strings return false in python\n",
    "            print('Read nothing') \n",
    "    else: with open('/Example2.txt', 'r+') as testwritefile:\n",
    "    testwritefile.seek(0,0) #write at beginning of file\n",
    "    testwritefile.write(\"Line 1\" + \"\\n\")\n",
    "    testwritefile.write(\"Line 2\" + \"\\n\")\n",
    "    testwritefile.write(\"Line 3\" + \"\\n\")\n",
    "    testwritefile.write(\"Line 4\" + \"\\n\")\n",
    "    testwritefile.write(\"finished\\n\")\n",
    "    #Uncomment the line below\n",
    "    testwritefile.truncate()\n",
    "    testwritefile.seek(0,0)\n",
    "    print(testwritefile.read())\n",
    "    \n",
    "            print(testwritefile.read())\n",
    "            \n",
    "    testwritefile.seek(0,0) # move 0 bytes from beginning.\n",
    "    \n",
    "    print(\"\\nNew Location : {}\".format(testwritefile.tell()))\n",
    "    data = testwritefile.read()\n",
    "    if (not data): \n",
    "            print('Read nothing') \n",
    "    else: \n",
    "            print(data)\n",
    "    \n",
    "    print(\"Location after read: {}\".format(testwritefile.tell()) )"
   ]
  },
  {
   "cell_type": "markdown",
   "id": "d0ab15a9-ac74-4326-9ff4-13f276a8e694",
   "metadata": {},
   "source": [
    "Finally, a note on the difference between **w+** and **r+**. Both of these modes allow access to read and write methods, however, opening a file in **w+** overwrites it and deletes all pre-existing data. <br>\n",
    "\n",
    "In the following code block, Run the code as it is first and then run it without the <code>.truncate()</code>."
   ]
  },
  {
   "cell_type": "code",
   "execution_count": 110,
   "id": "793c66f6-d4da-41b6-8c85-0372ac779e7a",
   "metadata": {
    "tags": []
   },
   "outputs": [
    {
     "name": "stdout",
     "output_type": "stream",
     "text": [
      "Line 1\n",
      "Line 2\n",
      "Line 3\n",
      "Line 4\n",
      "finished\n",
      "\n"
     ]
    }
   ],
   "source": [
    "with open(Example2, 'r+') as testwritefile:\n",
    "    testwritefile.seek(0,0) #write at beginning of file\n",
    "    testwritefile.write(\"Line 1\" + \"\\n\")\n",
    "    testwritefile.write(\"Line 2\" + \"\\n\")\n",
    "    testwritefile.write(\"Line 3\" + \"\\n\")\n",
    "    testwritefile.write(\"Line 4\" + \"\\n\")\n",
    "    testwritefile.write(\"finished\\n\")\n",
    "    #Uncomment the line below\n",
    "    testwritefile.truncate()\n",
    "    testwritefile.seek(0,0)\n",
    "    print(testwritefile.read())\n",
    "    "
   ]
  },
  {
   "cell_type": "markdown",
   "id": "e0f0c99f-d139-4c92-b73c-96552f402b3c",
   "metadata": {},
   "source": [
    "### Copy a File\n",
    "\n",
    "Let's copy the file <b> Example2.txt</b> to the file <b>Example3.txt</b>"
   ]
  },
  {
   "cell_type": "code",
   "execution_count": 118,
   "id": "cd17197e-3ea0-4fde-9282-e293db2eb83f",
   "metadata": {
    "tags": []
   },
   "outputs": [],
   "source": [
    "# Copy file to another \n",
    "Example3 = \"C:/Users/pauri/OneDrive/Escritorio/example3.txt\"\n",
    "\n",
    "with open (Example2,\"r\") as readfile:\n",
    "    with open(Example3,\"w\") as writefile:\n",
    "        for line in readfile:\n",
    "            writefile.write(line)"
   ]
  },
  {
   "cell_type": "markdown",
   "id": "9903b5b6-9411-4391-bfcc-5f9570ce6f30",
   "metadata": {},
   "source": [
    "We can read the file to see if everything works:"
   ]
  },
  {
   "cell_type": "code",
   "execution_count": 120,
   "id": "8939d015-7774-41f5-af0f-732d71f339e9",
   "metadata": {
    "tags": []
   },
   "outputs": [
    {
     "name": "stdout",
     "output_type": "stream",
     "text": [
      "Line 1\n",
      "Line 2\n",
      "Line 3\n",
      "Line 4\n",
      "finished\n",
      "\n"
     ]
    }
   ],
   "source": [
    "with open (Example3, \"r\") as testwritefile:\n",
    "    print(testwritefile.read())"
   ]
  },
  {
   "cell_type": "markdown",
   "id": "c6758b6c-d122-4cf5-bed1-0b2f67217b89",
   "metadata": {},
   "source": [
    "After reading gile, we can also write data into and save them in different file formats like <b> .txt, .cv¡sv, .xls(for excel files)etc</b>. You will come across these in further examples."
   ]
  },
  {
   "cell_type": "markdown",
   "id": "9d74eef7-528f-49b7-9d5d-eeb0eb7a94ca",
   "metadata": {},
   "source": [
    "### Exercise\n",
    "\n",
    "Your local university's Raptos fan club maintains a register of its active members on a .txt docuemnt. Ecvery month they udate the file by removing the members who are not active. You have been tasked with automating this with yout Python skills. \n",
    "\n",
    "Given the file <code>currentMem</code>,Remove each member with a \"no\" in their Active column. Keep rtrack of each of the removed members and append them to the <code>exMem</code> file. Make sure that the format of the original files in preserved. Ruc the code block below pripor to startinf the excercise. Edit only the <code>cleanFiles<Code> function."
   ]
  },
  {
   "cell_type": "code",
   "execution_count": null,
   "id": "3803d895-1c4f-4021-b680-c171c1971350",
   "metadata": {},
   "outputs": [],
   "source": []
  }
 ],
 "metadata": {
  "kernelspec": {
   "display_name": "Python 3 (ipykernel)",
   "language": "python",
   "name": "python3"
  },
  "language_info": {
   "codemirror_mode": {
    "name": "ipython",
    "version": 3
   },
   "file_extension": ".py",
   "mimetype": "text/x-python",
   "name": "python",
   "nbconvert_exporter": "python",
   "pygments_lexer": "ipython3",
   "version": "3.11.7"
  }
 },
 "nbformat": 4,
 "nbformat_minor": 5
}
