{
 "cells": [
  {
   "cell_type": "markdown",
   "id": "5f1ddafb-796f-4935-acf5-15d2b57887a6",
   "metadata": {},
   "source": [
    "### Selecting Data in a DataFrame"
   ]
  },
  {
   "cell_type": "markdown",
   "id": "04832e9b-2ebb-4083-bafe-f05e58d4dba0",
   "metadata": {},
   "source": [
    "#### Exercise 1: Pandas: DataFrame and Series\n",
    "\n",
    "<b>Pandas</b> is a popular library for data analysis built on top of the Python programming language. Pandas generally provide two data structures for manipulaiting data, Ther are:\n",
    "* DataFrame\n",
    "* Series \n",
    "\n",
    "A <b>DataFrame</b> is a two-dimensional data structure\n",
    "\n",
    "* A Pandas DataFrame will be created by loading the datasetas from existing storage.\n",
    "* Storage can be SQL Database, CSV file, Excel file, etx.\n",
    "* It can also be created from the lists, dictionaries, and from list of dictionaries.\n",
    "\n",
    "<b>Series</b> represents a one-dimensional array of indexed data. It has two main components:\n",
    "1. An array of actual data.\n",
    "2. An associated arrof if indexes or data lables.\n",
    "\n",
    "The index is used to access individual data values. You can also get a column of a dataframe as a <b>Series</b>. You can think of a Pandas series as a 1-D dataframe."
   ]
  },
  {
   "cell_type": "code",
   "execution_count": 6,
   "id": "00883941-b7f7-4d52-b70a-42bf3f1f08f4",
   "metadata": {
    "tags": []
   },
   "outputs": [],
   "source": [
    "# let us import the Pandas Library\n",
    "import pandas as pd"
   ]
  },
  {
   "cell_type": "markdown",
   "id": "70517e29-a9d6-4436-8558-5b7d94bbafa2",
   "metadata": {},
   "source": [
    "Once you've importend pandas, you can then use the functions built in it to create an analyze data.\n",
    "\n",
    "Let use consider a dictionary \"x\" with keys and values as shown beloe.\n",
    "\n",
    "We then create a datafram from the dictionary using the function pd.DataFrame(dict)"
   ]
  },
  {
   "cell_type": "code",
   "execution_count": 43,
   "id": "c7eb87db-2ce8-4802-bd4c-3521752984a6",
   "metadata": {
    "tags": []
   },
   "outputs": [
    {
     "data": {
      "text/plain": [
       "{'Name': ['Rose', 'John', 'Jane', 'Mary'],\n",
       " 'ID': [1, 2, 3, 4],\n",
       " 'Deparment': ['Architect Group',\n",
       "  'Sotfware Group',\n",
       "  'Desing Group',\n",
       "  'Infrastructure'],\n",
       " 'Salary': [100000, 80000, 50000, 60000]}"
      ]
     },
     "execution_count": 43,
     "metadata": {},
     "output_type": "execute_result"
    }
   ],
   "source": [
    "x = {\"Name\":[\"Rose\",\"John\",\"Jane\",\"Mary\"],\"ID\":[1,2,3,4], \"Deparment\":[\"Architect Group\",\"Sotfware Group\",\"Desing Group\",\"Infrastructure\"],\"Salary\":[100000,80000,50000,60000]}\n",
    "x"
   ]
  },
  {
   "cell_type": "code",
   "execution_count": 86,
   "id": "ee42c92f-0c59-4c2d-92c9-4e7b31161e29",
   "metadata": {
    "tags": []
   },
   "outputs": [
    {
     "data": {
      "text/html": [
       "<div>\n",
       "<style scoped>\n",
       "    .dataframe tbody tr th:only-of-type {\n",
       "        vertical-align: middle;\n",
       "    }\n",
       "\n",
       "    .dataframe tbody tr th {\n",
       "        vertical-align: top;\n",
       "    }\n",
       "\n",
       "    .dataframe thead th {\n",
       "        text-align: right;\n",
       "    }\n",
       "</style>\n",
       "<table border=\"1\" class=\"dataframe\">\n",
       "  <thead>\n",
       "    <tr style=\"text-align: right;\">\n",
       "      <th></th>\n",
       "      <th>Name</th>\n",
       "      <th>ID</th>\n",
       "      <th>Department</th>\n",
       "      <th>Salary</th>\n",
       "    </tr>\n",
       "  </thead>\n",
       "  <tbody>\n",
       "    <tr>\n",
       "      <th>0</th>\n",
       "      <td>Rose</td>\n",
       "      <td>1</td>\n",
       "      <td>Architect Group</td>\n",
       "      <td>100000</td>\n",
       "    </tr>\n",
       "    <tr>\n",
       "      <th>1</th>\n",
       "      <td>John</td>\n",
       "      <td>2</td>\n",
       "      <td>Sotfware Group</td>\n",
       "      <td>80000</td>\n",
       "    </tr>\n",
       "    <tr>\n",
       "      <th>2</th>\n",
       "      <td>Jane</td>\n",
       "      <td>3</td>\n",
       "      <td>Desing Group</td>\n",
       "      <td>50000</td>\n",
       "    </tr>\n",
       "    <tr>\n",
       "      <th>3</th>\n",
       "      <td>Mary</td>\n",
       "      <td>4</td>\n",
       "      <td>Infrastructure</td>\n",
       "      <td>60000</td>\n",
       "    </tr>\n",
       "  </tbody>\n",
       "</table>\n",
       "</div>"
      ],
      "text/plain": [
       "   Name  ID       Department  Salary\n",
       "0  Rose   1  Architect Group  100000\n",
       "1  John   2   Sotfware Group   80000\n",
       "2  Jane   3     Desing Group   50000\n",
       "3  Mary   4   Infrastructure   60000"
      ]
     },
     "execution_count": 86,
     "metadata": {},
     "output_type": "execute_result"
    }
   ],
   "source": [
    "# Define a dictionary \"x\"\n",
    "\n",
    "x = {\"Name\":[\"Rose\",\"John\",\"Jane\",\"Mary\"],\"ID\":[1,2,3,4], \"Department\":[\"Architect Group\",\"Sotfware Group\",\"Desing Group\",\"Infrastructure\"],\"Salary\":[100000,80000,50000,60000]}\n",
    "\n",
    "# casting the dictionary to a DataFrame\n",
    "\n",
    "df = pd.DataFrame(x)\n",
    "\n",
    "# Display the result df\n",
    "df"
   ]
  },
  {
   "cell_type": "markdown",
   "id": "d52ff335-f170-425b-8358-5408d7f5a56f",
   "metadata": {},
   "source": [
    "We can se the direct corespondence between the table. The keys correspond to the clumns labels and the values or lists correspond to the rows.\n",
    "\n",
    "#### Columns Selection:\n",
    "\n",
    "To select a column in Pandas DataFrame, we can either access the columns by calling them by their columns name.\n",
    "\n",
    "Let's Retrive the data present int the <code>ID</code> column."
   ]
  },
  {
   "cell_type": "code",
   "execution_count": 48,
   "id": "d6b6f580-0cfc-4b87-b38a-d16f86009eee",
   "metadata": {
    "tags": []
   },
   "outputs": [
    {
     "data": {
      "text/html": [
       "<div>\n",
       "<style scoped>\n",
       "    .dataframe tbody tr th:only-of-type {\n",
       "        vertical-align: middle;\n",
       "    }\n",
       "\n",
       "    .dataframe tbody tr th {\n",
       "        vertical-align: top;\n",
       "    }\n",
       "\n",
       "    .dataframe thead th {\n",
       "        text-align: right;\n",
       "    }\n",
       "</style>\n",
       "<table border=\"1\" class=\"dataframe\">\n",
       "  <thead>\n",
       "    <tr style=\"text-align: right;\">\n",
       "      <th></th>\n",
       "      <th>ID</th>\n",
       "    </tr>\n",
       "  </thead>\n",
       "  <tbody>\n",
       "    <tr>\n",
       "      <th>0</th>\n",
       "      <td>1</td>\n",
       "    </tr>\n",
       "    <tr>\n",
       "      <th>1</th>\n",
       "      <td>2</td>\n",
       "    </tr>\n",
       "    <tr>\n",
       "      <th>2</th>\n",
       "      <td>3</td>\n",
       "    </tr>\n",
       "    <tr>\n",
       "      <th>3</th>\n",
       "      <td>4</td>\n",
       "    </tr>\n",
       "  </tbody>\n",
       "</table>\n",
       "</div>"
      ],
      "text/plain": [
       "   ID\n",
       "0   1\n",
       "1   2\n",
       "2   3\n",
       "3   4"
      ]
     },
     "execution_count": 48,
     "metadata": {},
     "output_type": "execute_result"
    }
   ],
   "source": [
    "# Retrieving the \"ID\" column and assigning it to a variable x\n",
    "x=df[[\"ID\"]]\n",
    "x"
   ]
  },
  {
   "cell_type": "markdown",
   "id": "6aebb1ec-aee4-4653-ad0b-b99fbee490ad",
   "metadata": {},
   "source": [
    "Let's use the <code>type()</code> function and check the type of the variable."
   ]
  },
  {
   "cell_type": "code",
   "execution_count": 32,
   "id": "66c31418-b790-44ae-9822-5710d258a078",
   "metadata": {
    "tags": []
   },
   "outputs": [
    {
     "data": {
      "text/plain": [
       "pandas.core.frame.DataFrame"
      ]
     },
     "execution_count": 32,
     "metadata": {},
     "output_type": "execute_result"
    }
   ],
   "source": [
    "# Chech the type of x\n",
    "\n",
    "type(x)"
   ]
  },
  {
   "cell_type": "markdown",
   "id": "fe44efe3-760b-4a0b-a191-14bcedd6bedf",
   "metadata": {},
   "source": [
    "The output shows use that the type of the variable is a DataFrame object."
   ]
  },
  {
   "cell_type": "markdown",
   "id": "5992a90a-a9a9-4718-bb9c-648bf16429b8",
   "metadata": {},
   "source": [
    "#### Access top a multiplie columns\n",
    "\n",
    "Let us retrive the data for <code>Deparment</code> , <code>Salary</code> , and <code>ID</code> columns."
   ]
  },
  {
   "cell_type": "code",
   "execution_count": 50,
   "id": "1e7b777b-030b-47af-86d6-44259ea0ea65",
   "metadata": {
    "tags": []
   },
   "outputs": [
    {
     "data": {
      "text/html": [
       "<div>\n",
       "<style scoped>\n",
       "    .dataframe tbody tr th:only-of-type {\n",
       "        vertical-align: middle;\n",
       "    }\n",
       "\n",
       "    .dataframe tbody tr th {\n",
       "        vertical-align: top;\n",
       "    }\n",
       "\n",
       "    .dataframe thead th {\n",
       "        text-align: right;\n",
       "    }\n",
       "</style>\n",
       "<table border=\"1\" class=\"dataframe\">\n",
       "  <thead>\n",
       "    <tr style=\"text-align: right;\">\n",
       "      <th></th>\n",
       "      <th>Department</th>\n",
       "      <th>Salary</th>\n",
       "      <th>ID</th>\n",
       "    </tr>\n",
       "  </thead>\n",
       "  <tbody>\n",
       "    <tr>\n",
       "      <th>0</th>\n",
       "      <td>Architect Group</td>\n",
       "      <td>100000</td>\n",
       "      <td>1</td>\n",
       "    </tr>\n",
       "    <tr>\n",
       "      <th>1</th>\n",
       "      <td>Sotfware Group</td>\n",
       "      <td>80000</td>\n",
       "      <td>2</td>\n",
       "    </tr>\n",
       "    <tr>\n",
       "      <th>2</th>\n",
       "      <td>Desing Group</td>\n",
       "      <td>50000</td>\n",
       "      <td>3</td>\n",
       "    </tr>\n",
       "    <tr>\n",
       "      <th>3</th>\n",
       "      <td>Infrastructure</td>\n",
       "      <td>60000</td>\n",
       "      <td>4</td>\n",
       "    </tr>\n",
       "  </tbody>\n",
       "</table>\n",
       "</div>"
      ],
      "text/plain": [
       "        Department  Salary  ID\n",
       "0  Architect Group  100000   1\n",
       "1   Sotfware Group   80000   2\n",
       "2     Desing Group   50000   3\n",
       "3   Infrastructure   60000   4"
      ]
     },
     "execution_count": 50,
     "metadata": {},
     "output_type": "execute_result"
    }
   ],
   "source": [
    "# Retrivienf the Department, Salary and ID columns and assigning it to a variable z\n",
    "\n",
    "z = df[[\"Department\",\"Salary\",\"ID\"]]\n",
    "z"
   ]
  },
  {
   "cell_type": "markdown",
   "id": "2ff07023-83c0-4953-945e-230cc3673127",
   "metadata": {},
   "source": [
    "#### Try it yoursef\n",
    "\n",
    "<b>Problem 1: Create a Dataframe to display the result:"
   ]
  },
  {
   "cell_type": "code",
   "execution_count": 80,
   "id": "7e6190b8-f236-4bba-a080-79442fd8f151",
   "metadata": {
    "tags": []
   },
   "outputs": [
    {
     "data": {
      "text/html": [
       "<div>\n",
       "<style scoped>\n",
       "    .dataframe tbody tr th:only-of-type {\n",
       "        vertical-align: middle;\n",
       "    }\n",
       "\n",
       "    .dataframe tbody tr th {\n",
       "        vertical-align: top;\n",
       "    }\n",
       "\n",
       "    .dataframe thead th {\n",
       "        text-align: right;\n",
       "    }\n",
       "</style>\n",
       "<table border=\"1\" class=\"dataframe\">\n",
       "  <thead>\n",
       "    <tr style=\"text-align: right;\">\n",
       "      <th></th>\n",
       "      <th>Student</th>\n",
       "      <th>Age</th>\n",
       "      <th>Country</th>\n",
       "      <th>Course</th>\n",
       "      <th>Marks</th>\n",
       "    </tr>\n",
       "  </thead>\n",
       "  <tbody>\n",
       "    <tr>\n",
       "      <th>0</th>\n",
       "      <td>David</td>\n",
       "      <td>27</td>\n",
       "      <td>UK</td>\n",
       "      <td>Python</td>\n",
       "      <td>85</td>\n",
       "    </tr>\n",
       "    <tr>\n",
       "      <th>1</th>\n",
       "      <td>Samuel</td>\n",
       "      <td>24</td>\n",
       "      <td>Canada</td>\n",
       "      <td>Data Structure</td>\n",
       "      <td>72</td>\n",
       "    </tr>\n",
       "    <tr>\n",
       "      <th>2</th>\n",
       "      <td>Terry</td>\n",
       "      <td>22</td>\n",
       "      <td>China</td>\n",
       "      <td>Machine learning</td>\n",
       "      <td>89</td>\n",
       "    </tr>\n",
       "    <tr>\n",
       "      <th>3</th>\n",
       "      <td>Evan</td>\n",
       "      <td>32</td>\n",
       "      <td>USA</td>\n",
       "      <td>Web Development</td>\n",
       "      <td>76</td>\n",
       "    </tr>\n",
       "  </tbody>\n",
       "</table>\n",
       "</div>"
      ],
      "text/plain": [
       "  Student  Age Country            Course  Marks\n",
       "0   David   27      UK            Python     85\n",
       "1  Samuel   24  Canada    Data Structure     72\n",
       "2   Terry   22   China  Machine learning     89\n",
       "3    Evan   32     USA   Web Development     76"
      ]
     },
     "execution_count": 80,
     "metadata": {},
     "output_type": "execute_result"
    }
   ],
   "source": [
    "x = {\"Student\":[\"David\",\"Samuel\",\"Terry\",\"Evan\"],\"Age\":[27,24,22,32],\"Country\":[\"UK\",\"Canada\",\"China\",\"USA\"],\"Course\":[\"Python\",\"Data Structure\",\"Machine learning\",\"Web Development\"],\"Marks\":[85,72,89,76]}\n",
    "x\n",
    "\n",
    "df1 = pd.DataFrame(x)\n",
    "df1"
   ]
  },
  {
   "cell_type": "markdown",
   "id": "993a6617-05f3-4938-8cf8-4b95cb8d781b",
   "metadata": {},
   "source": [
    "<b>Problem 2: Retrive the Marks column and assing it to a variable b</b>"
   ]
  },
  {
   "cell_type": "code",
   "execution_count": 84,
   "id": "b0d14f9f-35ac-48d3-947c-fdaf1814596b",
   "metadata": {
    "tags": []
   },
   "outputs": [
    {
     "data": {
      "text/html": [
       "<div>\n",
       "<style scoped>\n",
       "    .dataframe tbody tr th:only-of-type {\n",
       "        vertical-align: middle;\n",
       "    }\n",
       "\n",
       "    .dataframe tbody tr th {\n",
       "        vertical-align: top;\n",
       "    }\n",
       "\n",
       "    .dataframe thead th {\n",
       "        text-align: right;\n",
       "    }\n",
       "</style>\n",
       "<table border=\"1\" class=\"dataframe\">\n",
       "  <thead>\n",
       "    <tr style=\"text-align: right;\">\n",
       "      <th></th>\n",
       "      <th>Marks</th>\n",
       "    </tr>\n",
       "  </thead>\n",
       "  <tbody>\n",
       "    <tr>\n",
       "      <th>0</th>\n",
       "      <td>85</td>\n",
       "    </tr>\n",
       "    <tr>\n",
       "      <th>1</th>\n",
       "      <td>72</td>\n",
       "    </tr>\n",
       "    <tr>\n",
       "      <th>2</th>\n",
       "      <td>89</td>\n",
       "    </tr>\n",
       "    <tr>\n",
       "      <th>3</th>\n",
       "      <td>76</td>\n",
       "    </tr>\n",
       "  </tbody>\n",
       "</table>\n",
       "</div>"
      ],
      "text/plain": [
       "   Marks\n",
       "0     85\n",
       "1     72\n",
       "2     89\n",
       "3     76"
      ]
     },
     "execution_count": 84,
     "metadata": {},
     "output_type": "execute_result"
    }
   ],
   "source": [
    "b = df1[[\"Marks\"]]\n",
    "b"
   ]
  },
  {
   "cell_type": "markdown",
   "id": "4021d78e-0e7d-41a1-aea9-2aeba8090be2",
   "metadata": {},
   "source": [
    "<b>Problem 3: Retrive the Country and Course columns and assing it to a variable c</b>"
   ]
  },
  {
   "cell_type": "code",
   "execution_count": 82,
   "id": "d429f75a-4530-4d30-aee9-f26cbe8a0ead",
   "metadata": {
    "tags": []
   },
   "outputs": [
    {
     "data": {
      "text/html": [
       "<div>\n",
       "<style scoped>\n",
       "    .dataframe tbody tr th:only-of-type {\n",
       "        vertical-align: middle;\n",
       "    }\n",
       "\n",
       "    .dataframe tbody tr th {\n",
       "        vertical-align: top;\n",
       "    }\n",
       "\n",
       "    .dataframe thead th {\n",
       "        text-align: right;\n",
       "    }\n",
       "</style>\n",
       "<table border=\"1\" class=\"dataframe\">\n",
       "  <thead>\n",
       "    <tr style=\"text-align: right;\">\n",
       "      <th></th>\n",
       "      <th>Country</th>\n",
       "      <th>Course</th>\n",
       "    </tr>\n",
       "  </thead>\n",
       "  <tbody>\n",
       "    <tr>\n",
       "      <th>0</th>\n",
       "      <td>UK</td>\n",
       "      <td>Python</td>\n",
       "    </tr>\n",
       "    <tr>\n",
       "      <th>1</th>\n",
       "      <td>Canada</td>\n",
       "      <td>Data Structure</td>\n",
       "    </tr>\n",
       "    <tr>\n",
       "      <th>2</th>\n",
       "      <td>China</td>\n",
       "      <td>Machine learning</td>\n",
       "    </tr>\n",
       "    <tr>\n",
       "      <th>3</th>\n",
       "      <td>USA</td>\n",
       "      <td>Web Development</td>\n",
       "    </tr>\n",
       "  </tbody>\n",
       "</table>\n",
       "</div>"
      ],
      "text/plain": [
       "  Country            Course\n",
       "0      UK            Python\n",
       "1  Canada    Data Structure\n",
       "2   China  Machine learning\n",
       "3     USA   Web Development"
      ]
     },
     "execution_count": 82,
     "metadata": {},
     "output_type": "execute_result"
    }
   ],
   "source": [
    "c =df1[[\"Country\",\"Course\"]]\n",
    "c"
   ]
  },
  {
   "cell_type": "markdown",
   "id": "ef46fbca-9e6e-4607-b1a4-e19b4d918de2",
   "metadata": {},
   "source": [
    "#### To view the column as a series, just use one bracket:"
   ]
  },
  {
   "cell_type": "code",
   "execution_count": 70,
   "id": "65364dea-a222-443a-bbef-427b93a809ff",
   "metadata": {
    "tags": []
   },
   "outputs": [
    {
     "data": {
      "text/plain": [
       "0     David\n",
       "1    Samuel\n",
       "2     Terry\n",
       "3      Evan\n",
       "Name: Student, dtype: object"
      ]
     },
     "execution_count": 70,
     "metadata": {},
     "output_type": "execute_result"
    }
   ],
   "source": [
    "# Get the Student column as a series object\n",
    "\n",
    "x = df[\"Student\"]\n",
    "x"
   ]
  },
  {
   "cell_type": "markdown",
   "id": "1f94238c-87ca-4d62-b33f-eaaeb3599a20",
   "metadata": {},
   "source": [
    "### Exercise 2: <code>loc()</code> and <code>iloc()</code> functions\n",
    "\n",
    "<code>loc()</code> is a label-based data selecting method which means taht we have to pass the name of the row or column that we want to select. This method includes the last element of the range passed in it.\n",
    "\n",
    "Simple syntax for ypur understanding:\n",
    "* loc[row_label,column_label]\n",
    "\n",
    "<code>iloc()</code> is an index-based selecting method which means that we have to pass an integer inde i the method to select a specific row/column. this method does not include the last element of the range passed in it.\n",
    "\n",
    "Simple syntax\n",
    "* iloc[row_index,column_index]\n",
    "\n",
    "#### Let us see some example on the same"
   ]
  },
  {
   "cell_type": "code",
   "execution_count": 88,
   "id": "968b8043-ff50-4287-a85e-8bc9675dcb5c",
   "metadata": {
    "tags": []
   },
   "outputs": [
    {
     "data": {
      "text/plain": [
       "'Rose'"
      ]
     },
     "execution_count": 88,
     "metadata": {},
     "output_type": "execute_result"
    }
   ],
   "source": [
    "# Access the value on the first row and the first column\n",
    "\n",
    "df.iloc[0,0]"
   ]
  },
  {
   "cell_type": "code",
   "execution_count": 90,
   "id": "362907ea-501f-45f3-85fa-03ae267c4302",
   "metadata": {
    "tags": []
   },
   "outputs": [
    {
     "data": {
      "text/plain": [
       "100000"
      ]
     },
     "execution_count": 90,
     "metadata": {},
     "output_type": "execute_result"
    }
   ],
   "source": [
    "# Access the value on the first row and the third column\n",
    "\n",
    "df.iloc[0,3]"
   ]
  },
  {
   "cell_type": "code",
   "execution_count": 94,
   "id": "82b6819a-5cbd-4a08-bb05-9ff073b52104",
   "metadata": {
    "tags": []
   },
   "outputs": [
    {
     "data": {
      "text/plain": [
       "100000"
      ]
     },
     "execution_count": 94,
     "metadata": {},
     "output_type": "execute_result"
    }
   ],
   "source": [
    "# Access the column using the name \n",
    "\n",
    "df.loc[0,\"Salary\"]"
   ]
  },
  {
   "cell_type": "markdown",
   "id": "c5cf1be0-8952-4ecf-96c7-c2fe1037566e",
   "metadata": {},
   "source": [
    "Let us create a new dataframe called \"df2\" and assign \"df\" to it. Now, let us set the \"Name\" column as an index column using the method set_index()"
   ]
  },
  {
   "cell_type": "code",
   "execution_count": 98,
   "id": "8a354e8d-9119-48e4-bd91-bce479faf639",
   "metadata": {
    "tags": []
   },
   "outputs": [],
   "source": [
    "df2=df\n",
    "df2=df.set_index(\"Name\")"
   ]
  },
  {
   "cell_type": "code",
   "execution_count": 100,
   "id": "fe1f33bf-2212-48da-8691-591272fde0e8",
   "metadata": {
    "tags": []
   },
   "outputs": [
    {
     "data": {
      "text/html": [
       "<div>\n",
       "<style scoped>\n",
       "    .dataframe tbody tr th:only-of-type {\n",
       "        vertical-align: middle;\n",
       "    }\n",
       "\n",
       "    .dataframe tbody tr th {\n",
       "        vertical-align: top;\n",
       "    }\n",
       "\n",
       "    .dataframe thead th {\n",
       "        text-align: right;\n",
       "    }\n",
       "</style>\n",
       "<table border=\"1\" class=\"dataframe\">\n",
       "  <thead>\n",
       "    <tr style=\"text-align: right;\">\n",
       "      <th></th>\n",
       "      <th>Name</th>\n",
       "      <th>ID</th>\n",
       "      <th>Department</th>\n",
       "      <th>Salary</th>\n",
       "    </tr>\n",
       "  </thead>\n",
       "  <tbody>\n",
       "    <tr>\n",
       "      <th>0</th>\n",
       "      <td>Rose</td>\n",
       "      <td>1</td>\n",
       "      <td>Architect Group</td>\n",
       "      <td>100000</td>\n",
       "    </tr>\n",
       "    <tr>\n",
       "      <th>1</th>\n",
       "      <td>John</td>\n",
       "      <td>2</td>\n",
       "      <td>Sotfware Group</td>\n",
       "      <td>80000</td>\n",
       "    </tr>\n",
       "    <tr>\n",
       "      <th>2</th>\n",
       "      <td>Jane</td>\n",
       "      <td>3</td>\n",
       "      <td>Desing Group</td>\n",
       "      <td>50000</td>\n",
       "    </tr>\n",
       "    <tr>\n",
       "      <th>3</th>\n",
       "      <td>Mary</td>\n",
       "      <td>4</td>\n",
       "      <td>Infrastructure</td>\n",
       "      <td>60000</td>\n",
       "    </tr>\n",
       "  </tbody>\n",
       "</table>\n",
       "</div>"
      ],
      "text/plain": [
       "   Name  ID       Department  Salary\n",
       "0  Rose   1  Architect Group  100000\n",
       "1  John   2   Sotfware Group   80000\n",
       "2  Jane   3     Desing Group   50000\n",
       "3  Mary   4   Infrastructure   60000"
      ]
     },
     "execution_count": 100,
     "metadata": {},
     "output_type": "execute_result"
    }
   ],
   "source": [
    "# To displat the 5 first rows of new data frame\n",
    "df.head()"
   ]
  },
  {
   "cell_type": "code",
   "execution_count": 104,
   "id": "49d3b75b-b47e-4c79-a3b1-f63a4ef7205b",
   "metadata": {
    "tags": []
   },
   "outputs": [
    {
     "data": {
      "text/plain": [
       "50000"
      ]
     },
     "execution_count": 104,
     "metadata": {},
     "output_type": "execute_result"
    }
   ],
   "source": [
    "# Now let us access the column using the name\n",
    "\n",
    "df2.loc[\"Jane\",\"Salary\"]"
   ]
  },
  {
   "cell_type": "markdown",
   "id": "9324246a-7748-407e-8399-99eb0eb0f6c7",
   "metadata": {},
   "source": [
    "#### Try it yoursef \n",
    "\n",
    "Use the <code>loc()</code> function, to get Department of Jane in the newly created dataframe df2."
   ]
  },
  {
   "cell_type": "code",
   "execution_count": 113,
   "id": "a84e532f-c29a-411c-b16d-f97de423d01d",
   "metadata": {
    "tags": []
   },
   "outputs": [
    {
     "data": {
      "text/plain": [
       "'Desing Group'"
      ]
     },
     "execution_count": 113,
     "metadata": {},
     "output_type": "execute_result"
    }
   ],
   "source": [
    "df2.loc[\"Jane\",\"Department\"]"
   ]
  },
  {
   "cell_type": "markdown",
   "id": "3f514f73-8c3b-4ca2-af28-8418ec961af4",
   "metadata": {},
   "source": [
    "Use the <code>iloc()</code> function to get the Salart of Marty in the newly created dataframe df2."
   ]
  },
  {
   "cell_type": "code",
   "execution_count": 118,
   "id": "acf225b2-0842-49c0-8381-0a383796d83f",
   "metadata": {
    "tags": []
   },
   "outputs": [
    {
     "data": {
      "text/plain": [
       "60000"
      ]
     },
     "execution_count": 118,
     "metadata": {},
     "output_type": "execute_result"
    }
   ],
   "source": [
    "df2.iloc[3,2]"
   ]
  },
  {
   "cell_type": "markdown",
   "id": "0d252478-5d75-4757-ae0f-16865631fc81",
   "metadata": {},
   "source": [
    "### Exercise 3: Slicing\n",
    "\n",
    "Slicing uses the [] operator to select a set of rows and/or columns from a DataFGrame.\n",
    "\n",
    "To slice out a set of rows, you use this syntaz: data[stars:stop]\n",
    "\n",
    "Here the start represents the index grom where to condiser, and stop represents the index one step BEYOND the row you want to seect. You can perform slicing using both the index and the name of the column.\n",
    "\n",
    "#### We can aso select a specific data value using row and column location within the DataFrame and iloc indexing."
   ]
  },
  {
   "cell_type": "code",
   "execution_count": 124,
   "id": "e245f4f0-c28b-49aa-815b-d9f97565104c",
   "metadata": {
    "tags": []
   },
   "outputs": [
    {
     "data": {
      "text/html": [
       "<div>\n",
       "<style scoped>\n",
       "    .dataframe tbody tr th:only-of-type {\n",
       "        vertical-align: middle;\n",
       "    }\n",
       "\n",
       "    .dataframe tbody tr th {\n",
       "        vertical-align: top;\n",
       "    }\n",
       "\n",
       "    .dataframe thead th {\n",
       "        text-align: right;\n",
       "    }\n",
       "</style>\n",
       "<table border=\"1\" class=\"dataframe\">\n",
       "  <thead>\n",
       "    <tr style=\"text-align: right;\">\n",
       "      <th></th>\n",
       "      <th>Name</th>\n",
       "      <th>ID</th>\n",
       "      <th>Department</th>\n",
       "    </tr>\n",
       "  </thead>\n",
       "  <tbody>\n",
       "    <tr>\n",
       "      <th>0</th>\n",
       "      <td>Rose</td>\n",
       "      <td>1</td>\n",
       "      <td>Architect Group</td>\n",
       "    </tr>\n",
       "    <tr>\n",
       "      <th>1</th>\n",
       "      <td>John</td>\n",
       "      <td>2</td>\n",
       "      <td>Sotfware Group</td>\n",
       "    </tr>\n",
       "  </tbody>\n",
       "</table>\n",
       "</div>"
      ],
      "text/plain": [
       "   Name  ID       Department\n",
       "0  Rose   1  Architect Group\n",
       "1  John   2   Sotfware Group"
      ]
     },
     "execution_count": 124,
     "metadata": {},
     "output_type": "execute_result"
    }
   ],
   "source": [
    "# Let us do the slicing using old dataframe df\n",
    "\n",
    "df.iloc[0:2,0:3]"
   ]
  },
  {
   "cell_type": "code",
   "execution_count": 128,
   "id": "a6a88563-0804-42cb-b422-a63516cd56c1",
   "metadata": {
    "tags": []
   },
   "outputs": [
    {
     "data": {
      "text/html": [
       "<div>\n",
       "<style scoped>\n",
       "    .dataframe tbody tr th:only-of-type {\n",
       "        vertical-align: middle;\n",
       "    }\n",
       "\n",
       "    .dataframe tbody tr th {\n",
       "        vertical-align: top;\n",
       "    }\n",
       "\n",
       "    .dataframe thead th {\n",
       "        text-align: right;\n",
       "    }\n",
       "</style>\n",
       "<table border=\"1\" class=\"dataframe\">\n",
       "  <thead>\n",
       "    <tr style=\"text-align: right;\">\n",
       "      <th></th>\n",
       "      <th>ID</th>\n",
       "      <th>Department</th>\n",
       "    </tr>\n",
       "  </thead>\n",
       "  <tbody>\n",
       "    <tr>\n",
       "      <th>0</th>\n",
       "      <td>1</td>\n",
       "      <td>Architect Group</td>\n",
       "    </tr>\n",
       "    <tr>\n",
       "      <th>1</th>\n",
       "      <td>2</td>\n",
       "      <td>Sotfware Group</td>\n",
       "    </tr>\n",
       "    <tr>\n",
       "      <th>2</th>\n",
       "      <td>3</td>\n",
       "      <td>Desing Group</td>\n",
       "    </tr>\n",
       "  </tbody>\n",
       "</table>\n",
       "</div>"
      ],
      "text/plain": [
       "   ID       Department\n",
       "0   1  Architect Group\n",
       "1   2   Sotfware Group\n",
       "2   3     Desing Group"
      ]
     },
     "execution_count": 128,
     "metadata": {},
     "output_type": "execute_result"
    }
   ],
   "source": [
    "# Let us do the slicing using loc() function on old dataframe df where index column is having labes as 0,1,2,\n",
    "df.loc[0:2,\"ID\":\"Department\"]"
   ]
  },
  {
   "cell_type": "code",
   "execution_count": 130,
   "id": "910b1b77-87b9-4318-8e19-a5d362003160",
   "metadata": {
    "tags": []
   },
   "outputs": [
    {
     "data": {
      "text/html": [
       "<div>\n",
       "<style scoped>\n",
       "    .dataframe tbody tr th:only-of-type {\n",
       "        vertical-align: middle;\n",
       "    }\n",
       "\n",
       "    .dataframe tbody tr th {\n",
       "        vertical-align: top;\n",
       "    }\n",
       "\n",
       "    .dataframe thead th {\n",
       "        text-align: right;\n",
       "    }\n",
       "</style>\n",
       "<table border=\"1\" class=\"dataframe\">\n",
       "  <thead>\n",
       "    <tr style=\"text-align: right;\">\n",
       "      <th></th>\n",
       "      <th>ID</th>\n",
       "      <th>Department</th>\n",
       "    </tr>\n",
       "    <tr>\n",
       "      <th>Name</th>\n",
       "      <th></th>\n",
       "      <th></th>\n",
       "    </tr>\n",
       "  </thead>\n",
       "  <tbody>\n",
       "    <tr>\n",
       "      <th>Rose</th>\n",
       "      <td>1</td>\n",
       "      <td>Architect Group</td>\n",
       "    </tr>\n",
       "    <tr>\n",
       "      <th>John</th>\n",
       "      <td>2</td>\n",
       "      <td>Sotfware Group</td>\n",
       "    </tr>\n",
       "    <tr>\n",
       "      <th>Jane</th>\n",
       "      <td>3</td>\n",
       "      <td>Desing Group</td>\n",
       "    </tr>\n",
       "  </tbody>\n",
       "</table>\n",
       "</div>"
      ],
      "text/plain": [
       "      ID       Department\n",
       "Name                     \n",
       "Rose   1  Architect Group\n",
       "John   2   Sotfware Group\n",
       "Jane   3     Desing Group"
      ]
     },
     "execution_count": 130,
     "metadata": {},
     "output_type": "execute_result"
    }
   ],
   "source": [
    "# Let us do the slicing using loc() function on new dataframe df2 where index column is Name having labels: Rose, John and Jane \n",
    "\n",
    "df2.loc[\"Rose\":\"Jane\",\"ID\":\"Department\"]"
   ]
  },
  {
   "cell_type": "markdown",
   "id": "d4bf4f55-70ac-4efe-ad1f-d1b1bb87a1b1",
   "metadata": {},
   "source": [
    "#### Try it yourself\n",
    "using <code>loc()</code> function, do slicing on old dataframe df to retrive the Name, ID and Department of index column having lables as 2, 3"
   ]
  },
  {
   "cell_type": "code",
   "execution_count": 135,
   "id": "e0165f47-4e04-4a51-8fdc-89ab6362773e",
   "metadata": {
    "tags": []
   },
   "outputs": [
    {
     "data": {
      "text/html": [
       "<div>\n",
       "<style scoped>\n",
       "    .dataframe tbody tr th:only-of-type {\n",
       "        vertical-align: middle;\n",
       "    }\n",
       "\n",
       "    .dataframe tbody tr th {\n",
       "        vertical-align: top;\n",
       "    }\n",
       "\n",
       "    .dataframe thead th {\n",
       "        text-align: right;\n",
       "    }\n",
       "</style>\n",
       "<table border=\"1\" class=\"dataframe\">\n",
       "  <thead>\n",
       "    <tr style=\"text-align: right;\">\n",
       "      <th></th>\n",
       "      <th>Name</th>\n",
       "      <th>ID</th>\n",
       "      <th>Department</th>\n",
       "    </tr>\n",
       "  </thead>\n",
       "  <tbody>\n",
       "    <tr>\n",
       "      <th>2</th>\n",
       "      <td>Jane</td>\n",
       "      <td>3</td>\n",
       "      <td>Desing Group</td>\n",
       "    </tr>\n",
       "    <tr>\n",
       "      <th>3</th>\n",
       "      <td>Mary</td>\n",
       "      <td>4</td>\n",
       "      <td>Infrastructure</td>\n",
       "    </tr>\n",
       "  </tbody>\n",
       "</table>\n",
       "</div>"
      ],
      "text/plain": [
       "   Name  ID      Department\n",
       "2  Jane   3    Desing Group\n",
       "3  Mary   4  Infrastructure"
      ]
     },
     "execution_count": 135,
     "metadata": {},
     "output_type": "execute_result"
    }
   ],
   "source": [
    "df.loc[2:3,\"Name\":\"Department\"]"
   ]
  }
 ],
 "metadata": {
  "kernelspec": {
   "display_name": "Python 3 (ipykernel)",
   "language": "python",
   "name": "python3"
  },
  "language_info": {
   "codemirror_mode": {
    "name": "ipython",
    "version": 3
   },
   "file_extension": ".py",
   "mimetype": "text/x-python",
   "name": "python",
   "nbconvert_exporter": "python",
   "pygments_lexer": "ipython3",
   "version": "3.11.7"
  }
 },
 "nbformat": 4,
 "nbformat_minor": 5
}
