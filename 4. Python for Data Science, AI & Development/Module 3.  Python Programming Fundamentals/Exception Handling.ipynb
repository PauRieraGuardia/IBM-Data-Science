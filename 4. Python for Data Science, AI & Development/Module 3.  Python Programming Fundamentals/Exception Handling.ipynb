{
 "cells": [
  {
   "cell_type": "markdown",
   "id": "6e892bcd-0135-4977-8b96-26814f106e81",
   "metadata": {},
   "source": [
    "## Exception Handling\n",
    "\n",
    "### Definition\n",
    "\n",
    "An excpetion is an error that occurs during the execution of code. This error causes the code to raise an exception and if not prepared to handle it will halt the execution of the code. \n",
    "\n",
    "### Examples \n",
    "\n",
    "Run each piece of code and observe the exception raised\n"
   ]
  },
  {
   "cell_type": "code",
   "execution_count": 3,
   "id": "592bf03f-21dc-43bd-8e62-d778aa7396ac",
   "metadata": {
    "tags": []
   },
   "outputs": [
    {
     "ename": "ZeroDivisionError",
     "evalue": "division by zero",
     "output_type": "error",
     "traceback": [
      "\u001b[1;31m---------------------------------------------------------------------------\u001b[0m",
      "\u001b[1;31mZeroDivisionError\u001b[0m                         Traceback (most recent call last)",
      "Cell \u001b[1;32mIn[3], line 1\u001b[0m\n\u001b[1;32m----> 1\u001b[0m \u001b[38;5;241m1\u001b[39m\u001b[38;5;241m/\u001b[39m\u001b[38;5;241m0\u001b[39m\n",
      "\u001b[1;31mZeroDivisionError\u001b[0m: division by zero"
     ]
    }
   ],
   "source": [
    "1/0"
   ]
  },
  {
   "cell_type": "markdown",
   "id": "b5a9f8cc-9fd0-4ccd-9961-9bcf40591d5b",
   "metadata": {},
   "source": [
    "<code>ZeroDivisionError</code> occurs when you try to divide by zero"
   ]
  },
  {
   "cell_type": "code",
   "execution_count": 6,
   "id": "ef1dabdf-bb43-486f-b3a2-3fa689323f6e",
   "metadata": {
    "tags": []
   },
   "outputs": [
    {
     "ename": "NameError",
     "evalue": "name 'a' is not defined",
     "output_type": "error",
     "traceback": [
      "\u001b[1;31m---------------------------------------------------------------------------\u001b[0m",
      "\u001b[1;31mNameError\u001b[0m                                 Traceback (most recent call last)",
      "Cell \u001b[1;32mIn[6], line 1\u001b[0m\n\u001b[1;32m----> 1\u001b[0m y \u001b[38;5;241m=\u001b[39m a \u001b[38;5;241m+\u001b[39m \u001b[38;5;241m5\u001b[39m\n",
      "\u001b[1;31mNameError\u001b[0m: name 'a' is not defined"
     ]
    }
   ],
   "source": [
    "y = a + 5"
   ]
  },
  {
   "cell_type": "markdown",
   "id": "6a0cfe8e-e9b7-4d67-be19-790bdec10042",
   "metadata": {},
   "source": [
    "<code>NameError</code> -- in this casem it means that you tried to use the variable <b>a</b> when it was not defined."
   ]
  },
  {
   "cell_type": "code",
   "execution_count": 9,
   "id": "b14f3742-6859-4ace-b34c-d187afa545bb",
   "metadata": {
    "tags": []
   },
   "outputs": [
    {
     "ename": "IndexError",
     "evalue": "list index out of range",
     "output_type": "error",
     "traceback": [
      "\u001b[1;31m---------------------------------------------------------------------------\u001b[0m",
      "\u001b[1;31mIndexError\u001b[0m                                Traceback (most recent call last)",
      "Cell \u001b[1;32mIn[9], line 2\u001b[0m\n\u001b[0;32m      1\u001b[0m a \u001b[38;5;241m=\u001b[39m [\u001b[38;5;241m1\u001b[39m,\u001b[38;5;241m2\u001b[39m,\u001b[38;5;241m3\u001b[39m]\n\u001b[1;32m----> 2\u001b[0m a[\u001b[38;5;241m10\u001b[39m]\n",
      "\u001b[1;31mIndexError\u001b[0m: list index out of range"
     ]
    }
   ],
   "source": [
    "a = [1,2,3]\n",
    "a[10]"
   ]
  },
  {
   "cell_type": "markdown",
   "id": "611300ce-03b3-42e3-954f-cc33e730ef3f",
   "metadata": {},
   "source": [
    "<code>IndexError</code> -- in this case, it occured because you tried to access data from a list using an index that does not exist for this list."
   ]
  },
  {
   "cell_type": "markdown",
   "id": "dd1c00c0-8369-4fd0-a770-687ae4dd8474",
   "metadata": {},
   "source": [
    "There are many more exceptions that are built in Python."
   ]
  },
  {
   "cell_type": "markdown",
   "id": "9f3c17cb-3bd6-48bc-93b3-8a98f018095c",
   "metadata": {},
   "source": [
    "### Excpetion Handling \n",
    "\n",
    "We will understand how to make pur porgram perform specified tasks instead of halting code execution when an exception is encountered.\n",
    "\n",
    "#### Try Except \n",
    "\n",
    "A <code>try except</code> will allow you to execute code that might raise an exception and in the case of any exception or a specific one we can handle or cath the excception and execute specipic code, This will allow us to continue the execution of our program even if there is an exception. \n",
    "\n",
    "Python tries to execute the code in the <code>try</code> block. In this case if therer is any exception raised by the code in the <code>try</code> block, it will be caught and the code block in the <code>except</code> block will be executed. After that, the code comes *after* the try excepto will be executed. "
   ]
  },
  {
   "cell_type": "code",
   "execution_count": 17,
   "id": "62b5f02b-4c0a-4653-88be-e4b4c9c8ee45",
   "metadata": {
    "tags": []
   },
   "outputs": [
    {
     "ename": "IndentationError",
     "evalue": "expected an indented block after 'try' statement on line 3 (3604180328.py, line 5)",
     "output_type": "error",
     "traceback": [
      "\u001b[1;36m  Cell \u001b[1;32mIn[17], line 5\u001b[1;36m\u001b[0m\n\u001b[1;33m    except:\u001b[0m\n\u001b[1;37m    ^\u001b[0m\n\u001b[1;31mIndentationError\u001b[0m\u001b[1;31m:\u001b[0m expected an indented block after 'try' statement on line 3\n"
     ]
    }
   ],
   "source": [
    "# potentional code befire try catch\n",
    "\n",
    "try: \n",
    "    # code to try to execute\n",
    "except:\n",
    "    # code to execute if there is an exception\n",
    "\n",
    "# code that will still exceute if therre is an exception"
   ]
  },
  {
   "cell_type": "markdown",
   "id": "9da6eaf4-c17d-4870-a7fe-e1b56cf6eef9",
   "metadata": {},
   "source": [
    "#### Try Excepto Example\n",
    "\n",
    "In this example we are trying to divide a number given by the user, save the outcome in the variable <code>a</code>, an then we woyuld like to print the result of the operation. When taking user input and diving a number by it there are a couple of exceptions that can be raised. For example if we divide by zero. Try running the following block of code with <code>b</code> as a number, An exception will only be raised if <code>b</code> is zero."
   ]
  },
  {
   "cell_type": "code",
   "execution_count": 22,
   "id": "a574ac3e-04ea-412c-9bc4-158e09727a65",
   "metadata": {
    "tags": []
   },
   "outputs": [
    {
     "name": "stdin",
     "output_type": "stream",
     "text": [
      "Please enter a number to divide a: 0\n"
     ]
    },
    {
     "name": "stdout",
     "output_type": "stream",
     "text": [
      "There was an error\n"
     ]
    }
   ],
   "source": [
    "a = 1\n",
    "\n",
    "try: \n",
    "    b=int(input(\"Please enter a number to divide a:\"))\n",
    "    c=a/b\n",
    "    print(\"Succes a=\",c)\n",
    "except:\n",
    "    print(\"There was an error\")"
   ]
  },
  {
   "cell_type": "markdown",
   "id": "866ed758-24eb-4ec8-909e-4c6117e46bd1",
   "metadata": {},
   "source": [
    "#### Try Except Specific \n",
    "\n",
    "A specific <code>try except</code> allows ypu to catch certain exceptions and also execute certain code depending on the exception. This is useful if you do not want to deal with some exceptions and the execution should halt. It can also help yu find errors in your code that you might not be aware of. Furthermore, it can help you differentiate responses to different exceptions. In this case, the code after the try excepto might not run depending on the error. \n",
    "\n",
    "Just to illustrate:"
   ]
  },
  {
   "cell_type": "code",
   "execution_count": 26,
   "id": "1bddfe33-a0cf-42f0-b398-44f16ad84408",
   "metadata": {
    "tags": []
   },
   "outputs": [
    {
     "ename": "IndentationError",
     "evalue": "expected an indented block after 'try' statement on line 3 (1551172529.py, line 5)",
     "output_type": "error",
     "traceback": [
      "\u001b[1;36m  Cell \u001b[1;32mIn[26], line 5\u001b[1;36m\u001b[0m\n\u001b[1;33m    except (ZeroDivisionError,NameError):\u001b[0m\n\u001b[1;37m    ^\u001b[0m\n\u001b[1;31mIndentationError\u001b[0m\u001b[1;31m:\u001b[0m expected an indented block after 'try' statement on line 3\n"
     ]
    }
   ],
   "source": [
    "# potentional code before try catch\n",
    "\n",
    "try:\n",
    "    # code to try to exectur\n",
    "except (ZeroDivisionError,NameError):\n",
    "    # code to execute of there is an exception of the given types\n",
    "\n",
    "# code that will execute if tehere is no exception or a one that we are handling"
   ]
  },
  {
   "cell_type": "markdown",
   "id": "b96622eb-1061-4fb9-bbcb-e50c1dfb12ab",
   "metadata": {},
   "source": [
    "You can also have an <code>empty</code> at the end to catch an unexpected exception:"
   ]
  },
  {
   "cell_type": "code",
   "execution_count": null,
   "id": "a1e4c8cb-98bb-4be5-a594-886708765b19",
   "metadata": {},
   "outputs": [],
   "source": [
    "# potentional code beofre try catch \n",
    "\n",
    "try:\n",
    "    # code to try to exceute\n",
    "except NameError:\n",
    "    # code to executte if there is a NameError\n",
    "except ZeroDivisionError:\n",
    "    # code to execute if there is a ZeroDivisionError\n",
    "except:\n",
    "    # code to exceute if there is any exception\n",
    "    "
   ]
  },
  {
   "cell_type": "markdown",
   "id": "0907e78f-0144-422a-896f-28222b9818d7",
   "metadata": {},
   "source": [
    "### Try Except Specific Example\n",
    "\n",
    "This is he same example as above, but now we will add differentiated messages depending on the exception, letting the usew know what is wrong with the input."
   ]
  },
  {
   "cell_type": "code",
   "execution_count": 30,
   "id": "15d95931-5b2d-4b91-a392-147659aae79b",
   "metadata": {
    "tags": []
   },
   "outputs": [
    {
     "name": "stdin",
     "output_type": "stream",
     "text": [
      "Please enter a number to divide a 0\n"
     ]
    },
    {
     "name": "stdout",
     "output_type": "stream",
     "text": [
      "The number you provided cant divide 1 because it is 0\n"
     ]
    }
   ],
   "source": [
    "a = 1\n",
    "\n",
    "try: \n",
    "    b = int(input(\"Please enter a number to divide a\"))\n",
    "    c = a/b\n",
    "    print(\"Success c=\",c)\n",
    "except ZeroDivisionError:\n",
    "    print(\"The number you provided cant divide 1 because it is 0\")\n",
    "except ValueError:\n",
    "    print(\"You did not provide a number\")\n",
    "except:\n",
    "    print(\"Something went wrong\")"
   ]
  },
  {
   "cell_type": "markdown",
   "id": "d8fe5632-777a-4cbd-a1ad-9aec596dd376",
   "metadata": {},
   "source": [
    "### Try Except Else and Finally \n",
    "\n",
    "<code>else</code> allows one to check of there was no exception when executing the try block. This is useful when we want to exceute something only if tehre were no errors."
   ]
  },
  {
   "cell_type": "code",
   "execution_count": 33,
   "id": "d08b627a-50e5-48ed-be9d-32e52bec544f",
   "metadata": {
    "tags": []
   },
   "outputs": [
    {
     "ename": "IndentationError",
     "evalue": "expected an indented block after 'try' statement on line 3 (1297487473.py, line 5)",
     "output_type": "error",
     "traceback": [
      "\u001b[1;36m  Cell \u001b[1;32mIn[33], line 5\u001b[1;36m\u001b[0m\n\u001b[1;33m    except ZeroDivisionError:\u001b[0m\n\u001b[1;37m    ^\u001b[0m\n\u001b[1;31mIndentationError\u001b[0m\u001b[1;31m:\u001b[0m expected an indented block after 'try' statement on line 3\n"
     ]
    }
   ],
   "source": [
    "# potential code before try catch\n",
    "\n",
    "try:\n",
    "    # code to try to exceute\n",
    "except ZeroDivisionError:\n",
    "    # code to execute if there is a ZeroDivisionError\n",
    "except NameErro:\n",
    "    # code to execute if there is a NameError\n",
    "except:\n",
    "    # code to execue if there is any excpetion\n",
    "else:\n",
    "    # code to execute if there is no exception"
   ]
  },
  {
   "cell_type": "markdown",
   "id": "ae737a7e-bd8c-490c-935b-19ee9512dcd9",
   "metadata": {},
   "source": [
    "Now lets let the uset now the we are done processing their answer. Using the<code>finally</code>, let's add a print."
   ]
  },
  {
   "cell_type": "code",
   "execution_count": 36,
   "id": "47674835-8254-4089-b182-a2ed79ea9fe4",
   "metadata": {
    "tags": []
   },
   "outputs": [
    {
     "name": "stdin",
     "output_type": "stream",
     "text": [
      "Please enter a number to divide a 5\n"
     ]
    },
    {
     "name": "stdout",
     "output_type": "stream",
     "text": [
      "success c: 0.2\n",
      "Processing Complete\n"
     ]
    }
   ],
   "source": [
    "a = 1\n",
    "\n",
    "try:\n",
    "    b=int(input(\"Please enter a number to divide a\"))\n",
    "    c = a/b\n",
    "except ZeroDivisionError:\n",
    "    print(\"The number you provided cant divide 12 because it is 0\")\n",
    "except ValueError:\n",
    "    print(\"You did not provide a number\")\n",
    "except: \n",
    "    print(\"Something went wrong\")\n",
    "else:\n",
    "    print(\"success c:\",c)\n",
    "finally:\n",
    "    print(\"Processing Complete\")"
   ]
  },
  {
   "cell_type": "markdown",
   "id": "e8fda3c3-6f66-4dba-a2b0-e7cccc23f2ff",
   "metadata": {},
   "source": [
    "### Exercise 1: Handling ZeroDivisionError\n",
    "\n",
    "Imagine yo have two numbers and want to determine what happens when you divide on number by the order. To do this, you need to create a Python function called <code>safe_divide</code>. You give this function two numbers, a <code>numerator</code> and a <code>denominator</code>. The <code>numerator</code> is the number you want to divide, ant the <code>denominator</code> is the number you want to divide by. Use the user input method of Python to take the values.\n",
    "\n",
    "The function should be able to do the division for you and give you the result. But here's the catch: if you try to divide by zero (which is not allowed in math), the function should be smart enough to catch that and tell you that it's not possible yo divide by zero. Instead of showing an error, it should return None, which means nothing or no value, and print <code>\"Error: Cannot divide by Zero\"</code>"
   ]
  },
  {
   "cell_type": "code",
   "execution_count": 59,
   "id": "b6082b1a-1bac-430b-93bc-8d2fdb950d5a",
   "metadata": {
    "tags": []
   },
   "outputs": [
    {
     "name": "stdin",
     "output_type": "stream",
     "text": [
      "Enter the value for the numerator: 2\n",
      "Enter the value for the denominator: 3\n"
     ]
    },
    {
     "data": {
      "text/plain": [
       "0.6666666666666666"
      ]
     },
     "execution_count": 59,
     "metadata": {},
     "output_type": "execute_result"
    }
   ],
   "source": [
    "def safe_divide(numerator,denominator):\n",
    "    try:\n",
    "            result= numerator/denominator\n",
    "            return result\n",
    "    except ZeroDivisionError:\n",
    "            print(\"Error: Cannot divide by Zero\")\n",
    "            return None\n",
    "\n",
    "numerator= int(input(\"Enter the value for the numerator:\"))\n",
    "denominator = int(input(\"Enter the value for the denominator:\"))\n",
    "safe_divide(numerator,denominator)\n",
    "\n",
    "                "
   ]
  },
  {
   "cell_type": "markdown",
   "id": "be57a07b-58c3-46d6-84ac-d29dd049f807",
   "metadata": {},
   "source": [
    "### Exercise 2: Handling ValueError\n",
    "\n",
    "Imagine you have a number and want to calculate its square root. To do this, you need to create a Python function. You give this function one number, <code>number1</code>.\n",
    "\n",
    "The function should generate the square root value if you provide a positive integer or float value as input. However, the function should be clever enough to detect the msitaje if you enter a negative value. It should kindly inform you with a message saying, <code>Invalid input! Please enter a positive integer or float value.</code>"
   ]
  },
  {
   "cell_type": "code",
   "execution_count": 127,
   "id": "a53d4056-c810-4946-b91a-77135cf9203e",
   "metadata": {
    "tags": []
   },
   "outputs": [
    {
     "name": "stdin",
     "output_type": "stream",
     "text": [
      "Enter a number: 3\n"
     ]
    },
    {
     "name": "stdout",
     "output_type": "stream",
     "text": [
      "The Result is 1.7320508075688772\n"
     ]
    }
   ],
   "source": [
    "import math\n",
    "\n",
    "def calculation(number1):\n",
    "    try:\n",
    "        result = math.sqrt(number1)\n",
    "        print(\"The Result is\",result)\n",
    "    except ValueError:\n",
    "        print(\"Invalid input! Please enter a positive integer or float value.\")\n",
    "\n",
    "number1= float(int(input(\"Enter a number:\")))\n",
    "calculation(number1)"
   ]
  },
  {
   "cell_type": "markdown",
   "id": "acb2d4ca-d9f5-498c-bf69-494732ba1853",
   "metadata": {},
   "source": [
    "### Exercise 3: Handling Generic Exceptions\n",
    "\n",
    "Imagine you have a number and want to perform a complex mathematical task. The caluclation requieres dividng value of the input arguemnt <code>num</code> by the difference between <code>num</code> and 5, and the result has to be stored in a variable called <code>result</code>.\n",
    "\n",
    "Youhave to define a function so that it can perform that complex mathematical task. The function should handle any potential errors that occur during the calculation. To do this, you can use a try-except block. If any exception arises during the calculation, it should catch or using the generic exception class <code>Exceptio as e </code>. When an exception occurs, the function should display <code>An error occurred during calculation.</code>"
   ]
  },
  {
   "cell_type": "code",
   "execution_count": 141,
   "id": "8f068bc1-46ec-4586-aabf-8fa86007b47f",
   "metadata": {
    "tags": []
   },
   "outputs": [
    {
     "name": "stdin",
     "output_type": "stream",
     "text": [
      "Enter a number. 5\n"
     ]
    },
    {
     "name": "stdout",
     "output_type": "stream",
     "text": [
      "An error occurred during calculation\n"
     ]
    }
   ],
   "source": [
    "def calculation2(num):\n",
    "    try:\n",
    "        result = num/(num-5)\n",
    "        print(\"The result is\", result)\n",
    "    except:\n",
    "        print(\"An error occurred during calculation\")\n",
    "\n",
    "num= float(input(\"Enter a number.\"))\n",
    "calculation2(num)"
   ]
  }
 ],
 "metadata": {
  "kernelspec": {
   "display_name": "Python 3 (ipykernel)",
   "language": "python",
   "name": "python3"
  },
  "language_info": {
   "codemirror_mode": {
    "name": "ipython",
    "version": 3
   },
   "file_extension": ".py",
   "mimetype": "text/x-python",
   "name": "python",
   "nbconvert_exporter": "python",
   "pygments_lexer": "ipython3",
   "version": "3.11.7"
  }
 },
 "nbformat": 4,
 "nbformat_minor": 5
}
