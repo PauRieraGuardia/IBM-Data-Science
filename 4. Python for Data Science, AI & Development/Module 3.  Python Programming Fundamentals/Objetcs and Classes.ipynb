{
 "cells": [
  {
   "cell_type": "markdown",
   "id": "da336c1e-48a0-41d0-8092-471e6d947b68",
   "metadata": {},
   "source": [
    "### Introduction to Classes and Objects\n",
    "\n",
    "#### Creating a Class\n",
    "\n",
    "The fisrt step in creating a class is giving it a name. In this notebook, we will create two calsses; Circle and Rectangle. We need to determine all the data that make up that class,which we call *attibutes*. Think about this step as creating a blue print that we will use to create objects. \n",
    "\n",
    "Now we are goint to create a class Circle, but first, we are going to import a library to draw the objects:"
   ]
  },
  {
   "cell_type": "code",
   "execution_count": 40,
   "id": "fcc5c26e-bf8a-4c12-bf02-c68b1ed4608e",
   "metadata": {
    "tags": []
   },
   "outputs": [],
   "source": [
    "# import the library \n",
    "\n",
    "import matplotlib.pyplot as plt\n",
    "%matplotlib inline"
   ]
  },
  {
   "cell_type": "markdown",
   "id": "2835ca4d-394b-4172-8351-2e27af7c238d",
   "metadata": {},
   "source": [
    "The fisrt step in creating your own <code>class</code> keyword, then the name of the class. In this course the class parent will always be object:\n",
    "\n",
    "The nex step is a special method called a constructor <code>_init_</code>, which is used to initialize the object. The inputs are data attributes. The term <code>self</code> contains all the attributes in the set. For example the <code>self.color</code> gives the value of the attribute color and <code>self.radius</code> will give tyou the radius of the object. We also have the method <code>add.radius()</code> with the paramenter <code>r</code>, the method adds the value of <code>r</code> to attribute radius. To access the radius we use the syntax <code>self.radius</code>.\n",
    "\n",
    "The code is shown below. We include the method <code>drawCircle</code> to display the image of a cricle. We set the default radius to 3 and the default colour to blue:"
   ]
  },
  {
   "cell_type": "code",
   "execution_count": 66,
   "id": "14621a09-77ec-4c88-9be0-a2c163a41785",
   "metadata": {
    "tags": []
   },
   "outputs": [],
   "source": [
    "# Create a class Circle\n",
    "\n",
    "class Circle(object):\n",
    "    #Constructor \n",
    "    def __init__(self, radius = 3, color = \"blue\"):\n",
    "        self.radius = radius\n",
    "        self.color = color\n",
    "    # Method\n",
    "    def add_radius(self,r):\n",
    "        self.radius = self.radius + r\n",
    "        return(self.radius)\n",
    "    # Method\n",
    "    def drawCircle(self):\n",
    "        plt.gca().add_patch(plt.Circle((0,0), radius= self.radius,fc=self.color))\n",
    "        plt.axis(\"scaled\")\n",
    "        plt.show()"
   ]
  },
  {
   "cell_type": "markdown",
   "id": "85cacc05-e584-49e3-9bb5-b7049882e3e3",
   "metadata": {},
   "source": [
    "### Creating an instance of a class Circle\n",
    "\n",
    "Let's create the object <code>RecCircle</code> of type Circle to do the following:"
   ]
  },
  {
   "cell_type": "code",
   "execution_count": 68,
   "id": "843940ec-c98e-41c2-a960-9b6c4e06fb2a",
   "metadata": {
    "tags": []
   },
   "outputs": [],
   "source": [
    "# Create an object RedCircle\n",
    "\n",
    "RedCircle = Circle(10, \"red\")"
   ]
  },
  {
   "cell_type": "markdown",
   "id": "c885892a-a6ce-4c7b-9ba4-b15896529718",
   "metadata": {},
   "source": [
    "We can use the -code_dir</code> command to get a list of the object's methods. Many of them are default Python methods."
   ]
  },
  {
   "cell_type": "code",
   "execution_count": 71,
   "id": "4c4384b0-28bc-4747-bbb9-716a9e551b9c",
   "metadata": {
    "tags": []
   },
   "outputs": [
    {
     "data": {
      "text/plain": [
       "['__class__',\n",
       " '__delattr__',\n",
       " '__dict__',\n",
       " '__dir__',\n",
       " '__doc__',\n",
       " '__eq__',\n",
       " '__format__',\n",
       " '__ge__',\n",
       " '__getattribute__',\n",
       " '__getstate__',\n",
       " '__gt__',\n",
       " '__hash__',\n",
       " '__init__',\n",
       " '__init_subclass__',\n",
       " '__le__',\n",
       " '__lt__',\n",
       " '__module__',\n",
       " '__ne__',\n",
       " '__new__',\n",
       " '__reduce__',\n",
       " '__reduce_ex__',\n",
       " '__repr__',\n",
       " '__setattr__',\n",
       " '__sizeof__',\n",
       " '__str__',\n",
       " '__subclasshook__',\n",
       " '__weakref__',\n",
       " 'add_radius',\n",
       " 'color',\n",
       " 'drawCircle',\n",
       " 'radius']"
      ]
     },
     "execution_count": 71,
     "metadata": {},
     "output_type": "execute_result"
    }
   ],
   "source": [
    "# Find out the methods can be used on the obecjt RedCircle\n",
    "\n",
    "dir(RedCircle)"
   ]
  },
  {
   "cell_type": "markdown",
   "id": "d9be68c9-a5e9-4f9b-99cb-0a2b9057c837",
   "metadata": {},
   "source": [
    "We can look at the data attributes of the object:"
   ]
  },
  {
   "cell_type": "code",
   "execution_count": 74,
   "id": "b7da6c54-60ad-457c-9397-d46b4ef9592e",
   "metadata": {
    "tags": []
   },
   "outputs": [
    {
     "data": {
      "text/plain": [
       "10"
      ]
     },
     "execution_count": 74,
     "metadata": {},
     "output_type": "execute_result"
    }
   ],
   "source": [
    "# print the object atribute atributes\n",
    "\n",
    "RedCircle.radius"
   ]
  },
  {
   "cell_type": "code",
   "execution_count": 76,
   "id": "9910687d-9620-4488-9ef5-de8ea9d84734",
   "metadata": {
    "tags": []
   },
   "outputs": [
    {
     "data": {
      "text/plain": [
       "'red'"
      ]
     },
     "execution_count": 76,
     "metadata": {},
     "output_type": "execute_result"
    }
   ],
   "source": [
    "#  print the object attribute color\n",
    "\n",
    "RedCircle.color"
   ]
  },
  {
   "cell_type": "markdown",
   "id": "633b2bf7-3fc3-4be7-a480-a5b86114caa1",
   "metadata": {
    "tags": []
   },
   "source": [
    "We can change the objects's data attributes:"
   ]
  },
  {
   "cell_type": "code",
   "execution_count": 83,
   "id": "04914b2f-c85b-4906-bf22-aa36d4ac108b",
   "metadata": {
    "tags": []
   },
   "outputs": [
    {
     "data": {
      "text/plain": [
       "1"
      ]
     },
     "execution_count": 83,
     "metadata": {},
     "output_type": "execute_result"
    }
   ],
   "source": [
    "# Set the object attributes radius\n",
    "\n",
    "RedCircle.radius = 1\n",
    "RedCircle.radius"
   ]
  },
  {
   "cell_type": "markdown",
   "id": "b666e5be-e845-4f9c-b083-cad09eedb331",
   "metadata": {},
   "source": [
    "We can draw the object by using the method <code>drwCircle()</code>:"
   ]
  },
  {
   "cell_type": "code",
   "execution_count": 87,
   "id": "d2246b39-209e-4ff9-841d-761be9082453",
   "metadata": {
    "tags": []
   },
   "outputs": [
    {
     "data": {
      "image/png": "[encoded data removed]",
      "text/plain": [
       "<Figure size 640x480 with 1 Axes>"
      ]
     },
     "metadata": {},
     "output_type": "display_data"
    }
   ],
   "source": [
    "# Call the method drwCircle\n",
    "\n",
    "RedCircle.drawCircle()"
   ]
  },
  {
   "cell_type": "markdown",
   "id": "eac1d9c1-ea64-4500-9db1-c4d3c65ba68b",
   "metadata": {},
   "source": [
    "We can increase the radius of the circle by applying the methdo <code>add.radius()</code>. Let's increases the radius by 2 and then by 5.  "
   ]
  },
  {
   "cell_type": "code",
   "execution_count": 90,
   "id": "29b77756-dd77-4d8a-b49e-6503d176b5a7",
   "metadata": {
    "tags": []
   },
   "outputs": [
    {
     "name": "stdout",
     "output_type": "stream",
     "text": [
      "Radius of object: 1\n",
      "Radius of object after applying the method add_radius(2): 3\n",
      "Radius of object after applying the method add_radius(5): 8\n"
     ]
    }
   ],
   "source": [
    "# Use method to change the object attributes raadius\n",
    "\n",
    "print(\"Radius of object:\",RedCircle.radius)\n",
    "RedCircle.add_radius(2)\n",
    "print(\"Radius of object after applying the method add_radius(2):\",RedCircle.radius)\n",
    "RedCircle.add_radius(5)\n",
    "print(\"Radius of object after applying the method add_radius(5):\",RedCircle.radius)\n"
   ]
  },
  {
   "cell_type": "code",
   "execution_count": 102,
   "id": "cbcad0df-9b40-40c0-943d-4a81264c1ef0",
   "metadata": {
    "tags": []
   },
   "outputs": [
    {
     "data": {
      "image/png": "[encoded data removed]",
      "text/plain": [
       "<Figure size 640x480 with 1 Axes>"
      ]
     },
     "metadata": {},
     "output_type": "display_data"
    }
   ],
   "source": [
    "RedCircle.drawCircle()"
   ]
  },
  {
   "cell_type": "markdown",
   "id": "792747e6-3b04-4b4c-9f89-a49fb45e791e",
   "metadata": {},
   "source": [
    "Let's create a blue circle. As the default colour is blu, all we have to do is specify what the radius is:"
   ]
  },
  {
   "cell_type": "code",
   "execution_count": 97,
   "id": "500888d4-8220-4e36-8240-07408ed02d77",
   "metadata": {
    "tags": []
   },
   "outputs": [],
   "source": [
    "# Create a blue circle with a given radius\n",
    "\n",
    "BlueCircle = Circle(radius=100)"
   ]
  },
  {
   "cell_type": "code",
   "execution_count": 100,
   "id": "66ce841a-d1e3-41d9-8099-ebb4abf39765",
   "metadata": {
    "tags": []
   },
   "outputs": [
    {
     "data": {
      "image/png": "[encoded data removed]",
      "text/plain": [
       "<Figure size 640x480 with 1 Axes>"
      ]
     },
     "metadata": {},
     "output_type": "display_data"
    }
   ],
   "source": [
    "BlueCircle.drawCircle()"
   ]
  },
  {
   "cell_type": "markdown",
   "id": "591409f4-29a9-47d4-a1a8-953de3133ad0",
   "metadata": {},
   "source": [
    "### The Rectanlge Class\n",
    "\n",
    "Let's create a class rectangle wioth the attributes of height, width, and color. We will only add the method to draw the rectangle object:"
   ]
  },
  {
   "cell_type": "code",
   "execution_count": 127,
   "id": "5e2bd9a5-8324-4535-b394-e97a3efde336",
   "metadata": {
    "tags": []
   },
   "outputs": [],
   "source": [
    "class Rectangle(object):\n",
    "    def __init__(self, width=2, height=3, color=\"green\"):\n",
    "        self.height = height\n",
    "        self.width = width \n",
    "        self.color = color  \n",
    "    def drawRectangle (self):\n",
    "        plt.gca().add_patch(plt.Rectangle((0,0),self.width,self.height,fc=self.color))\n",
    "        plt.axis (\"scaled\")\n",
    "        plt.show"
   ]
  },
  {
   "cell_type": "markdown",
   "id": "fd42f0cc-1b7c-409d-9343-6caeb3a60e0e",
   "metadata": {},
   "source": [
    "Let's create the object <code>SkinnyBlueRectangle </code> pf type Rectangle. Its width will be 2 and height will be 3, and the color willbe blue:"
   ]
  },
  {
   "cell_type": "code",
   "execution_count": 129,
   "id": "eff66e8d-94e9-457e-a1da-4fc15d18fda0",
   "metadata": {
    "tags": []
   },
   "outputs": [],
   "source": [
    "# Create a new object rectangle\n",
    "\n",
    "SkinnyBlueRectangle = Rectangle(2,3,\"blue\")"
   ]
  },
  {
   "cell_type": "code",
   "execution_count": 131,
   "id": "296c9125-e570-4091-9fab-7c86c1a0047a",
   "metadata": {
    "tags": []
   },
   "outputs": [
    {
     "data": {
      "image/png": "[encoded data removed]",
      "text/plain": [
       "<Figure size 640x480 with 1 Axes>"
      ]
     },
     "metadata": {},
     "output_type": "display_data"
    }
   ],
   "source": [
    "SkinnyBlueRectangle.drawRectangle()"
   ]
  },
  {
   "cell_type": "markdown",
   "id": "1e541be2-e7a6-42b2-9436-4aa939a39acf",
   "metadata": {},
   "source": [
    "### Scenario: Car dealership's inventory management system\n",
    "\n",
    "You are working on a Python program to simulate a car dealership's inventory management system. The system aims to model cars and their attributes accuratly."
   ]
  },
  {
   "cell_type": "markdown",
   "id": "7952d68f-5467-438a-af42-08387e763419",
   "metadata": {},
   "source": [
    "#### Taks-1 You are tasket woth creating a Python program to represent vehicles using a class. Each car should have attributes for maximum speed an mileage."
   ]
  },
  {
   "cell_type": "code",
   "execution_count": 137,
   "id": "c3369237-c72b-48df-9282-38bb9d6b4337",
   "metadata": {
    "tags": []
   },
   "outputs": [],
   "source": [
    "class veichle:\n",
    "    def __init__(self, max_speed, mileage):\n",
    "        self.max_speed = max_speed\n",
    "        self.mileage = mileage"
   ]
  },
  {
   "cell_type": "markdown",
   "id": "46694390-1849-4992-85eb-9a1d3e55a549",
   "metadata": {},
   "source": [
    "#### Task- 2 Update the class with the default color for all veichles, \"white\"."
   ]
  },
  {
   "cell_type": "code",
   "execution_count": 140,
   "id": "726f118c-5085-4262-8735-89cb61129c59",
   "metadata": {
    "tags": []
   },
   "outputs": [],
   "source": [
    "class veichle:\n",
    "    color = \"white\"\n",
    "    def __init__(self,max_speed,mileage):\n",
    "        self.max_speed = max_speed\n",
    "        self.mileage = mileage"
   ]
  },
  {
   "cell_type": "markdown",
   "id": "4d6197b5-c778-4a29-85ee-b8dd081b743f",
   "metadata": {},
   "source": [
    "#### Task-3 Additionally, you need to create mehtods in the Vehicle calss to assing seating capacity to a vehicle."
   ]
  },
  {
   "cell_type": "code",
   "execution_count": 146,
   "id": "cd5a9141-d10d-4587-887c-94bf09af6750",
   "metadata": {
    "tags": []
   },
   "outputs": [],
   "source": [
    "class veichle:\n",
    "    color = \"white\"\n",
    "    def __init__(self,max_speed,mileage):\n",
    "        self.max_speed = max_speed\n",
    "        self.mileage = mileage\n",
    "    def assing_seating_capacity(self,seating_capacity):\n",
    "        self.seating_capacity = seating_capacity\n",
    "        "
   ]
  },
  {
   "cell_type": "markdown",
   "id": "8f433c1d-055d-4ace-8eaf-508af27bf5e0",
   "metadata": {},
   "source": [
    "#### Task-4 Create a method to display all the properties of an object of the class."
   ]
  },
  {
   "cell_type": "code",
   "execution_count": 149,
   "id": "6facd504-f588-4d97-8f9a-da02963df0f0",
   "metadata": {
    "tags": []
   },
   "outputs": [],
   "source": [
    "class veichle:\n",
    "    color = \"white\"\n",
    "    def __init__(self,max_speed,mileage):\n",
    "        self.max_speed = max_speed\n",
    "        self.mileage = mileage\n",
    "    def assing_seating_capacity(self,seating_capacity):\n",
    "        self.seating_capacity = seating_capacity\n",
    "    def display_propertires (self):\n",
    "        print(\"Properties of the Vehicle:\")\n",
    "        print(\"Color:\", self.color)\n",
    "        print(\"Maximum Speed:\", self.max_speed)\n",
    "        print(\"Mileage:\", self.mileage)\n",
    "        print(\"Seating Capacity:\", self.seating_capacity)"
   ]
  },
  {
   "cell_type": "markdown",
   "id": "38671ee9-c536-4f9a-a0a0-11dd124e2527",
   "metadata": {},
   "source": [
    "#### Task-5. Additionally, you need to create two objects of the Vehicle class object that should have a max speed of 200kmph and mileage of 20kmpl with five seating capacities, and another car object should have a max speed of 180kmph and mileage of 25kmpl with four seating capacities.\n"
   ]
  },
  {
   "cell_type": "code",
   "execution_count": 152,
   "id": "8eeb9291-2825-4c7c-9bfa-5eb157fff0be",
   "metadata": {
    "tags": []
   },
   "outputs": [
    {
     "name": "stdout",
     "output_type": "stream",
     "text": [
      "Properties of the Vehicle:\n",
      "Color: white\n",
      "Maximum Speed: 200\n",
      "Mileage: 20\n",
      "Seating Capacity: 5\n",
      "Properties of the Vehicle:\n",
      "Color: white\n",
      "Maximum Speed: 180\n",
      "Mileage: 25\n",
      "Seating Capacity: 4\n"
     ]
    }
   ],
   "source": [
    "class Vehicle:\n",
    "    color = \"white\"\n",
    "\n",
    "    def __init__(self, max_speed, mileage):\n",
    "        self.max_speed = max_speed\n",
    "        self.mileage = mileage\n",
    "        self.seating_capacity = None\n",
    "\n",
    "    def assign_seating_capacity(self, seating_capacity):\n",
    "        self.seating_capacity = seating_capacity\n",
    "\n",
    "    def display_properties(self):\n",
    "        print(\"Properties of the Vehicle:\")\n",
    "        print(\"Color:\", self.color)\n",
    "        print(\"Maximum Speed:\", self.max_speed)\n",
    "        print(\"Mileage:\", self.mileage)\n",
    "        print(\"Seating Capacity:\", self.seating_capacity)\n",
    "\n",
    "# Creating objects of the Vehicle class\n",
    "vehicle1 = Vehicle(200, 20)\n",
    "vehicle1.assign_seating_capacity(5)\n",
    "vehicle1.display_properties()\n",
    "\n",
    "vehicle2 = Vehicle(180, 25)\n",
    "vehicle2.assign_seating_capacity(4)\n",
    "vehicle2.display_properties()"
   ]
  }
 ],
 "metadata": {
  "kernelspec": {
   "display_name": "Python 3 (ipykernel)",
   "language": "python",
   "name": "python3"
  },
  "language_info": {
   "codemirror_mode": {
    "name": "ipython",
    "version": 3
   },
   "file_extension": ".py",
   "mimetype": "text/x-python",
   "name": "python",
   "nbconvert_exporter": "python",
   "pygments_lexer": "ipython3",
   "version": "3.11.7"
  }
 },
 "nbformat": 4,
 "nbformat_minor": 5
}
