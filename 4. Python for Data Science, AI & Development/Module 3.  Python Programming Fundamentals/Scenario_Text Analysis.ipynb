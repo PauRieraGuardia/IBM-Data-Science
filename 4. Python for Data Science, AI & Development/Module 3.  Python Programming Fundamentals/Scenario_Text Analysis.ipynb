{
 "cells": [
  {
   "cell_type": "markdown",
   "id": "2e26eada-512b-4c7e-8db2-26b8b5f64074",
   "metadata": {
    "tags": []
   },
   "source": [
    "## Scenario: Text Analysis\n",
    "\n",
    "### What is text analysis?\n",
    "\n",
    "Text analysis, also known as text mining or text analytics, refers to the process of extracting meaningful information and insights fro textual data."
   ]
  },
  {
   "cell_type": "markdown",
   "id": "ab0f276b-cc07-4c2d-81dc-ac655a56dc5d",
   "metadata": {},
   "source": [
    "<b> Let's consider a real-life scenario where you are analyzing customer feedback for a product. You have a large data set of customer reviews in the form of strinfs, and you want to extract useful information from them using the three indentified tasks: </b>\n",
    "\n",
    "<b>Task 1. String in lowercase:</b> You want to pre-process the customer feedback by converting all the tet to lowercase. this step helps standarize the text. Lower casing the text allows you to focus on the content rather than the speceific letter casing. \n",
    "\n",
    "<b>Task 2. Fraquency of all words in a given string:</b> After converting the text to lowercase, you want to determine the frequency of each word in the customer feedback. This information will help you identify which words are used more frequently, indicating the key aspects or topics that customers are mentioning in their reveiws. By analyzing the word frequencies, you can gain insights into the most common issues raised by customers.\n",
    "\n",
    "<b>Task 3. Frequency of a specific word:</b> In addition to analyzing the overall word frequencies, you want to specifically track the frequency of a particular word that is relefvant to your analysis. For example, you might be interested in monitoring how often the word \"reilable\" appears in customer reveiws to gauge customer sentiment about the product's reliability. By focusing on the frequency of a specific word, you can gain a deeper undersatnding of customer opinions or preferences related to taht particualr aspect.\n",
    "\n",
    "By performing thses tasks on the customer feedback dataset, you can gain valuable insights into customer sentiment."
   ]
  },
  {
   "cell_type": "markdown",
   "id": "43131c8c-709f-40f8-a5fc-9ad1bf8f215e",
   "metadata": {},
   "source": [
    "### Part A\n",
    "\n",
    "#### Step 1: Define a string"
   ]
  },
  {
   "cell_type": "code",
   "execution_count": 6,
   "id": "7a1668e1-e010-4876-acba-6e0f7965bc41",
   "metadata": {
    "tags": []
   },
   "outputs": [],
   "source": [
    "#Press Shift+Enter to run the code\n",
    "givenstring=\"Lorem ipsum dolor! diam amet, consetetur Lorem magna. sed diam nonumy eirmod tempor. diam et labore? et diam magna. et diam amet.\""
   ]
  },
  {
   "cell_type": "markdown",
   "id": "4050631d-48c8-475e-b6f3-485c4189d101",
   "metadata": {},
   "source": [
    "#### Step 2: Define the class and its attibutes\n",
    "\n",
    "1. Create a class named TextAnalyzer\n",
    "2. Define the constructor <code>__int__</code> method that takes a text argument."
   ]
  },
  {
   "cell_type": "markdown",
   "id": "419a0f5a-f045-44ce-bf4c-a9801246dc03",
   "metadata": {},
   "source": [
    "#### Step 3. Implement a code to format the text in lowercase\n",
    "\n",
    "1. Inside the constructor, convert the text argument to lowercase using the <code>lower()</code> method.\n",
    "2. Then, remove puntuation marks (periods, exlamation marks, commas, and question marks) from the text using the <code>replace()</code> method. \n",
    "3. Finally, assign the formated text to a new attribute called fmText."
   ]
  },
  {
   "cell_type": "code",
   "execution_count": 14,
   "id": "d9114396-ce18-4c3a-9650-764b705e64c1",
   "metadata": {
    "tags": []
   },
   "outputs": [],
   "source": [
    "class TextAnalyzer(object):\n",
    "    \n",
    "    def __init__ (self,text):\n",
    "        # remove punctiation \n",
    "        formatedText=text.replace(\".\",\"\").replace(\"!\",\"\").replace(\"?\",\"\").replace(\",\",\"\")\n",
    "        \n",
    "        # make text lowercase\n",
    "        formattedText = formattedText.lower()\n",
    "        \n",
    "        self.fmText = formattedText"
   ]
  },
  {
   "cell_type": "markdown",
   "id": "3925339f-33e9-44f2-8c70-1ccaffa7add3",
   "metadata": {},
   "source": [
    "#### Step 4: Implement a code to count the frequency of all unique words\n",
    "\n",
    "* In this step, you will implement <code>freqAll()</code> method with the below paramenters:\n",
    "\n",
    "1. Split the fmText attribute into individual words using the <code>split()</code> method.\n",
    "2. Create an empty dictionary to store the word frequency. \n",
    "3. Iterate over the list of words and update the frequency diuctionary accordignly.\n",
    "4. Use <code>count</code> method for counting the occurence. \n",
    "5. Return the frequency dictionary.\n",
    "\n",
    "<b>Upadte above the <code>TextAnalyzer</code> class with points mentioned above.</b>"
   ]
  },
  {
   "cell_type": "code",
   "execution_count": 21,
   "id": "4cef1d82-0de9-4b59-b2e4-b70adcda3a1f",
   "metadata": {
    "tags": []
   },
   "outputs": [],
   "source": [
    "class TextAnalyzer(object):\n",
    "    \n",
    "    def __init__ (self,text):\n",
    "        # remove punctiation \n",
    "        formatedText=text.replace(\".\",\"\").replace(\"!\",\"\").replace(\"?\",\"\").replace(\",\",\"\")\n",
    "        \n",
    "        # make text lowercase\n",
    "        formattedText = formattedText.lower()\n",
    "        \n",
    "        self.fmText = formattedText\n",
    "    def freqAll(self):\n",
    "        # Split into words\n",
    "        wordList = self.fmText.split(\" \")\n",
    "        # Create a dictionary\n",
    "        \n",
    "        freqMap = {}\n",
    "        for word in wordList:\n",
    "            freqMap[word] = wprdlist.count(word)\n",
    "        return freqmap"
   ]
  },
  {
   "cell_type": "markdown",
   "id": "bbaa6b78-d00a-47a6-9c03-ccc21a68a88f",
   "metadata": {},
   "source": [
    "#### Setp 5: Implement a code to count the frequency of speccific word\n",
    "\n",
    "in step 5, you have to implement <code>freqOf(word)</code> method that takes a word argument:\n",
    "\n",
    "1. Create a method and pass the word that needs to be found.\n",
    "2. get the <code>freqAll</code> method to loo for count and check if that word is in the list.\n",
    "3. Return the count. If the word is not found, the count returned is 0.\n",
    "\n",
    "<b> Update the aboe <code>TextAnalyzer</code> class wioth the points mentioned above."
   ]
  },
  {
   "cell_type": "code",
   "execution_count": 115,
   "id": "a063255f-da3d-4edb-95e5-d525b4bafd7b",
   "metadata": {
    "tags": []
   },
   "outputs": [],
   "source": [
    "class TextAnalyzer(object):\n",
    "    \n",
    "    def __init__ (self,text):\n",
    "        # remove punctiation \n",
    "        formattedText=text.replace(\".\",\"\").replace(\"!\",\"\").replace(\"?\",\"\").replace(\",\",\"\")\n",
    "        \n",
    "        # make text lowercase\n",
    "        formattedText = formattedText.lower()\n",
    "        \n",
    "        self.fmText = formattedText\n",
    "    def freqAll(self):\n",
    "        # Split into words\n",
    "        wordList = self.fmText.split(\" \")\n",
    "        # Create a dictionary\n",
    "        \n",
    "        freqMap = {}\n",
    "        for word in wordList:\n",
    "            freqMap[word] = wordList.count(word)\n",
    "        return freqMap\n",
    "    def freqOf(self,word):\n",
    "        # ger frequency map\n",
    "        freqDict = self.freqAll()\n",
    "        if word in freqDict:\n",
    "            return freqDict[word]\n",
    "        else:\n",
    "            return 0"
   ]
  },
  {
   "cell_type": "markdown",
   "id": "6b8db9d0-cea7-4745-949c-91367f2cd485",
   "metadata": {},
   "source": [
    "### Part B\n",
    "\n",
    "<b> In part B, you will call the functioms created in Part A, allowing the functions to execute and generate output</b>\n",
    "\n",
    "#### Step 1: Create an instance of TextAnalyzer class\n",
    "\n",
    "* Instantiate the TextAnalyzer class by passing the given strins as an argument."
   ]
  },
  {
   "cell_type": "code",
   "execution_count": 117,
   "id": "6979753e-e447-4777-a2d8-264dd3a30bd2",
   "metadata": {
    "tags": []
   },
   "outputs": [],
   "source": [
    "analyzed = TextAnalyzer(givenstring)"
   ]
  },
  {
   "cell_type": "markdown",
   "id": "14f47159-45a5-44e1-81da-52a2938e0c08",
   "metadata": {},
   "source": [
    "#### Step 2: Call the function that converts the data into lowercase"
   ]
  },
  {
   "cell_type": "code",
   "execution_count": 120,
   "id": "db9474f8-d5a0-4e73-bd7c-03d935ff373a",
   "metadata": {
    "tags": []
   },
   "outputs": [
    {
     "name": "stdout",
     "output_type": "stream",
     "text": [
      "Formatted Text: lorem ipsum dolor diam amet consetetur lorem magna sed diam nonumy eirmod tempor diam et labore et diam magna et diam amet\n"
     ]
    }
   ],
   "source": [
    "print(\"Formatted Text:\",analyzed.fmText)"
   ]
  },
  {
   "cell_type": "markdown",
   "id": "fb805856-cc49-4542-8e09-eaf8c864f9df",
   "metadata": {},
   "source": [
    "#### Step 3: Call the function that cpunts the frequency of all unique words from the dataçç"
   ]
  },
  {
   "cell_type": "code",
   "execution_count": 122,
   "id": "0b8f674c-12eb-42c0-ba07-274b82265068",
   "metadata": {
    "tags": []
   },
   "outputs": [
    {
     "name": "stdout",
     "output_type": "stream",
     "text": [
      "{'lorem': 2, 'ipsum': 1, 'dolor': 1, 'diam': 5, 'amet': 2, 'consetetur': 1, 'magna': 2, 'sed': 1, 'nonumy': 1, 'eirmod': 1, 'tempor': 1, 'et': 3, 'labore': 1}\n"
     ]
    }
   ],
   "source": [
    "freqMap = analyzed.freqAll()\n",
    "\n",
    "print(freqMap)"
   ]
  },
  {
   "cell_type": "markdown",
   "id": "2afabffb-ae8b-4874-8004-427105f9066e",
   "metadata": {},
   "source": [
    "#### Step 4: Call the function that count the frequency of a specific word\n",
    "\n",
    "Here, you will call the function that counts the frequency of the word \"lorem\".\n",
    "\n",
    "Print the ouput"
   ]
  },
  {
   "cell_type": "code",
   "execution_count": 125,
   "id": "97ca54f4-db41-43c8-b559-10631a55427d",
   "metadata": {
    "tags": []
   },
   "outputs": [
    {
     "name": "stdout",
     "output_type": "stream",
     "text": [
      "The frequency of the word  lorem is 2\n"
     ]
    }
   ],
   "source": [
    "word = \"lorem\"\n",
    "\n",
    "frequency = analyzed.freqOf(word)\n",
    "print(\"The frequency of the word \", word,\"is\",frequency) "
   ]
  }
 ],
 "metadata": {
  "kernelspec": {
   "display_name": "Python 3 (ipykernel)",
   "language": "python",
   "name": "python3"
  },
  "language_info": {
   "codemirror_mode": {
    "name": "ipython",
    "version": 3
   },
   "file_extension": ".py",
   "mimetype": "text/x-python",
   "name": "python",
   "nbconvert_exporter": "python",
   "pygments_lexer": "ipython3",
   "version": "3.11.7"
  }
 },
 "nbformat": 4,
 "nbformat_minor": 5
}
