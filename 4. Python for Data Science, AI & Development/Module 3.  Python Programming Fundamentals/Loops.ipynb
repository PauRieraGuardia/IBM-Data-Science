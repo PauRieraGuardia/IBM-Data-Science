{
 "cells": [
  {
   "cell_type": "markdown",
   "id": "98611a51-5ced-4554-8c0b-1c10f5d288e7",
   "metadata": {},
   "source": [
    "### Loops\n",
    "\n",
    "#### Range\n",
    "\n",
    "Sometimes, you might want to repeat a given operation many times. Repeated executons like this are performed by loops. We will look at two types of loops. <code>for</code> loops and <code>while</code> loops.\n",
    "\n",
    "Before we discuss loops lets discuss the <code>range</code> objecti. It is helpful to think of the range object as an ordered list. For now, let's look at the simplest case. If we would like to generate an object that contains elements ordered from 0 to 2 we simply use the following command:"
   ]
  },
  {
   "cell_type": "code",
   "execution_count": 3,
   "id": "216f86fe-5838-4333-a706-aa12355c88c9",
   "metadata": {
    "tags": []
   },
   "outputs": [
    {
     "data": {
      "text/plain": [
       "range(0, 3)"
      ]
     },
     "execution_count": 3,
     "metadata": {},
     "output_type": "execute_result"
    }
   ],
   "source": [
    "# Use the range\n",
    "\n",
    "range(3)"
   ]
  },
  {
   "cell_type": "markdown",
   "id": "e0c92e03-f397-48ba-a359-0d76531cbc9e",
   "metadata": {},
   "source": [
    "#### What is <code>for</code> loop?\n",
    "\n",
    "The <code>for</code> loop enables you to execute a code block multiplie times. For example, you would use this if you would like tio print put every element in a list.\n",
    "\n",
    "Let's try to use a <code>for</code> loop to print all the years presented in the list <code>dates</code>:\n",
    "\n",
    "This can be done as follows:"
   ]
  },
  {
   "cell_type": "code",
   "execution_count": 12,
   "id": "6e4bb30c-7b26-4cca-89f3-305922e8ba5e",
   "metadata": {
    "tags": []
   },
   "outputs": [
    {
     "name": "stdout",
     "output_type": "stream",
     "text": [
      "1982\n",
      "1980\n",
      "1973\n",
      "1981\n",
      "1945\n"
     ]
    }
   ],
   "source": [
    "# For loop example\n",
    "\n",
    "dates = [1982,1980,1973,1981,1945]\n",
    "\n",
    "N = len(dates)\n",
    "\n",
    "for i in range(N):\n",
    "    print(dates[i])"
   ]
  },
  {
   "cell_type": "markdown",
   "id": "11940b66-76b3-4f14-9636-2cc504c2cdfa",
   "metadata": {},
   "source": [
    "The code in the indent is executed <code>N</code> times, each time the value of <code>i</code> is increased by 1 for every execution. The statement executed is to <code>print</code> out the value in the list ar index <code>i</code> as shown. "
   ]
  },
  {
   "cell_type": "markdown",
   "id": "5a3bc795-6360-400e-8dae-77d832b660b7",
   "metadata": {},
   "source": [
    "In this example we can print ut a sequence of numbers from 0 to 7:"
   ]
  },
  {
   "cell_type": "code",
   "execution_count": 23,
   "id": "0d90d22d-3cc7-4a48-9ad8-b6906d8334f8",
   "metadata": {
    "tags": []
   },
   "outputs": [
    {
     "name": "stdout",
     "output_type": "stream",
     "text": [
      "0\n",
      "1\n",
      "2\n",
      "3\n",
      "4\n",
      "5\n",
      "6\n",
      "7\n"
     ]
    }
   ],
   "source": [
    "# Example of for loop\n",
    "\n",
    "for i in range(0,8):\n",
    "    print(i)"
   ]
  },
  {
   "cell_type": "markdown",
   "id": "cc60937d-426c-4afe-9d29-5eb969ab68f6",
   "metadata": {},
   "source": [
    "In Python we can directly access the elements in the list as follows:"
   ]
  },
  {
   "cell_type": "code",
   "execution_count": 36,
   "id": "3f85455b-bd83-4b9e-9ec7-8640d13abdff",
   "metadata": {
    "tags": []
   },
   "outputs": [
    {
     "name": "stdout",
     "output_type": "stream",
     "text": [
      "1982\n",
      "1980\n",
      "1973\n",
      "1981\n",
      "1945\n"
     ]
    }
   ],
   "source": [
    "# Example of for loop, loop through list\n",
    "\n",
    "for year in dates:\n",
    "    print(year)"
   ]
  },
  {
   "cell_type": "markdown",
   "id": "71ca708b-821f-4680-b2c3-7ae5b1a14b07",
   "metadata": {},
   "source": [
    "For each iteration, the value of the cariable <code>year</code> behaves like the value of <code>dates[i]</code> in the firt example:"
   ]
  },
  {
   "cell_type": "markdown",
   "id": "2a4b1255-5637-40ef-92a8-0531c7a0ba35",
   "metadata": {},
   "source": [
    "We can change the elements in a list:"
   ]
  },
  {
   "cell_type": "code",
   "execution_count": 44,
   "id": "f8f04ec9-997a-4232-8ed8-6c5bd4debf36",
   "metadata": {
    "tags": []
   },
   "outputs": [
    {
     "name": "stdout",
     "output_type": "stream",
     "text": [
      "Before square 0 is red\n",
      "After square 0 is white\n",
      "Before square 1 is yellow\n",
      "After square 1 is white\n",
      "Before square 2 is green\n",
      "After square 2 is white\n",
      "Before square 3 is purple\n",
      "After square 3 is white\n",
      "Before square 4 is blue\n",
      "After square 4 is white\n"
     ]
    }
   ],
   "source": [
    "# Use for loop to change the elements in list\n",
    "\n",
    "squares = [\"red\",\"yellow\",\"green\",\"purple\",\"blue\"]\n",
    "\n",
    "for i in range(0,5):\n",
    "    print(\"Before square\",i,\"is\",squares[i])\n",
    "    squares[i]=\"white\"\n",
    "    print(\"After square\", i, \"is\", squares[i])"
   ]
  },
  {
   "cell_type": "markdown",
   "id": "f3762dfe-5b8c-4157-9507-a4530b8f6e6f",
   "metadata": {},
   "source": [
    "We can access the index and the elements of a list as follows:"
   ]
  },
  {
   "cell_type": "code",
   "execution_count": 54,
   "id": "5450f9dd-abc8-4896-9266-ee85203afb54",
   "metadata": {
    "tags": []
   },
   "outputs": [
    {
     "name": "stdout",
     "output_type": "stream",
     "text": [
      "0 red\n",
      "1 yellow\n",
      "2 green\n",
      "3 purple\n",
      "4 blue\n"
     ]
    }
   ],
   "source": [
    "# Loop through the list and iterate on both index and element value\n",
    "\n",
    "squares=[\"red\",\"yellow\",\"green\",\"purple\",\"blue\"]\n",
    "for i, square in enumerate(squares):\n",
    "    print(i, square)"
   ]
  },
  {
   "cell_type": "markdown",
   "id": "8ffe9737-4554-4dba-8454-46224bde6307",
   "metadata": {},
   "source": [
    "#### What is <code>white</code> loop?\n",
    "\n",
    "As you can see, the <code>for</code> loops is used fo a controlled flow of repetition. However, what if we don't know when we want to stop the loop? What if we want to keep executing a code block until a certain condition is met? the <code>while</code> loop exists as a tool for repeated execution based on a condition. The code block will keep being executed until the given logical condition returns a <b>False</b> boolean value."
   ]
  },
  {
   "cell_type": "markdown",
   "id": "e0906206-beb5-4ee8-a6d2-713752dc2658",
   "metadata": {},
   "source": [
    "##### <b> Here's how a while loop works:</b>\n",
    "\n",
    "1. First, you specify a condition that the loop will check before each iteration (repetition) of the code block.\n",
    "2. If the condition is initially true, the code block is executed.\n",
    "3. After executin the code block, the condition is checked again. \n",
    "4. If the condition is still true, the code blok is executed again.\n",
    "5. Steps 3 and 4 repeat until the condition becomes false.\n",
    "6. Once the condition becomes false, the loop and the program continues with the next line of code after the loop."
   ]
  },
  {
   "cell_type": "markdown",
   "id": "592173f6-64af-4e46-b5ac-0020db398c84",
   "metadata": {},
   "source": [
    "Here's an example of a while loop that prints numbers fri"
   ]
  },
  {
   "cell_type": "code",
   "execution_count": 5,
   "id": "62e9dcde-568d-491b-8341-5f1709ff70f2",
   "metadata": {
    "tags": []
   },
   "outputs": [
    {
     "name": "stdout",
     "output_type": "stream",
     "text": [
      "1\n",
      "2\n",
      "3\n",
      "4\n",
      "5\n",
      "6\n",
      "7\n",
      "8\n",
      "9\n"
     ]
    }
   ],
   "source": [
    "count = 1\n",
    "while count <=9:\n",
    "    print(count)\n",
    "    count = count +1 "
   ]
  },
  {
   "cell_type": "markdown",
   "id": "0371183b-2bf8-43e9-a2f8-37b8ebe1b4e6",
   "metadata": {},
   "source": [
    "In this example, the condition <b>count <=9 </b> is checked before each iteration. As long as count is less than or equal to 9, the code block inside the loop is executed. Adfter each iteration, the value of count is incremented by 1 using count 0 count + 1. Once count reaches 10, the condition becomes false, and the liip stops."
   ]
  },
  {
   "cell_type": "markdown",
   "id": "6813b1d9-e08c-47db-8709-9ef33302c907",
   "metadata": {},
   "source": [
    "Let's sat we would like to iterate through list <code>dates</code> and stop at the year 1973, then print out the number of iterations. This can be done with the following block of code:"
   ]
  },
  {
   "cell_type": "code",
   "execution_count": 4,
   "id": "ed4da478-9182-4f87-8535-66cd27e6e620",
   "metadata": {},
   "outputs": [
    {
     "name": "stdout",
     "output_type": "stream",
     "text": [
      "1982\n",
      "1980\n",
      "1973\n"
     ]
    }
   ],
   "source": [
    "# While Loop example\n",
    "\n",
    "dates= [1982,1980,1973,2000]\n",
    "\n",
    "i=0\n",
    "year=dates[0]\n",
    "\n",
    "while year !=2000:\n",
    "    print(year)\n",
    "    i = i+1\n",
    "    year=dates[i]"
   ]
  },
  {
   "cell_type": "markdown",
   "id": "0e9d3764-ecaa-4bb0-b0cb-4549585eaad7",
   "metadata": {},
   "source": [
    "A while loop iterates merely until the condition in the argument is not met, as shown."
   ]
  },
  {
   "cell_type": "markdown",
   "id": "cb6eced2-4c2e-4548-b768-2374166f7272",
   "metadata": {},
   "source": [
    "### Practise Exercicses on Loops\n",
    "\n",
    "Write a <code>for</code> loop the prints put all the elements between -5 and 5 usign the range function: "
   ]
  },
  {
   "cell_type": "code",
   "execution_count": 19,
   "id": "6823f18d-2fdc-41f3-bafa-05743a6f82cb",
   "metadata": {
    "tags": []
   },
   "outputs": [
    {
     "name": "stdout",
     "output_type": "stream",
     "text": [
      "-4\n",
      "-3\n",
      "-2\n",
      "-1\n",
      "0\n",
      "1\n",
      "2\n",
      "3\n",
      "4\n"
     ]
    }
   ],
   "source": [
    "for i in range(-4,5): \n",
    "    print(i)"
   ]
  },
  {
   "cell_type": "markdown",
   "id": "ef5a07cd-9839-487b-9d66-7368396f8260",
   "metadata": {},
   "source": [
    "Print the elements of the following list: <code> Genres= [\"rock\",\"R&B\", \"Soundtrack\",\"R&B\",\"soul\",\"pop\"]</code>. Make sure you follow Python conventions:"
   ]
  },
  {
   "cell_type": "code",
   "execution_count": 23,
   "id": "0b9ec1ef-1b08-4690-899c-1e27c3b4d500",
   "metadata": {
    "tags": []
   },
   "outputs": [
    {
     "name": "stdout",
     "output_type": "stream",
     "text": [
      "rock\n",
      "R&B\n",
      "Soundtrack\n",
      "R&B\n",
      "soul\n",
      "pop\n"
     ]
    }
   ],
   "source": [
    "Genres= [\"rock\",\"R&B\", \"Soundtrack\",\"R&B\",\"soul\",\"pop\"]\n",
    "\n",
    "for Genre in Genres:\n",
    "    print(Genre)"
   ]
  },
  {
   "cell_type": "markdown",
   "id": "e92d9fd9-3690-48e1-9770-7fa12362e1d2",
   "metadata": {},
   "source": [
    "Write a for loop that prints out the following list: <code>squares[\"red\",\"yellow\",\"green\",\"purple\",\"blue\"]</code>"
   ]
  },
  {
   "cell_type": "code",
   "execution_count": 26,
   "id": "e8ad4ca0-5495-4b9b-8604-c929b109820c",
   "metadata": {
    "tags": []
   },
   "outputs": [
    {
     "name": "stdout",
     "output_type": "stream",
     "text": [
      "red\n",
      "yellow\n",
      "green\n",
      "purple\n",
      "blue\n"
     ]
    }
   ],
   "source": [
    "squares = [\"red\",\"yellow\",\"green\",\"purple\",\"blue\"]\n",
    "\n",
    "for square in squares:\n",
    "    print(square)"
   ]
  },
  {
   "cell_type": "markdown",
   "id": "6cf66336-0992-4cee-8aa7-847f7bd639b4",
   "metadata": {},
   "source": [
    "Write a while loop to copy the strings <code>\"orange\"</code> of the list <code>squares</code> to the list <code>new_squares</code>. Stop and exit the loop if the value on the list is not \"orange\":"
   ]
  },
  {
   "cell_type": "code",
   "execution_count": 31,
   "id": "eb1268b2-b905-4d62-ba83-f8f3bbfaadbb",
   "metadata": {
    "tags": []
   },
   "outputs": [
    {
     "name": "stdout",
     "output_type": "stream",
     "text": [
      "['orange', 'orange']\n"
     ]
    }
   ],
   "source": [
    "squares = [\"orange\",\"orange\",\"purple\",\"blue\",\"orange\"]\n",
    "new_squares = []\n",
    "\n",
    "i = 0\n",
    "\n",
    "while i < len(squares) and squares[i] ==\"orange\":\n",
    "    new_squares.append(squares[i])\n",
    "    i = i+1\n",
    "print(new_squares)"
   ]
  },
  {
   "cell_type": "markdown",
   "id": "d6ce0832-184a-45dd-8a4a-1e047d67eda1",
   "metadata": {},
   "source": [
    "#### Some real-life problems!\n",
    "\n",
    "Your little brother has just learned multiplication tables im school. Today he has learned tables of 6 and 7. Help him memorise both tables by printing using for loop."
   ]
  },
  {
   "cell_type": "code",
   "execution_count": 9,
   "id": "9ae328ed-1b62-4800-9826-4567ad27cafb",
   "metadata": {
    "tags": []
   },
   "outputs": [
    {
     "name": "stdout",
     "output_type": "stream",
     "text": [
      "6* 1 6\n",
      "6* 2 12\n",
      "6* 3 18\n",
      "6* 4 24\n",
      "6* 5 30\n",
      "6* 6 36\n",
      "6* 7 42\n",
      "6* 8 48\n",
      "6* 9 54\n",
      "6* 10 60\n",
      "7* 1 7\n",
      "7* 2 14\n",
      "7* 3 21\n",
      "7* 4 28\n",
      "7* 5 35\n",
      "7* 6 42\n",
      "7* 7 49\n",
      "7* 8 56\n",
      "7* 9 63\n",
      "7* 10 70\n"
     ]
    }
   ],
   "source": [
    "table=[1,2,3,4,5,6,7,8,9,10]\n",
    "for i in table:\n",
    "    print (\"6*\",i,6*i)\n",
    "for i in table:\n",
    "    print (\"7*\",i,7*i)"
   ]
  },
  {
   "cell_type": "markdown",
   "id": "02ca75d7-a6e8-4842-af65-b6c564920017",
   "metadata": {},
   "source": [
    "The following is a list of animals in a National Zoo. <code>Animals=[\"lion\",\"giraffe\",\"gorilla\",\"parrtos\",\"crocodrile\",\"deer\",\"swan\"]</code>\n",
    "\n",
    "Your bother needs to wrtie an essay on the animals whose names are made of 7 letters. Help him find those animals through <code>while</code> loop and create a separate list of such animals "
   ]
  },
  {
   "cell_type": "code",
   "execution_count": 18,
   "id": "17d0ba15-05a7-4af1-8aa6-9fc4f39b02f2",
   "metadata": {
    "tags": []
   },
   "outputs": [
    {
     "name": "stdout",
     "output_type": "stream",
     "text": [
      "['giraffe', 'gorilla', 'parrots']\n"
     ]
    }
   ],
   "source": [
    "Animals = [\"lion\",\"giraffe\",\"gorilla\",\"parrots\",\"crocodrile\",\"deer\",\"swan\"]\n",
    "Animals_7_letters= []\n",
    "i=0\n",
    "\n",
    "while i<len(Animals):\n",
    "    j= Animals[i]\n",
    "    if(len(j)==7):\n",
    "        Animals_7_letters.append(j)\n",
    "    i = i+1\n",
    "print(Animals_7_letters)\n",
    "        "
   ]
  }
 ],
 "metadata": {
  "kernelspec": {
   "display_name": "Python 3 (ipykernel)",
   "language": "python",
   "name": "python3"
  },
  "language_info": {
   "codemirror_mode": {
    "name": "ipython",
    "version": 3
   },
   "file_extension": ".py",
   "mimetype": "text/x-python",
   "name": "python",
   "nbconvert_exporter": "python",
   "pygments_lexer": "ipython3",
   "version": "3.11.7"
  }
 },
 "nbformat": 4,
 "nbformat_minor": 5
}
