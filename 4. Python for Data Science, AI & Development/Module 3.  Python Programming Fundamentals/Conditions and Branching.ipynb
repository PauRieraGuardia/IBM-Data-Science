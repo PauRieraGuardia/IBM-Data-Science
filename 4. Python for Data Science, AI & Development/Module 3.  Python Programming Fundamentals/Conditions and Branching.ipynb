{
 "cells": [
  {
   "cell_type": "markdown",
   "id": "69857f78-f84b-4c52-a920-2483119ce200",
   "metadata": {},
   "source": [
    "### Condition Statements \n",
    "\n",
    "#### Comparision Operatiors \n",
    "\n",
    "Comparision operations compare some value or operand and based on a condition, produce a Boolean. When comparing two values you can uste these operators:\n",
    "\n",
    "* equal: ==\n",
    "* not equal: !=\n",
    "* grater than: >\n",
    "* less than: < \n",
    "* greater than or equal to: >=\n",
    "* less than or equal to: <=\n",
    "\n",
    "Let's assing <code>a</code> a value of 5. Us the equality operator denoted with two equal <b>==</b> signs to determine if two values are equal. The case below compares the variable <code>a</code> with 6."
   ]
  },
  {
   "cell_type": "code",
   "execution_count": 6,
   "id": "fb82e575-f8f8-4484-928f-cfae1aecad60",
   "metadata": {
    "tags": []
   },
   "outputs": [
    {
     "data": {
      "text/plain": [
       "False"
      ]
     },
     "execution_count": 6,
     "metadata": {},
     "output_type": "execute_result"
    }
   ],
   "source": [
    "# Condition Equal\n",
    "a=5\n",
    "a==6"
   ]
  },
  {
   "cell_type": "markdown",
   "id": "a24659b0-e312-479a-9afe-7ad1ba430299",
   "metadata": {},
   "source": [
    "The result is <b>False</b>, as 5 does not equal to 6."
   ]
  },
  {
   "cell_type": "markdown",
   "id": "20542c92-12e9-43a8-88fe-71a462507a3d",
   "metadata": {},
   "source": [
    "Consider the following equality comparison operator: <code>i>5</code>. If the value of the left operand, in this case the variable <b>i</b>, is greater than the value of the right operand, in this case 5, then the statement is <b>True</b>. Otherwise, the statemnt is <b>False</b>. if <b>i</b> is equal to 6, because 6 is larger than 5, the output is <b>True</b>. "
   ]
  },
  {
   "cell_type": "code",
   "execution_count": 15,
   "id": "a3e218bc-671d-43ef-912a-4975f6d5c14e",
   "metadata": {
    "tags": []
   },
   "outputs": [
    {
     "data": {
      "text/plain": [
       "True"
      ]
     },
     "execution_count": 15,
     "metadata": {},
     "output_type": "execute_result"
    }
   ],
   "source": [
    "# Greater than Sign\n",
    "i=6\n",
    "i>5"
   ]
  },
  {
   "cell_type": "markdown",
   "id": "c15787b1-03ac-4bce-8f9a-2c2f86ae76a9",
   "metadata": {},
   "source": [
    "Set <code>i=2</code>. The statemnt is False as 2 is not grater than 5:"
   ]
  },
  {
   "cell_type": "code",
   "execution_count": 79,
   "id": "0bd3b525-25fd-41ba-b62b-ae49359cfefc",
   "metadata": {
    "tags": []
   },
   "outputs": [
    {
     "data": {
      "text/plain": [
       "False"
      ]
     },
     "execution_count": 79,
     "metadata": {},
     "output_type": "execute_result"
    }
   ],
   "source": [
    "# Greater than Sign\n",
    "i=2\n",
    "i>5"
   ]
  },
  {
   "cell_type": "markdown",
   "id": "a28ebe5f-4cbd-4780-861b-9e07f7f34e1b",
   "metadata": {},
   "source": [
    "The inequality test uses an exclamatiuon mark preciding the equal sign, if two operands are not equal then the condition becomes <b>True</b>. For example, the following condition will produce <b>True</b> as long as the value of <code>i</code> is not equal to 6:"
   ]
  },
  {
   "cell_type": "code",
   "execution_count": 29,
   "id": "928f941c-7f30-4e21-a9cc-c15ad844e571",
   "metadata": {
    "tags": []
   },
   "outputs": [
    {
     "data": {
      "text/plain": [
       "True"
      ]
     },
     "execution_count": 29,
     "metadata": {},
     "output_type": "execute_result"
    }
   ],
   "source": [
    "# Inequality Sing\n",
    "i=2\n",
    "i!=6"
   ]
  },
  {
   "cell_type": "markdown",
   "id": "41bf521f-f5f1-4b9f-97f9-1e6d858bd420",
   "metadata": {},
   "source": [
    "When <code>i</code> equal 6 the inequality expression produces <b>False</b>."
   ]
  },
  {
   "cell_type": "code",
   "execution_count": 31,
   "id": "149033d0-9e41-4841-9e06-c67c8977ef38",
   "metadata": {
    "tags": []
   },
   "outputs": [
    {
     "data": {
      "text/plain": [
       "False"
      ]
     },
     "execution_count": 31,
     "metadata": {},
     "output_type": "execute_result"
    }
   ],
   "source": [
    "# Inequality Sing\n",
    "i=6\n",
    "i!=6"
   ]
  },
  {
   "cell_type": "markdown",
   "id": "8ca56255-f6a3-49d2-8c43-d74fd1be09ba",
   "metadata": {},
   "source": [
    "We can apply the same methods on strings. For example, we can use an equality operator on two different strings. As the strings are not equal, we get a <b>False</b>."
   ]
  },
  {
   "cell_type": "code",
   "execution_count": 35,
   "id": "294556bf-c312-4de1-9882-71fd3fb22410",
   "metadata": {
    "tags": []
   },
   "outputs": [
    {
     "data": {
      "text/plain": [
       "False"
      ]
     },
     "execution_count": 35,
     "metadata": {},
     "output_type": "execute_result"
    }
   ],
   "source": [
    "# Use Equality sign to compare the strings\n",
    "\n",
    "\"ACDC\" == \"Michael Jacskon\""
   ]
  },
  {
   "cell_type": "markdown",
   "id": "358ff97d-8662-467a-b95f-c323ab660032",
   "metadata": {},
   "source": [
    "The inequality operation is also used to compare lettrers/words/symbols according yo the ASCII value of letters."
   ]
  },
  {
   "cell_type": "markdown",
   "id": "7085adfc-2632-4ef6-a522-34779b92d578",
   "metadata": {},
   "source": [
    "We set the value for <b>A</b> is 65, and the value for <b>B</b> is 66, therefore: "
   ]
  },
  {
   "cell_type": "code",
   "execution_count": 43,
   "id": "f9ecc895-83e7-4f1a-a55c-5d0dbfc5c34c",
   "metadata": {
    "tags": []
   },
   "outputs": [
    {
     "data": {
      "text/plain": [
       "True"
      ]
     },
     "execution_count": 43,
     "metadata": {},
     "output_type": "execute_result"
    }
   ],
   "source": [
    "# Compare characters\n",
    "A = 65\n",
    "B = 66\n",
    "\n",
    "\"B\">\"A\""
   ]
  },
  {
   "cell_type": "markdown",
   "id": "48ac2981-9ea0-4d03-bb85-aeb2afdfd439",
   "metadata": {},
   "source": [
    "### Branching\n",
    "\n",
    "Branching allows us to run different statements for different inputs. It is helfpuf to think of an <b>if statement</b> as a locked room, if the statement is <b>True</b> we can enter the room and your program will run predifined tasks, but if the statement is <b>False</b> the program will ignore the task.\n",
    "\n",
    "We can use the condition statements learned before as the conditions that need to be checked in the <b>if statement</b>. The syntax is as simple as <code>if condition statement:</code>, which contains a word <code>if</code>, any condition statement, and a colon at the end. the word of code after the colon and with an indent will only be executed when the <b>if statement</b> is <b>True</b>. The tasks will end when the line of code does not contain the indent.\n",
    "\n",
    "In the case below, the code <code>print(\"you can enter\")</code> is executed only if the variable <code>age</code> is greater than 18 is a True case because the line of code has the indent. However, the execution of <code>print(\"move on\")</code> will not be influenced by the statement."
   ]
  },
  {
   "cell_type": "code",
   "execution_count": 56,
   "id": "7b805e65-f6e8-45f8-8ba8-d0274631dfe0",
   "metadata": {
    "tags": []
   },
   "outputs": [
    {
     "name": "stdout",
     "output_type": "stream",
     "text": [
      "you can enter\n",
      "move one\n"
     ]
    }
   ],
   "source": [
    "# If statement example\n",
    "\n",
    "age = 19\n",
    "if age > 18:\n",
    "    print(\"you can enter\")\n",
    "print(\"move one\")"
   ]
  },
  {
   "cell_type": "markdown",
   "id": "59c7c35e-b8ff-4197-b612-0224300b8996",
   "metadata": {},
   "source": [
    "The <code>else</code> statement runs a block of code if none of the conditions are <b>True</b> befoore this <code>else</code> statement. The syntax of the <code>else</code> statement is similar as the syntax of the <code>if</code> statement, as <code>else :</code>. Notice that, there is no condition statement of <code>else</code>."
   ]
  },
  {
   "cell_type": "code",
   "execution_count": 63,
   "id": "6dd582da-be43-4d0b-ba31-09b3075ee9b7",
   "metadata": {
    "tags": []
   },
   "outputs": [
    {
     "name": "stdout",
     "output_type": "stream",
     "text": [
      "go see Meat Loaf\n",
      "move on\n"
     ]
    }
   ],
   "source": [
    "# Else statement example\n",
    "\n",
    "age = 18 \n",
    "\n",
    "if age > 18:\n",
    "    print (\"you can enter\")\n",
    "else:\n",
    "    print (\"go see Meat Loaf\")\n",
    "print(\"move on\")"
   ]
  },
  {
   "cell_type": "markdown",
   "id": "b60724f8-8dda-4089-bd54-d033741da9d3",
   "metadata": {},
   "source": [
    "The <code>elif</code> statement, short for else if, allows us to check additional conditions if the condition statements before it are <b>False</b>. If the condition for the <code>elif</code> statement is <b>True</b>, the alternate expressions will be run. The syuntax of the <code>elif</code> statement is similar in that we merely change the <code>if</code> in the <code>if</code> statement to <code>elif</code>."
   ]
  },
  {
   "cell_type": "code",
   "execution_count": 77,
   "id": "cfb9073a-8696-41f2-8ff8-3ac43c651191",
   "metadata": {
    "tags": []
   },
   "outputs": [
    {
     "name": "stdout",
     "output_type": "stream",
     "text": [
      "go to see Pink Floyd\n",
      "move one\n"
     ]
    }
   ],
   "source": [
    "#Elif statement example\n",
    "\n",
    "age = 18\n",
    "\n",
    "if age > 18:\n",
    "    print(\"you can enter\")\n",
    "elif age == 18:\n",
    "    print(\"go to see Pink Floyd\")\n",
    "else: \n",
    "    print (\"go see Meat Loaf\")\n",
    "print(\"move one\")"
   ]
  },
  {
   "cell_type": "code",
   "execution_count": 83,
   "id": "0249e55d-fa2d-4a7b-8998-69f0f17dc074",
   "metadata": {
    "tags": []
   },
   "outputs": [
    {
     "name": "stdout",
     "output_type": "stream",
     "text": [
      "Album yeas is greater than 1980\n"
     ]
    }
   ],
   "source": [
    "# Condition Statemetn example\n",
    "\n",
    "album_year= 1983\n",
    "\n",
    "if album_year > 1980:\n",
    "     print(\"Album yeas is greater than 1980\")\n",
    "else: \n",
    "    print(\"Album year is less than 1980\")"
   ]
  },
  {
   "cell_type": "markdown",
   "id": "9921700c-2a23-4a8c-b7f0-a2bb4f4f612d",
   "metadata": {},
   "source": [
    "### Logical operators \n",
    "\n",
    "Sometimes you want to check more than one condition at once. For example, you might want to check if one condition and another condition are both <b>True</b>. Logical operators allow you to combine or modify conditions.\n",
    "\n",
    "* and\n",
    "* or \n",
    "* not \n",
    "\n",
    "These operators are summarized for two variables.\n",
    "\n",
    "The <code>and</code> statement is only <b>True</b> when both conditions are true. The <code>or</code> statement is <b>True</b> if one conditions, or both are <b>True</b>. the <code>not</code> statement outputs the opposite truth value.  "
   ]
  },
  {
   "cell_type": "code",
   "execution_count": 93,
   "id": "e2314de8-fb69-4867-9d79-7775b7c11403",
   "metadata": {
    "tags": []
   },
   "outputs": [
    {
     "name": "stdout",
     "output_type": "stream",
     "text": [
      "Album year was in between 1980 and 1989\n"
     ]
    }
   ],
   "source": [
    "# Condition statement example and\n",
    "\n",
    "album_year = 1980\n",
    "\n",
    "if(album_year > 1979) and (album_year < 1990):\n",
    "    print (\"Album year was in between 1980 and 1989\")\n",
    "else:\n",
    "    print(\"Album year was not in the 80's\")"
   ]
  },
  {
   "cell_type": "code",
   "execution_count": 107,
   "id": "610729b5-8f74-4d1c-a92e-e873e58d2d1f",
   "metadata": {
    "tags": []
   },
   "outputs": [
    {
     "name": "stdout",
     "output_type": "stream",
     "text": [
      "Album was not made in the 1980's\n"
     ]
    }
   ],
   "source": [
    "# Condition statement exanmple or \n",
    "\n",
    "album_year = 1990\n",
    "\n",
    "if(album_year < 1990) or (album_year > 1989): \n",
    "    print(\"Album was not made in the 1980's\")\n",
    "else:\n",
    "    print(\"The Album was made in the 1980's\")"
   ]
  },
  {
   "cell_type": "code",
   "execution_count": 115,
   "id": "c511206c-1e40-47fb-8717-51c66b89c17f",
   "metadata": {
    "tags": []
   },
   "outputs": [
    {
     "name": "stdout",
     "output_type": "stream",
     "text": [
      "Album year is not 1984\n"
     ]
    }
   ],
   "source": [
    "# Conditions statement example not\n",
    "\n",
    "album_year = 1982 \n",
    "\n",
    "if not (album_year == 1984):\n",
    "    print(\"Album year is not 1984\")\n",
    "else:\n",
    "    print(\"Album year is 1984\")"
   ]
  },
  {
   "cell_type": "markdown",
   "id": "0aa0592e-b1e7-43cb-b830-bb0f0576a2a8",
   "metadata": {},
   "source": [
    "### Quiz on Conditions\n",
    "\n",
    "Write an if statement to determine if an album had a rating greater than 8. Test it using the rating for the album <b>Back in Black</b> that had a rating of 8.5. It the statement is true print \"This album is Amazing!\"."
   ]
  },
  {
   "cell_type": "code",
   "execution_count": 120,
   "id": "9f11d209-ad6c-434f-a852-05b674d139ac",
   "metadata": {
    "tags": []
   },
   "outputs": [
    {
     "name": "stdout",
     "output_type": "stream",
     "text": [
      "This Album is amazing!\n"
     ]
    }
   ],
   "source": [
    "rating = 8.5\n",
    "if rating > 8:\n",
    "    print (\"This Album is amazing!\")\n",
    "else: \n",
    "    print(\"It's ok\")"
   ]
  },
  {
   "cell_type": "markdown",
   "id": "a5ca9b90-bff1-445b-aff0-cc3baef90007",
   "metadata": {},
   "source": [
    "Write an if statement to determine if an album came out before 1980 or in the years: 1991 o 1993. If the condition is tru print out the year the album came out."
   ]
  },
  {
   "cell_type": "code",
   "execution_count": 132,
   "id": "18c38374-6e1b-40e4-8573-b3be57764023",
   "metadata": {
    "tags": []
   },
   "outputs": [
    {
     "name": "stdout",
     "output_type": "stream",
     "text": [
      "This album came out in year 1979\n"
     ]
    }
   ],
   "source": [
    "album_year= 1979\n",
    "\n",
    "if album_year < 1980 or album_year == 1991 or album_year== 1993:\n",
    "    print(\"This album came out in year\",album_year)\n",
    "    "
   ]
  }
 ],
 "metadata": {
  "kernelspec": {
   "display_name": "Python 3 (ipykernel)",
   "language": "python",
   "name": "python3"
  },
  "language_info": {
   "codemirror_mode": {
    "name": "ipython",
    "version": 3
   },
   "file_extension": ".py",
   "mimetype": "text/x-python",
   "name": "python",
   "nbconvert_exporter": "python",
   "pygments_lexer": "ipython3",
   "version": "3.11.7"
  }
 },
 "nbformat": 4,
 "nbformat_minor": 5
}
