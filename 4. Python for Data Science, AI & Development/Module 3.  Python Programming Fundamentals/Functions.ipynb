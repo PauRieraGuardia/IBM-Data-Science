{
 "cells": [
  {
   "cell_type": "code",
   "execution_count": null,
   "id": "72307357-561e-49c7-88e0-7b2b546ca573",
   "metadata": {},
   "outputs": [],
   "source": []
  },
  {
   "cell_type": "markdown",
   "id": "a2fa1a23-6600-4fda-886e-3a6ea915fd91",
   "metadata": {},
   "source": [
    "### Functions in Python\n",
    "\n",
    "A function is a reusable blcok of code which performs operations spcecified in the function. They ley you break down tasjs and allow you to reuse you code in different programs.\n",
    "\n",
    "There are two types of cuntions:\n",
    "\n",
    "* Pre-defined functions\n",
    "* User defined functions\n",
    "\n",
    "### What is a Function?\n",
    "\n",
    "You can define functions to provide the required functionality. Here are simple rules to define a function in Python:\n",
    "\n",
    "* Functions blocks begin <code>def</code> followed by the function <code>name</code> and parantheses <code>()</code>\n",
    "* There are input parameters or arguments that should be placed within these parantheses.\n",
    "* You can also define parameters inside these parenthseses.\n",
    "* There is a body within every function that starts with a colon <code>( : )</code> and is indented.\n",
    "* You can also place documentation before the body.\n",
    "* The statement <code>return</code> exits a function, optionally passign back a value.\n",
    "\n",
    "An example of a function that adds on to the paramenter <code>a</code> prints and returns the outputs as <code>b</code>:"
   ]
  },
  {
   "cell_type": "code",
   "execution_count": 24,
   "id": "a982f6b1-6b2b-473e-aa6b-70246be7b530",
   "metadata": {
    "tags": []
   },
   "outputs": [],
   "source": [
    "# First function example: Add 1 to a and store as b\n",
    "\n",
    "def add(a):\n",
    "    \"\"\"\n",
    "    add 1 to a\n",
    "    \"\"\"\n",
    "    b = a+1\n",
    "    print(a,\"if you add one\",b)\n"
   ]
  },
  {
   "cell_type": "markdown",
   "id": "94c3e082-8a58-47eb-acb2-f3fcc5199b04",
   "metadata": {},
   "source": [
    "We can obtain hel about a function: "
   ]
  },
  {
   "cell_type": "code",
   "execution_count": 15,
   "id": "823d9625-1da3-4e56-83f7-c7654cf40b28",
   "metadata": {
    "tags": []
   },
   "outputs": [
    {
     "name": "stdout",
     "output_type": "stream",
     "text": [
      "Help on function add in module __main__:\n",
      "\n",
      "add(a)\n",
      "    add 1 to a\n",
      "\n"
     ]
    }
   ],
   "source": [
    "# Get a help on add function\n",
    "\n",
    "help(add)"
   ]
  },
  {
   "cell_type": "markdown",
   "id": "dd3b2ed2-da3f-4bd6-afe4-a367cafe9e3e",
   "metadata": {
    "tags": []
   },
   "source": [
    "We can call the function:"
   ]
  },
  {
   "cell_type": "code",
   "execution_count": 26,
   "id": "e465b51c-5d84-474e-b0b9-388d66fc218e",
   "metadata": {
    "tags": []
   },
   "outputs": [
    {
     "name": "stdout",
     "output_type": "stream",
     "text": [
      "4 if you add one 5\n"
     ]
    }
   ],
   "source": [
    "add(4)"
   ]
  },
  {
   "cell_type": "markdown",
   "id": "825d7d55-1d1a-4f2d-9aa7-0f51db15631a",
   "metadata": {},
   "source": [
    "We can create different functions. For example, we can create a function that multiplies two numbes. The numbers will be represented by dthe variables <b>a</b> and <b>b</b>"
   ]
  },
  {
   "cell_type": "code",
   "execution_count": 30,
   "id": "3e70370f-1b21-4280-aacc-d77b0f6ec519",
   "metadata": {
    "tags": []
   },
   "outputs": [],
   "source": [
    "# Define a function for multiplie two numbers \n",
    "\n",
    "def Mult(a,b):\n",
    "    c=a*b\n",
    "    return(c)"
   ]
  },
  {
   "cell_type": "code",
   "execution_count": 32,
   "id": "d1ad907a-ede9-4efb-a309-e781b9af2a49",
   "metadata": {
    "tags": []
   },
   "outputs": [
    {
     "data": {
      "text/plain": [
       "36"
      ]
     },
     "execution_count": 32,
     "metadata": {},
     "output_type": "execute_result"
    }
   ],
   "source": [
    "Mult(12,3)"
   ]
  },
  {
   "cell_type": "code",
   "execution_count": 34,
   "id": "4d07fe88-cd81-4668-8176-933e0556baaa",
   "metadata": {
    "tags": []
   },
   "outputs": [
    {
     "data": {
      "text/plain": [
       "7.359999999999999"
      ]
     },
     "execution_count": 34,
     "metadata": {},
     "output_type": "execute_result"
    }
   ],
   "source": [
    "Mult(2.3,3.2)"
   ]
  },
  {
   "cell_type": "markdown",
   "id": "94d6aaa7-e463-4d00-b8ff-7ea13be7e72a",
   "metadata": {},
   "source": [
    "### Variables \n",
    "\n",
    "The input to a function is called a formal parameter.\n",
    "\n",
    "A variable that is declared inside a function is called a local variable. The parameter only exists within the function.\n",
    "\n",
    "A variable that is declared outside a function definition is a global variable, and its value is accessible and modifiable throughout the program."
   ]
  },
  {
   "cell_type": "code",
   "execution_count": 43,
   "id": "5399e4bf-0fb7-468a-a6cc-293d8518f4fa",
   "metadata": {
    "tags": []
   },
   "outputs": [],
   "source": [
    "# Function Definition\n",
    "\n",
    "def square(a):\n",
    "    b = 1\n",
    "    c = a*a+b\n",
    "    print(a,\"if you square +1\",c)\n",
    "    return(c)\n",
    "    "
   ]
  },
  {
   "cell_type": "code",
   "execution_count": 45,
   "id": "3f80a7f7-ff85-4dca-89c2-34bf50e4bfda",
   "metadata": {
    "tags": []
   },
   "outputs": [
    {
     "name": "stdout",
     "output_type": "stream",
     "text": [
      "3 if you square +1 10\n"
     ]
    },
    {
     "data": {
      "text/plain": [
       "10"
      ]
     },
     "execution_count": 45,
     "metadata": {},
     "output_type": "execute_result"
    }
   ],
   "source": [
    "square(3)"
   ]
  },
  {
   "cell_type": "code",
   "execution_count": 47,
   "id": "49a99ed8-2e24-4db5-828d-ba7ef8c59e58",
   "metadata": {
    "tags": []
   },
   "outputs": [
    {
     "name": "stdout",
     "output_type": "stream",
     "text": [
      "3 if you square +1 10\n"
     ]
    },
    {
     "data": {
      "text/plain": [
       "10"
      ]
     },
     "execution_count": 47,
     "metadata": {},
     "output_type": "execute_result"
    }
   ],
   "source": [
    "# Initializes Global variable\n",
    "\n",
    "x = 3\n",
    "# Makes function call and return function a y \n",
    "y = square(x)\n",
    "y"
   ]
  },
  {
   "cell_type": "markdown",
   "id": "0620f22e-8baf-4047-aad4-c256926682a0",
   "metadata": {},
   "source": [
    "Create a function <code>con</code> that concatenates two strings using the addition operation:"
   ]
  },
  {
   "cell_type": "code",
   "execution_count": 54,
   "id": "8a22a9eb-8070-47a4-b0e4-545d70d32788",
   "metadata": {
    "tags": []
   },
   "outputs": [],
   "source": [
    "# Define the function for combining strings\n",
    "\n",
    "def con(a,b):\n",
    "    return(a + b)"
   ]
  },
  {
   "cell_type": "code",
   "execution_count": 58,
   "id": "ae87cb5b-e2e1-4dae-905c-4219e71c353c",
   "metadata": {
    "tags": []
   },
   "outputs": [
    {
     "data": {
      "text/plain": [
       "'FC Barcelona'"
      ]
     },
     "execution_count": 58,
     "metadata": {},
     "output_type": "execute_result"
    }
   ],
   "source": [
    "con(\"FC \",\"Barcelona\")"
   ]
  },
  {
   "cell_type": "markdown",
   "id": "20bffe00-b1aa-4890-a273-34c486859a4a",
   "metadata": {},
   "source": [
    "### Functions Make Things Simple\n",
    "\n",
    "Consdier the two lines of code in Block 1 and Bloc 2: the procedure for each block is identical. The only thing that is different is the variable names and values,"
   ]
  },
  {
   "cell_type": "markdown",
   "id": "51904220-3c2b-4c10-a6b6-3fdbe05afcca",
   "metadata": {},
   "source": [
    "#### Block 1:"
   ]
  },
  {
   "cell_type": "code",
   "execution_count": 69,
   "id": "b3b38a06-f5e9-4980-8498-b6737a7015d1",
   "metadata": {
    "tags": []
   },
   "outputs": [
    {
     "data": {
      "text/plain": [
       "5"
      ]
     },
     "execution_count": 69,
     "metadata": {},
     "output_type": "execute_result"
    }
   ],
   "source": [
    "# a and b calculation block 1\n",
    "\n",
    "a1 = 4\n",
    "b1 = 5\n",
    "c1 = a1 + b1 + 2 * a1 * b1 -1\n",
    "if (c1 < 0):\n",
    "    c1 = 0\n",
    "else:\n",
    "    c1 = 5\n",
    "c1"
   ]
  },
  {
   "cell_type": "markdown",
   "id": "ab426cd3-372c-4cb3-9b08-fba52c179aeb",
   "metadata": {},
   "source": [
    "#### Block 2:"
   ]
  },
  {
   "cell_type": "code",
   "execution_count": 75,
   "id": "0ce9a9ac-f7c6-464c-ae79-5dcb9584bd9d",
   "metadata": {
    "tags": []
   },
   "outputs": [
    {
     "data": {
      "text/plain": [
       "0"
      ]
     },
     "execution_count": 75,
     "metadata": {},
     "output_type": "execute_result"
    }
   ],
   "source": [
    "# a and b calculations block2\n",
    "\n",
    "a2 = 0\n",
    "b2 = 0\n",
    "c2 = a2 + b2 + 2* a2 * b2 -1\n",
    "if (c2<0):\n",
    "    c2=0\n",
    "else:\n",
    "    c2=5\n",
    "    \n",
    "c2"
   ]
  },
  {
   "cell_type": "markdown",
   "id": "41af7d1c-c2cd-43fe-8b6f-8a92de8f74f5",
   "metadata": {},
   "source": [
    "We can replace the lines of code woth a function. A function combines many instrucions into a single line of code. Once a function is defined, it can be used repeatedly. You can invoke the same function many times in your program. You can save your function and use it in another program or use someone else's function. The lines of code in code Block 1 and code Block 2 can be replaced by the following function:"
   ]
  },
  {
   "cell_type": "code",
   "execution_count": 78,
   "id": "17404044-f01e-4de5-9d26-e81fa6fa9da9",
   "metadata": {
    "tags": []
   },
   "outputs": [],
   "source": [
    "# Make a Function for the calculation above\n",
    "\n",
    "def Equation(a,b):\n",
    "    c = a + b + 2 * a * b -1\n",
    "    if(c<0):\n",
    "        c = 0\n",
    "    else:\n",
    "        c = 5\n",
    "    return(c)"
   ]
  },
  {
   "cell_type": "code",
   "execution_count": 88,
   "id": "761ada8e-439e-4bea-ae0c-0ce3cc56a5bb",
   "metadata": {
    "tags": []
   },
   "outputs": [
    {
     "data": {
      "text/plain": [
       "0"
      ]
     },
     "execution_count": 88,
     "metadata": {},
     "output_type": "execute_result"
    }
   ],
   "source": [
    "Equation(0,0)"
   ]
  },
  {
   "cell_type": "markdown",
   "id": "52112aca-28bd-4feb-8b06-0da6b3a19fd0",
   "metadata": {},
   "source": [
    "### Pre-defined functions\n",
    "\n",
    "There are many pre-definied functions in Python, so let's start with the simple ones.\n",
    "\n",
    "The <code>print</code> fuction:"
   ]
  },
  {
   "cell_type": "code",
   "execution_count": 92,
   "id": "4683e92d-ea0f-4481-89f1-5ad75de93d43",
   "metadata": {
    "tags": []
   },
   "outputs": [
    {
     "name": "stdout",
     "output_type": "stream",
     "text": [
      "[10.0, 8.5, 9.5, 7.0, 7.0, 9.5, 9.0, 9.5]\n"
     ]
    }
   ],
   "source": [
    "# Buil-in function print()\n",
    "\n",
    "album_ratings = [10.0,8.5,9.5,7.0,7.0,9.5,9.0,9.5]\n",
    "print(album_ratings)"
   ]
  },
  {
   "cell_type": "markdown",
   "id": "21d1b829-f845-430a-a845-12750c0b582e",
   "metadata": {},
   "source": [
    "The <code>sum()</code> function adds all the elements in a list or tuple:"
   ]
  },
  {
   "cell_type": "code",
   "execution_count": 96,
   "id": "a1ccdeba-2504-407b-9144-dd2040f94810",
   "metadata": {
    "tags": []
   },
   "outputs": [
    {
     "data": {
      "text/plain": [
       "70.0"
      ]
     },
     "execution_count": 96,
     "metadata": {},
     "output_type": "execute_result"
    }
   ],
   "source": [
    "# Use sum() to add every element in a list or tuple together \n",
    "\n",
    "sum(album_ratings)"
   ]
  },
  {
   "cell_type": "markdown",
   "id": "dd36d48c-084e-4a07-802f-6d9a90b1e1ff",
   "metadata": {},
   "source": [
    "The <code>len()</code> function returns the length of a list or tuple:"
   ]
  },
  {
   "cell_type": "code",
   "execution_count": 99,
   "id": "f289c620-55ea-44b1-bb38-3e63549f73f8",
   "metadata": {
    "tags": []
   },
   "outputs": [
    {
     "data": {
      "text/plain": [
       "8"
      ]
     },
     "execution_count": 99,
     "metadata": {},
     "output_type": "execute_result"
    }
   ],
   "source": [
    "# Show the length of the list or tuple\n",
    "\n",
    "len(album_ratings)"
   ]
  },
  {
   "cell_type": "markdown",
   "id": "df861902-7d12-4926-b542-fececbff63d0",
   "metadata": {},
   "source": [
    "### In-Built functions\n",
    "\n",
    "In Pythom, an in-built function is a pre-defined function that is always available for use, providing common functionality wothout requiering any imports."
   ]
  },
  {
   "cell_type": "code",
   "execution_count": 102,
   "id": "80e3d770-a73a-4d72-8833-f528033d2d01",
   "metadata": {
    "tags": []
   },
   "outputs": [
    {
     "ename": "TypeError",
     "evalue": "'int' object is not iterable",
     "output_type": "error",
     "traceback": [
      "\u001b[1;31m---------------------------------------------------------------------------\u001b[0m",
      "\u001b[1;31mTypeError\u001b[0m                                 Traceback (most recent call last)",
      "Cell \u001b[1;32mIn[102], line 2\u001b[0m\n\u001b[0;32m      1\u001b[0m \u001b[38;5;66;03m# You will see below will return an error as integer alone is not considered while using a function. It either has to be in the form of tuple, list or set \u001b[39;00m\n\u001b[1;32m----> 2\u001b[0m \u001b[38;5;28msum\u001b[39m(\u001b[38;5;241m2\u001b[39m,\u001b[38;5;241m3\u001b[39m)\n",
      "\u001b[1;31mTypeError\u001b[0m: 'int' object is not iterable"
     ]
    }
   ],
   "source": [
    "# You will see below will return an error as integer alone is not considered while using a function. It either has to be in the form of tuple, list or set \n",
    "sum(2,3)"
   ]
  },
  {
   "cell_type": "code",
   "execution_count": 121,
   "id": "e69765f1-0824-45fc-a9dd-0cfa894f54f6",
   "metadata": {
    "tags": []
   },
   "outputs": [
    {
     "name": "stdout",
     "output_type": "stream",
     "text": [
      "The sum of the elements in the tuple (1, 2) is c.\n"
     ]
    }
   ],
   "source": [
    "# Define a tuple\n",
    "\n",
    "a = (1,2)\n",
    "\n",
    "# Pass the tuple to the sum function and store the result in a variable\n",
    "\n",
    "c = sum(a)\n",
    "\n",
    "# print the result \n",
    "print(f\"The sum of the elements in the tuple {a} is c.\")"
   ]
  },
  {
   "cell_type": "code",
   "execution_count": 125,
   "id": "93dbc15c-270a-4e3d-9369-d6ba021b5fa0",
   "metadata": {
    "tags": []
   },
   "outputs": [
    {
     "name": "stdout",
     "output_type": "stream",
     "text": [
      "The sum of the elements int the list [1, 2] is 3-\n"
     ]
    }
   ],
   "source": [
    "# Define a list \n",
    "\n",
    "a =  [1,2]\n",
    "\n",
    "# Pass the list to the sum function and store the result in a variable \n",
    "c = sum(a)\n",
    "\n",
    "# Print the result\n",
    "print(f\"The sum of the elements int the list {a} is {c}-\")"
   ]
  },
  {
   "cell_type": "markdown",
   "id": "c0e2fc68-2943-456e-b0e2-1630412509c4",
   "metadata": {},
   "source": [
    "### Using <code>if/else</code> statements and Loops in Functions\n",
    "\n",
    "The <code>return()</code> function is particulaly useful if you have and IF statements in the function, when you want your output to be dependent on some condition:"
   ]
  },
  {
   "cell_type": "code",
   "execution_count": 136,
   "id": "ac6bba8f-da5a-45af-bc84-4674504c2ee5",
   "metadata": {
    "tags": []
   },
   "outputs": [
    {
     "name": "stdout",
     "output_type": "stream",
     "text": [
      "Michael Jackson Thriller 1980\n",
      "Oldie\n"
     ]
    }
   ],
   "source": [
    "# Function example\n",
    "\n",
    "def type_of_album(artist,album,year_released):\n",
    "    print(artist,album,year_released)\n",
    "    if year_released > 1980:\n",
    "        return \"Modern\"\n",
    "    else:\n",
    "        return\"Oldie\"\n",
    "\n",
    "x = type_of_album(\"Michael Jackson\",\"Thriller\", 1980)\n",
    "print(x)"
   ]
  },
  {
   "cell_type": "markdown",
   "id": "2b8f1cd9-324d-4bc9-80fd-f705eda0560b",
   "metadata": {},
   "source": [
    "We can use a loop in a function. For example, we can <code>print</code> out each element in a list:"
   ]
  },
  {
   "cell_type": "code",
   "execution_count": 139,
   "id": "6371dc24-75a9-471c-85df-0426c0d535fd",
   "metadata": {
    "tags": []
   },
   "outputs": [],
   "source": [
    "# Print the list using for loop\n",
    "\n",
    "def Printlist(the_list):\n",
    "    for element in the_list:\n",
    "        print(element)"
   ]
  },
  {
   "cell_type": "code",
   "execution_count": 143,
   "id": "39311164-da8b-4437-b821-812df14aef06",
   "metadata": {
    "tags": []
   },
   "outputs": [
    {
     "name": "stdout",
     "output_type": "stream",
     "text": [
      "1\n",
      "1\n",
      "the man\n",
      "abc\n"
     ]
    }
   ],
   "source": [
    "# Implement the printlist function\n",
    "\n",
    "Printlist([\"1\",1,\"the man\",\"abc\"])"
   ]
  },
  {
   "cell_type": "markdown",
   "id": "e5206cc2-d0ec-4c05-964a-cd97c1ab33da",
   "metadata": {},
   "source": [
    "### String comparison in Functions\n",
    "\n",
    "The relational operators compare the Unicode values of the characters of the strings from the zeroth index till the end of the string. It then returns a boolean value according to the operator used."
   ]
  },
  {
   "cell_type": "code",
   "execution_count": 152,
   "id": "4e565db8-736c-4a93-bc9b-64d80b5a1cd9",
   "metadata": {
    "tags": []
   },
   "outputs": [],
   "source": [
    "# Compare Two Strings Directly using in operators \n",
    "\n",
    "# add string \n",
    "\n",
    "string=\"Michael Jackson is the best\"\n",
    "\n",
    "# Define a function\n",
    "\n",
    "def check_string(text):\n",
    "\n",
    "# Use if else statement an \"in\" operatros to compare the string\n",
    "    if text in string:\n",
    "        return \"String mathced\"\n",
    "    else:\n",
    "        return \"String not matched\""
   ]
  },
  {
   "cell_type": "code",
   "execution_count": 156,
   "id": "6b5781ed-b177-4323-85ba-3bd7dcbcaaf3",
   "metadata": {
    "tags": []
   },
   "outputs": [
    {
     "data": {
      "text/plain": [
       "'String not matched'"
      ]
     },
     "execution_count": 156,
     "metadata": {},
     "output_type": "execute_result"
    }
   ],
   "source": [
    "check_string(\"Michael Jackson is not the best\")"
   ]
  },
  {
   "cell_type": "markdown",
   "id": "73f96734-43db-495e-a2ac-39308c6e9e82",
   "metadata": {},
   "source": [
    "This function receives both strings as its argument and returns 1 if both strings are equal using == operator"
   ]
  },
  {
   "cell_type": "code",
   "execution_count": 163,
   "id": "c21c9f08-3237-42a7-a9e7-be190ed126f9",
   "metadata": {
    "tags": []
   },
   "outputs": [
    {
     "data": {
      "text/plain": [
       "1"
      ]
     },
     "execution_count": 163,
     "metadata": {},
     "output_type": "execute_result"
    }
   ],
   "source": [
    "# Compare two string using == operator and function\n",
    "\n",
    "def compareStrings(x,y):\n",
    "# Use if else statement to compare x and y\n",
    "    if x==y:\n",
    "        return 1\n",
    "    else:\n",
    "        return 0\n",
    "# Declare two different variables as string 1 and string 2 and pass string in it \n",
    "string_1 = \"Michael Jackson is the best\"\n",
    "string_2 = \"Michael Jackson is the best\"\n",
    "\n",
    "# Use the function \n",
    "compareStrings(string_1,string_2)\n"
   ]
  },
  {
   "cell_type": "markdown",
   "id": "6d352d42-a98c-48af-8463-be276c6f6dcc",
   "metadata": {
    "tags": []
   },
   "source": [
    "<b> Count the Frequency of Word Appearing in a String Using a Dictionary </b>\n",
    "\n",
    "Find the count of occurence of any word in pur string using python.\n",
    "\n",
    "The first thing we will do is define a function and then create a lits what will be empty initially.\n",
    "Next, se will add a code to convert the string to a list. Python string has a split() method. It takes a string and some seaprator to return a list.\n",
    "\n",
    "Now we wull declare an empty dictionary.\n",
    "\n",
    "Next we will add code using for loop to iterate the word and value will count the frequency of each word in the string and sotre them to the dictionary. \n",
    "\n",
    "Finally we will print the dictionary."
   ]
  },
  {
   "cell_type": "code",
   "execution_count": 172,
   "id": "58bc4da5-1961-4a5e-abed-9d673eae2680",
   "metadata": {
    "tags": []
   },
   "outputs": [
    {
     "name": "stdout",
     "output_type": "stream",
     "text": [
      "The Frequency of word is: {'Mary': 6, 'had': 2, 'a': 2, 'little': 3, 'lamb': 3, 'Little': 1, 'lamb,': 1, 'lamb.Its': 1, 'fleece': 1, 'was': 2, 'white': 1, 'as': 1, 'snow': 1, 'And': 1, 'everywhere': 1, 'that': 2, 'went': 3, 'went,': 1, 'Everywhere': 1, 'The': 1, 'sure': 1, 'to': 1, 'go': 1}\n"
     ]
    }
   ],
   "source": [
    "# Python Programm to Count words in a String usind Dictionary\n",
    "\n",
    "def freq(string):\n",
    "    \n",
    "    # step1: A list varionle is declared and initialized to an empty list.\n",
    "    words = []\n",
    "    \n",
    "    # step2: Break the string into list of words\n",
    "    words = string.split() # or string.lower().split()\n",
    "    \n",
    "    # step3: Declare a dictioanry\n",
    "    Dict = {}\n",
    "    \n",
    "    # step4: Use for loop to iterate word and values to the dictioanry\n",
    "    for i in words:\n",
    "        Dict[i] = words.count(i)\n",
    "    \n",
    "    # step5: Print the Dictionary\n",
    "    \n",
    "    print(\"The Frequency of word is:\",Dict)\n",
    "    \n",
    "    # step6: Call function and pass string in it\n",
    "\n",
    "freq(\"Mary had a little lamb Little lamb, little lamb Mary had a little lamb.Its fleece was white as snow And everywhere that Mary went Mary went, Mary went \\\n",
    "Everywhere that Mary went The lamb was sure to go\")\n",
    "    "
   ]
  },
  {
   "cell_type": "markdown",
   "id": "9fb9c1c8-ed84-4513-b359-ddbc0ca3c685",
   "metadata": {},
   "source": [
    "### Setting default argu,ent values in ypur custom functions\n",
    "\n",
    "You can set a default value for arguments in your function. For example, in the <b>isGoodRating()</b> function, what ig we wanted to create a threshold for what we consider to be a good rating? Perhaps by default, we should have a default rating of 4:"
   ]
  },
  {
   "cell_type": "code",
   "execution_count": 8,
   "id": "bc083a51-1b5c-472c-8d9e-bcb77fe1efd4",
   "metadata": {
    "tags": []
   },
   "outputs": [],
   "source": [
    "# Example for setting param woth default value\n",
    "\n",
    "def isGoodRating(rating=4):\n",
    "    if (rating < 7):\n",
    "        print(\"this album sucks it's rating is\",rating)\n",
    "    else:\n",
    "        print(\"htis album is good it's rating is\", rating)\n",
    "        \n"
   ]
  },
  {
   "cell_type": "code",
   "execution_count": 18,
   "id": "bebc17fd-852a-48eb-b8ab-2da5f0feed3c",
   "metadata": {
    "tags": []
   },
   "outputs": [
    {
     "name": "stdout",
     "output_type": "stream",
     "text": [
      "this album sucks it's rating is 4\n",
      "htis album is good it's rating is 10\n"
     ]
    }
   ],
   "source": [
    "# Test the value woth default value and with input\n",
    "\n",
    "isGoodRating()\n",
    "isGoodRating(10)"
   ]
  },
  {
   "cell_type": "markdown",
   "id": "7f4373cb-dd51-4f14-95f3-f3ebe04606a8",
   "metadata": {},
   "source": [
    "### Global Variables\n",
    "\n",
    "So far, we've been creating variables within functions, but we have not discussed variables outside the function. These are called global variables.\n",
    "\n",
    "Let's tru to see what <code>printer1</code> returns:"
   ]
  },
  {
   "cell_type": "code",
   "execution_count": 33,
   "id": "de6eb665-a2bc-4305-9a86-7eb325a96b52",
   "metadata": {
    "tags": []
   },
   "outputs": [
    {
     "name": "stdout",
     "output_type": "stream",
     "text": [
      "Michael Jackson is an artist\n"
     ]
    },
    {
     "ename": "NameError",
     "evalue": "name 'internal_var1' is not defined",
     "output_type": "error",
     "traceback": [
      "\u001b[1;31m---------------------------------------------------------------------------\u001b[0m",
      "\u001b[1;31mNameError\u001b[0m                                 Traceback (most recent call last)",
      "Cell \u001b[1;32mIn[33], line 9\u001b[0m\n\u001b[0;32m      6\u001b[0m     \u001b[38;5;28mprint\u001b[39m(artist, \u001b[38;5;124m\"\u001b[39m\u001b[38;5;124mis an artist\u001b[39m\u001b[38;5;124m\"\u001b[39m)\n\u001b[0;32m      8\u001b[0m printer1(artist)\n\u001b[1;32m----> 9\u001b[0m printer1(internal_var1)\n",
      "\u001b[1;31mNameError\u001b[0m: name 'internal_var1' is not defined"
     ]
    }
   ],
   "source": [
    "# Example of global variable\n",
    "\n",
    "artist= \"Michael Jackson\"\n",
    "def printer1(artist):\n",
    "    internal_var1= artist\n",
    "    print(artist, \"is an artist\")\n",
    "\n",
    "printer1(artist)\n",
    "printer1(internal_var1)"
   ]
  },
  {
   "cell_type": "markdown",
   "id": "b6b521df-1c8b-460b-a881-7b279f4abb6b",
   "metadata": {},
   "source": []
  },
  {
   "cell_type": "code",
   "execution_count": null,
   "id": "97b48fdc-fe9f-471d-adbc-bde23f34ea80",
   "metadata": {},
   "outputs": [],
   "source": []
  },
  {
   "cell_type": "markdown",
   "id": "e9449449-1eff-4e6f-8144-343fad0e8d9e",
   "metadata": {},
   "source": [
    "We got a Name Error: <code>name ' internal_var1' is not defined </code>. Why?"
   ]
  },
  {
   "cell_type": "markdown",
   "id": "494d88f0-fdd9-4a8e-ab0b-64d05e4fb460",
   "metadata": {},
   "source": [
    "It's because all the variables we create in the function is a local variable, meaning that the variable assingment does not persist outside the function. \n",
    "\n",
    "But there is a way to create a global variables from wothin a function as follows:"
   ]
  },
  {
   "cell_type": "code",
   "execution_count": 31,
   "id": "566c33c1-4c13-4f93-8960-84a7482a1f5d",
   "metadata": {
    "tags": []
   },
   "outputs": [
    {
     "name": "stdout",
     "output_type": "stream",
     "text": [
      "Michael Jackson is an artist\n",
      "Whitney Houston is an artist\n"
     ]
    }
   ],
   "source": [
    "artist =\"Michael Jackson\"\n",
    "\n",
    "def printer(artist):\n",
    "    global internal_var\n",
    "    internal_var=\"Whitney Houston\"\n",
    "    print(artist, \"is an artist\")\n",
    "    \n",
    "printer(artist)\n",
    "printer(internal_var)"
   ]
  },
  {
   "cell_type": "markdown",
   "id": "a46ddba3-bd35-4393-9a84-336985c0c091",
   "metadata": {},
   "source": [
    "### Scope of a Variable\n",
    "\n",
    "The scope of a variable os the part of that program where that variable is accessible. Variables that are declared outside all function definitions, such as the <code>myFavouriteBand</code> variable in the code shown here, are accessible from anywhere within the program. As a result, such variables are said to have global scope, and are known as glboal variables. <code>myFavouriteBand</code> is a global variable, so it is accessible from within the <code>getBandRating</code> function, and we determine a band's rating. We can also use it outside of the function, such as when we pass it to the print funciton to display it:"
   ]
  },
  {
   "cell_type": "code",
   "execution_count": 46,
   "id": "666aa6e4-8c00-44cb-aa54-eb9181952319",
   "metadata": {
    "tags": []
   },
   "outputs": [
    {
     "name": "stdout",
     "output_type": "stream",
     "text": [
      "AC/DC's rating is: 10.0\n",
      "Deep Purple's rating is: 0.0\n",
      "My favourtie band is: AC/DC\n"
     ]
    }
   ],
   "source": [
    "# Example of global variable\n",
    "\n",
    "myFavouriteBand= \"AC/DC\"\n",
    "\n",
    "def getBandRating(bandname):\n",
    "    if bandname == myFavouriteBand:\n",
    "        return 10.0\n",
    "    else:\n",
    "        return 0.0\n",
    "\n",
    "print(\"AC/DC's rating is:\", getBandRating(\"AC/DC\"))\n",
    "print(\"Deep Purple's rating is:\", getBandRating(\"Deep Purple\"))\n",
    "print (\"My favourtie band is:\", myFavouriteBand)"
   ]
  },
  {
   "cell_type": "markdown",
   "id": "6169e8a6-7409-482f-8e71-8ced22928d8c",
   "metadata": {},
   "source": [
    "Take a look at this modified version of our code. Now the <code>myFavouriteBand</code> variable is defined wothin the <code>getBandRating</code> function. A variable that is defined within a function is said to be a local variable of that function. That means that it is only accessible from within the function in which is defined. Pur <code>getBandRating</code> function will still work, because <code>myFavouriteBand</code> is still defined within the function. However, we can no longer print <code>myFavourtieBand</code> outside our function, because it is a local variable of pur <code>getBandRating</code> function; it is only defined within the <code>getBandRating</code> function: "
   ]
  },
  {
   "cell_type": "code",
   "execution_count": 59,
   "id": "5bbfee07-7650-41bd-a0cc-55e337a0dd70",
   "metadata": {
    "tags": []
   },
   "outputs": [
    {
     "name": "stdout",
     "output_type": "stream",
     "text": [
      "AC/DC's rating is: 10.0\n",
      "Deep Purple's rating is: 0.0\n"
     ]
    },
    {
     "ename": "NameError",
     "evalue": "name 'myFavouriteBand' is not defined",
     "output_type": "error",
     "traceback": [
      "\u001b[1;31m---------------------------------------------------------------------------\u001b[0m",
      "\u001b[1;31mNameError\u001b[0m                                 Traceback (most recent call last)",
      "Cell \u001b[1;32mIn[59], line 16\u001b[0m\n\u001b[0;32m     14\u001b[0m \u001b[38;5;28mprint\u001b[39m(\u001b[38;5;124m\"\u001b[39m\u001b[38;5;124mAC/DC\u001b[39m\u001b[38;5;124m'\u001b[39m\u001b[38;5;124ms rating is:\u001b[39m\u001b[38;5;124m\"\u001b[39m, getBandRating(\u001b[38;5;124m\"\u001b[39m\u001b[38;5;124mAC/DC\u001b[39m\u001b[38;5;124m\"\u001b[39m))\n\u001b[0;32m     15\u001b[0m \u001b[38;5;28mprint\u001b[39m(\u001b[38;5;124m\"\u001b[39m\u001b[38;5;124mDeep Purple\u001b[39m\u001b[38;5;124m'\u001b[39m\u001b[38;5;124ms rating is:\u001b[39m\u001b[38;5;124m\"\u001b[39m, getBandRating(\u001b[38;5;124m\"\u001b[39m\u001b[38;5;124mDeep Purple\u001b[39m\u001b[38;5;124m\"\u001b[39m))\n\u001b[1;32m---> 16\u001b[0m \u001b[38;5;28mprint\u001b[39m (\u001b[38;5;124m\"\u001b[39m\u001b[38;5;124mMy favourtie band is:\u001b[39m\u001b[38;5;124m\"\u001b[39m, myFavouriteBand)\n",
      "\u001b[1;31mNameError\u001b[0m: name 'myFavouriteBand' is not defined"
     ]
    }
   ],
   "source": [
    "# Deleting the variable \"myFavouriteBand\" from the previous example to demonstrate an example of a loval variable\n",
    "\n",
    "del myFavouriteBand\n",
    "\n",
    "# Example of a local varible\n",
    "\n",
    "def getBandRating(bandname):\n",
    "    myFavouriteBand = \"AC/DC\"\n",
    "    if bandname == myFavouriteBand:\n",
    "        return 10.0\n",
    "    else:\n",
    "        return 0.0\n",
    "\n",
    "print(\"AC/DC's rating is:\", getBandRating(\"AC/DC\"))\n",
    "print(\"Deep Purple's rating is:\", getBandRating(\"Deep Purple\"))\n",
    "print (\"My favourtie band is:\", myFavouriteBand)"
   ]
  },
  {
   "cell_type": "markdown",
   "id": "83c9fca4-e4c6-475b-9a8f-90b41f66bbd4",
   "metadata": {},
   "source": [
    "Finally, take a look at this example. We now two <code>myFavouriteBand</code> variable definitions. The first one of these has a global scope, and the second of them is a local variable within the <code>getBandRating</code> function. Within the <code>getBandRating</code> function, the loval variable takes precedende. <b>Deep Purple</b> will recive a rating of 10.0 when passed to the <code>getBandrating</code> function. However, outside of the <code>getBandRating</code> local variable is not defined, so the <code>myFavourtieBand</code> variable we print is the global variable, which has a value of <b> AC/DC</b>:"
   ]
  },
  {
   "cell_type": "code",
   "execution_count": 67,
   "id": "6cad8d01-96bd-4fb8-b7b0-1367f3a7c514",
   "metadata": {
    "tags": []
   },
   "outputs": [
    {
     "name": "stdout",
     "output_type": "stream",
     "text": [
      "AC/DC's rating is: 10.0\n",
      "Deep Purple's rating is:  0.0\n",
      "My favourite band is: AC/DC\n"
     ]
    }
   ],
   "source": [
    "# Example of a global variable and local variable with the same name\n",
    "\n",
    "myFavouriteBand = \"AC/DC\"\n",
    "\n",
    "def getBandrating(bandname):\n",
    "    myFavouriteBand =\"Deep Purple\"\n",
    "    if bandname == myFavouriteBand:\n",
    "        return 10.0\n",
    "    else:\n",
    "        return 0.0\n",
    "    \n",
    "print(\"AC/DC's rating is:\",getBandRating(\"AC/DC\"))\n",
    "print(\"Deep Purple's rating is: \",getBandRating(\"Deep Purple\"))\n",
    "print(\"My favourite band is:\",myFavouriteBand)"
   ]
  },
  {
   "cell_type": "markdown",
   "id": "9204cd75-ec4a-40ad-af50-cca6a7ed85d2",
   "metadata": {},
   "source": [
    "### Collections and Functions\n",
    "\n",
    "When the number of arguments are unkown for a function, They can all be packed into a tuple as shown:"
   ]
  },
  {
   "cell_type": "code",
   "execution_count": 80,
   "id": "17a32e39-c96b-4003-8c03-a9d3093c7c10",
   "metadata": {
    "tags": []
   },
   "outputs": [
    {
     "name": "stdout",
     "output_type": "stream",
     "text": [
      "No of arguments: 3\n",
      "Horsefeather\n",
      "Adonis\n",
      "Bone\n",
      "No of arguments: 4\n",
      "Sidecar\n",
      "long Island\n",
      "Mudslide\n",
      "Carriage\n"
     ]
    }
   ],
   "source": [
    "def printAll(*args): # All the argument are \"packed\" into args which can be trated lika a tuple\n",
    "    print(\"No of arguments:\",len(args))\n",
    "    for x in args:\n",
    "        print(x)\n",
    "# printAll with 3 arguments\n",
    "printAll(\"Horsefeather\",\"Adonis\",\"Bone\")\n",
    "printAll(\"Sidecar\",\"long Island\",\"Mudslide\",\"Carriage\")"
   ]
  },
  {
   "cell_type": "markdown",
   "id": "9da2380a-3078-4ecb-87be-1343e2c23700",
   "metadata": {},
   "source": [
    "Similary, The arguments can also be packed into a dictionary as shown:"
   ]
  },
  {
   "cell_type": "code",
   "execution_count": 89,
   "id": "b897c6c0-fb55-4294-85e4-54fe3bcfae1a",
   "metadata": {
    "tags": []
   },
   "outputs": [
    {
     "name": "stdout",
     "output_type": "stream",
     "text": [
      "Country:Canada\n",
      "Province:Ontario\n",
      "City:Toronto\n"
     ]
    }
   ],
   "source": [
    "def printDictionary(**args):\n",
    "    for x in args:\n",
    "        print(x + \":\" + args[x])\n",
    "printDictionary(Country=\"Canada\", Province=\"Ontario\",City=\"Toronto\")"
   ]
  },
  {
   "cell_type": "markdown",
   "id": "23a946c7-e401-46ed-92cf-3ca70e6ded68",
   "metadata": {},
   "source": [
    "Functions can be incredibly powerful and versatile. They can accept (and return) data types, objects and even other functions as arguments. Consider the example below:"
   ]
  },
  {
   "cell_type": "code",
   "execution_count": 98,
   "id": "e86124a4-0a1d-4379-a3a0-95648cac1151",
   "metadata": {
    "tags": []
   },
   "outputs": [
    {
     "data": {
      "text/plain": [
       "['One', 'Two', 'Three', 'four']"
      ]
     },
     "execution_count": 98,
     "metadata": {},
     "output_type": "execute_result"
    }
   ],
   "source": [
    "def addItems(list):\n",
    "    list.append(\"Three\")\n",
    "    list.append(\"four\")\n",
    "\n",
    "myList = [\"One\",\"Two\"]\n",
    "\n",
    "addItems(myList)\n",
    "\n",
    "myList"
   ]
  },
  {
   "cell_type": "markdown",
   "id": "29db6c71-983b-4659-b896-ca528bac37cd",
   "metadata": {},
   "source": [
    "### Quiz on Functions\n",
    "\n",
    "Come up with a function that divides the first input by the second input:"
   ]
  },
  {
   "cell_type": "markdown",
   "id": "8924f17b-9ca1-4da1-aa0c-0706bf791c56",
   "metadata": {
    "tags": []
   },
   "source": [
    "def div(x,y):\n",
    "    return(x/y)\n",
    "\n",
    "div(4,2)"
   ]
  },
  {
   "cell_type": "markdown",
   "id": "0e319472-06c2-47c9-bea5-833b4e727ed7",
   "metadata": {},
   "source": [
    "Use the function <code>con</code> for the following question:"
   ]
  },
  {
   "cell_type": "code",
   "execution_count": 106,
   "id": "b2255789-109b-4dad-9d78-6c36456eb2df",
   "metadata": {
    "tags": []
   },
   "outputs": [],
   "source": [
    "def con(a,b):\n",
    "    return (a + b)"
   ]
  },
  {
   "cell_type": "markdown",
   "id": "56054c5a-d9a3-413b-acfa-bab78c887595",
   "metadata": {},
   "source": [
    "Can the <code>can</code> function we defined before be used to ad two integers or strings?"
   ]
  },
  {
   "cell_type": "code",
   "execution_count": 117,
   "id": "721566ba-0433-44ab-88aa-cb8b38a02748",
   "metadata": {
    "tags": []
   },
   "outputs": [
    {
     "data": {
      "text/plain": [
       "4"
      ]
     },
     "execution_count": 117,
     "metadata": {},
     "output_type": "execute_result"
    }
   ],
   "source": [
    "con(2,2)"
   ]
  },
  {
   "cell_type": "code",
   "execution_count": 121,
   "id": "13f92bd6-81e4-4d07-b4e7-027647ff0555",
   "metadata": {
    "tags": []
   },
   "outputs": [
    {
     "data": {
      "text/plain": [
       "'FC Barcelona'"
      ]
     },
     "execution_count": 121,
     "metadata": {},
     "output_type": "execute_result"
    }
   ],
   "source": [
    "con(\"FC\",\" Barcelona\")"
   ]
  },
  {
   "cell_type": "markdown",
   "id": "87a1611e-92cc-4d70-b6e8-cb6e793ac28e",
   "metadata": {},
   "source": [
    "Can the <code>con</code>function we defined before be used to concatenate lists or tuples?"
   ]
  },
  {
   "cell_type": "code",
   "execution_count": 124,
   "id": "c41c9b94-0bb7-4163-8498-b1ec08d28db3",
   "metadata": {
    "tags": []
   },
   "outputs": [
    {
     "data": {
      "text/plain": [
       "['a', 1, 'b', 1]"
      ]
     },
     "execution_count": 124,
     "metadata": {},
     "output_type": "execute_result"
    }
   ],
   "source": [
    "con([\"a\",1],[\"b\",1])"
   ]
  },
  {
   "cell_type": "code",
   "execution_count": 128,
   "id": "705e7c98-ad77-403d-9a61-ed378f4ca25d",
   "metadata": {
    "tags": []
   },
   "outputs": [
    {
     "data": {
      "text/plain": [
       "('a', 1, 'b', 1)"
      ]
     },
     "execution_count": 128,
     "metadata": {},
     "output_type": "execute_result"
    }
   ],
   "source": [
    "con((\"a\",1),(\"b\",1))"
   ]
  },
  {
   "cell_type": "markdown",
   "id": "9df59a6a-e178-4d6e-8fd7-065a308f3d45",
   "metadata": {},
   "source": [
    "Write a function code to find total count of word <code>little</code> in the given string: \"Mary had a little lamb Little lamb, little lamb Mary had a little lamb.Its fleece was white as snow And everywhere that Mary went Mary went, Mary went Everywhere that Mary went The lamb was sure to go\""
   ]
  },
  {
   "cell_type": "code",
   "execution_count": 137,
   "id": "7c7cd754-84b5-4b48-9dbe-f8cb8230f2f5",
   "metadata": {
    "tags": []
   },
   "outputs": [],
   "source": [
    "def freq(string,word):\n",
    "    words=[]\n",
    "    words = string.split()\n",
    "    Dict = {}\n",
    "    for x in words:\n",
    "        if(x==word):\n",
    "            Dict[x] = words.count(x)\n",
    "    print(\"Total Cpunt:\",Dict)"
   ]
  },
  {
   "cell_type": "code",
   "execution_count": 139,
   "id": "61a1e94e-077b-496c-9c71-a40697d9887a",
   "metadata": {
    "tags": []
   },
   "outputs": [
    {
     "name": "stdout",
     "output_type": "stream",
     "text": [
      "Total Cpunt: {'little': 3}\n"
     ]
    }
   ],
   "source": [
    "freq(\"Mary had a little lamb Little lamb, little lamb Mary had a little lamb.Its fleece was white as snow And everywhere that Mary went Mary went, Mary went Everywhere that Mary went The lamb was sure to go\",\"little\")"
   ]
  }
 ],
 "metadata": {
  "kernelspec": {
   "display_name": "Python 3 (ipykernel)",
   "language": "python",
   "name": "python3"
  },
  "language_info": {
   "codemirror_mode": {
    "name": "ipython",
    "version": 3
   },
   "file_extension": ".py",
   "mimetype": "text/x-python",
   "name": "python",
   "nbconvert_exporter": "python",
   "pygments_lexer": "ipython3",
   "version": "3.11.7"
  }
 },
 "nbformat": 4,
 "nbformat_minor": 5
}
