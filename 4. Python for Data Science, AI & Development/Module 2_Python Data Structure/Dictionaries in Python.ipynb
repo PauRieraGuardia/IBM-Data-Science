{
 "cells": [
  {
   "cell_type": "markdown",
   "id": "2b684953",
   "metadata": {},
   "source": [
    "### Wha are Dictionaries?\n",
    "\n",
    "A dictionary consists of keys and values. It is heplful to copare a dictionary to a list. Inseat of being ndexed numerically lika a list, dictionaries have keys. These eys are the keys that are used to access values within a dictionary.\n",
    "\n",
    "The best example of a dictionary can be accessing person's detais using the social security number.\n",
    "Here the social security number which is a unique nuber will be the <b>key</b> and the details of the people will be the <b>values</b> associated"
   ]
  },
  {
   "cell_type": "markdown",
   "id": "7e9b562a",
   "metadata": {},
   "source": [
    "### Create a Dictionary and access the elements\n",
    "\n",
    "An example of a Dictionary Dict: Here we are creatin a dictionary named <b>Dict</b> with he following details\n",
    "\n",
    "* Keys are <b>key1</b>,<b>key2</b>,<b>key3</b>,<b>key4</b>,<b>key5</b>\n",
    "* Values are {1,2,[3,3,3],(4,4,4),5,(0,1):6} corresponding to the keys"
   ]
  },
  {
   "cell_type": "code",
   "execution_count": 1,
   "id": "abfc774a",
   "metadata": {},
   "outputs": [
    {
     "data": {
      "text/plain": [
       "{'key1': 1,\n",
       " 'key2': '2',\n",
       " 'key3': [3, 3, 3],\n",
       " 'key4': (4, 4, 4),\n",
       " 'key5': 5,\n",
       " (0, 1): 6}"
      ]
     },
     "execution_count": 1,
     "metadata": {},
     "output_type": "execute_result"
    }
   ],
   "source": [
    "# Create the dictionary \n",
    "\n",
    "Dict ={\"key1\":1,\"key2\":\"2\",\"key3\":[3,3,3], \"key4\":(4,4,4),(\"key5\"):5,(0,1):6}\n",
    "Dict"
   ]
  },
  {
   "cell_type": "markdown",
   "id": "48128a44",
   "metadata": {},
   "source": [
    "The keys can be strings:"
   ]
  },
  {
   "cell_type": "code",
   "execution_count": 2,
   "id": "b6692072",
   "metadata": {},
   "outputs": [
    {
     "data": {
      "text/plain": [
       "1"
      ]
     },
     "execution_count": 2,
     "metadata": {},
     "output_type": "execute_result"
    }
   ],
   "source": [
    "# Access to the value ny the key\n",
    "Dict[\"key1\"]"
   ]
  },
  {
   "cell_type": "markdown",
   "id": "778ce4e8",
   "metadata": {},
   "source": [
    "Keys can also be ay immutable object such as a tuple:"
   ]
  },
  {
   "cell_type": "code",
   "execution_count": 3,
   "id": "0f8ebb28",
   "metadata": {},
   "outputs": [
    {
     "data": {
      "text/plain": [
       "6"
      ]
     },
     "execution_count": 3,
     "metadata": {},
     "output_type": "execute_result"
    }
   ],
   "source": [
    "# Access to the value ny the key\n",
    "Dict[(0,1)]"
   ]
  },
  {
   "cell_type": "markdown",
   "id": "2c57c8ae",
   "metadata": {},
   "source": [
    "Each key is separated from its value by a colon \":\". Commas separate the items, and the whole dictionary in enclosed in curly braces, like this \"{}\"."
   ]
  },
  {
   "cell_type": "code",
   "execution_count": 4,
   "id": "01ecb8b7",
   "metadata": {},
   "outputs": [
    {
     "data": {
      "text/plain": [
       "{'Thriller': '1982',\n",
       " 'Black in Black': '1980',\n",
       " 'The Dark Side of the Moon': '1973',\n",
       " 'The Bodyguard': '1992',\n",
       " 'Bat Out of Hell': '1977',\n",
       " 'Their Greatest Hits (1971-1975)': '1976',\n",
       " 'Saturday Night Fever': '1977',\n",
       " 'Rumours': '1977'}"
      ]
     },
     "execution_count": 4,
     "metadata": {},
     "output_type": "execute_result"
    }
   ],
   "source": [
    "# Create a sample dictionary \n",
    "\n",
    "release_year_dict = {\"Thriller\":\"1982\",\"Black in Black\":\"1980\",\n",
    "                    \"The Dark Side of the Moon\":\"1973\", \"The Bodyguard\":\"1992\",\n",
    "                    \"Bat Out of Hell\":\"1977\",\"Their Greatest Hits (1971-1975)\":\"1976\",\n",
    "                    \"Saturday Night Fever\":\"1977\",\"Rumours\":\"1977\"}\n",
    "release_year_dict"
   ]
  },
  {
   "cell_type": "markdown",
   "id": "bc232091",
   "metadata": {},
   "source": [
    "In summary, like a list, a dictionary holds a sequence of elements. Each element is represented by a key and its corresponding value. Dictionaries are created with two curly braces containing keys and values separated by a colon. For every key, there can only be one single value, however, multiplie keys can hold the same values. Keys can only be strings, numbers or tuples, but vaues can be any data tuype."
   ]
  },
  {
   "cell_type": "markdown",
   "id": "a4df0378",
   "metadata": {},
   "source": [
    "### Keys \n",
    "\n",
    "You can retrive the values based on the names:"
   ]
  },
  {
   "cell_type": "code",
   "execution_count": 5,
   "id": "4440234e",
   "metadata": {},
   "outputs": [
    {
     "data": {
      "text/plain": [
       "'1982'"
      ]
     },
     "execution_count": 5,
     "metadata": {},
     "output_type": "execute_result"
    }
   ],
   "source": [
    "# Get value by keys\n",
    "\n",
    "release_year_dict[\"Thriller\"]"
   ]
  },
  {
   "cell_type": "code",
   "execution_count": 6,
   "id": "3d53a78f",
   "metadata": {},
   "outputs": [
    {
     "data": {
      "text/plain": [
       "'1992'"
      ]
     },
     "execution_count": 6,
     "metadata": {},
     "output_type": "execute_result"
    }
   ],
   "source": [
    "# Get value by keys\n",
    "\n",
    "release_year_dict[\"The Bodyguard\"]"
   ]
  },
  {
   "cell_type": "markdown",
   "id": "a45bd44e",
   "metadata": {},
   "source": [
    "Now lets us retrive the keys of the dicionary using the method keys():"
   ]
  },
  {
   "cell_type": "code",
   "execution_count": 9,
   "id": "bd3f90a4",
   "metadata": {},
   "outputs": [
    {
     "data": {
      "text/plain": [
       "dict_keys(['Thriller', 'Black in Black', 'The Dark Side of the Moon', 'The Bodyguard', 'Bat Out of Hell', 'Their Greatest Hits (1971-1975)', 'Saturday Night Fever', 'Rumours'])"
      ]
     },
     "execution_count": 9,
     "metadata": {},
     "output_type": "execute_result"
    }
   ],
   "source": [
    "# Get all the keys in dictionary \n",
    "\n",
    "release_year_dict.keys()"
   ]
  },
  {
   "cell_type": "markdown",
   "id": "366368f3",
   "metadata": {},
   "source": [
    "You can retrive the values using the method values()"
   ]
  },
  {
   "cell_type": "code",
   "execution_count": 11,
   "id": "1e090287",
   "metadata": {},
   "outputs": [
    {
     "data": {
      "text/plain": [
       "dict_values(['1982', '1980', '1973', '1992', '1977', '1976', '1977', '1977'])"
      ]
     },
     "execution_count": 11,
     "metadata": {},
     "output_type": "execute_result"
    }
   ],
   "source": [
    "# Get all the values in dictionary\n",
    "\n",
    "release_year_dict.values()"
   ]
  },
  {
   "cell_type": "markdown",
   "id": "51cee61e",
   "metadata": {},
   "source": [
    "We can add an entry:"
   ]
  },
  {
   "cell_type": "code",
   "execution_count": 12,
   "id": "17413ead",
   "metadata": {},
   "outputs": [
    {
     "data": {
      "text/plain": [
       "{'Thriller': '1982',\n",
       " 'Black in Black': '1980',\n",
       " 'The Dark Side of the Moon': '1973',\n",
       " 'The Bodyguard': '1992',\n",
       " 'Bat Out of Hell': '1977',\n",
       " 'Their Greatest Hits (1971-1975)': '1976',\n",
       " 'Saturday Night Fever': '1977',\n",
       " 'Rumours': '1977',\n",
       " 'Graduation': '2007'}"
      ]
     },
     "execution_count": 12,
     "metadata": {},
     "output_type": "execute_result"
    }
   ],
   "source": [
    "# Append value tih key into dicitonary\n",
    "\n",
    "release_year_dict[\"Graduation\"]=\"2007\"\n",
    "release_year_dict"
   ]
  },
  {
   "cell_type": "markdown",
   "id": "ec3f4e62",
   "metadata": {},
   "source": [
    "We can delete an entry:"
   ]
  },
  {
   "cell_type": "code",
   "execution_count": 13,
   "id": "1b1250be",
   "metadata": {},
   "outputs": [
    {
     "data": {
      "text/plain": [
       "{'Black in Black': '1980',\n",
       " 'The Dark Side of the Moon': '1973',\n",
       " 'The Bodyguard': '1992',\n",
       " 'Bat Out of Hell': '1977',\n",
       " 'Their Greatest Hits (1971-1975)': '1976',\n",
       " 'Saturday Night Fever': '1977',\n",
       " 'Rumours': '1977'}"
      ]
     },
     "execution_count": 13,
     "metadata": {},
     "output_type": "execute_result"
    }
   ],
   "source": [
    "# Delete entries by key\n",
    "del(release_year_dict[\"Thriller\"])\n",
    "del(release_year_dict[\"Graduation\"])\n",
    "release_year_dict"
   ]
  },
  {
   "cell_type": "markdown",
   "id": "3ef9f68c",
   "metadata": {},
   "source": [
    "We can verify if an element is in the dictionary:"
   ]
  },
  {
   "cell_type": "code",
   "execution_count": 14,
   "id": "32581f1b",
   "metadata": {},
   "outputs": [
    {
     "data": {
      "text/plain": [
       "True"
      ]
     },
     "execution_count": 14,
     "metadata": {},
     "output_type": "execute_result"
    }
   ],
   "source": [
    "# Verify the key is in the dictionary\n",
    "\n",
    "\"The Bodyguard\" in release_year_dict"
   ]
  },
  {
   "cell_type": "markdown",
   "id": "523aa000",
   "metadata": {},
   "source": [
    "### Quiz on Dictionaries "
   ]
  },
  {
   "cell_type": "code",
   "execution_count": 15,
   "id": "c3cb91c5",
   "metadata": {},
   "outputs": [
    {
     "data": {
      "text/plain": [
       "{'The Bodyguard': '1992', 'Saturday Night Fever': '1977'}"
      ]
     },
     "execution_count": 15,
     "metadata": {},
     "output_type": "execute_result"
    }
   ],
   "source": [
    "# Question sample dictionary\n",
    "\n",
    "soundtrack_dic={\"The Bodyguard\":\"1992\",\"Saturday Night Fever\":\"1977\"}\n",
    "soundtrack_dic"
   ]
  },
  {
   "cell_type": "markdown",
   "id": "e46bd262",
   "metadata": {},
   "source": [
    "a) In the dictionary soundtrack_dic what are the keys?"
   ]
  },
  {
   "cell_type": "code",
   "execution_count": 16,
   "id": "3c39f624",
   "metadata": {},
   "outputs": [
    {
     "data": {
      "text/plain": [
       "dict_keys(['The Bodyguard', 'Saturday Night Fever'])"
      ]
     },
     "execution_count": 16,
     "metadata": {},
     "output_type": "execute_result"
    }
   ],
   "source": [
    "soundtrack_dic.keys()"
   ]
  },
  {
   "cell_type": "markdown",
   "id": "c1dc2f59",
   "metadata": {},
   "source": [
    "b) In the dictionary soundtrack_dic what are the values?"
   ]
  },
  {
   "cell_type": "code",
   "execution_count": 17,
   "id": "961694d4",
   "metadata": {},
   "outputs": [
    {
     "data": {
      "text/plain": [
       "dict_values(['1992', '1977'])"
      ]
     },
     "execution_count": 17,
     "metadata": {},
     "output_type": "execute_result"
    }
   ],
   "source": [
    "soundtrack_dic.values()"
   ]
  },
  {
   "cell_type": "markdown",
   "id": "c1b41d7a",
   "metadata": {},
   "source": [
    "The Albums <b>Back in Black</b>, <b>The Bodyguard</b>, and <b>Thriller</b> have the following music recording sales in millons 50, 50 and 65 respectively:\n",
    "\n",
    "a) Create a dictionary album_sales_dict where the keys are the album name and the sales in millions the values."
   ]
  },
  {
   "cell_type": "code",
   "execution_count": 21,
   "id": "31f074b8",
   "metadata": {},
   "outputs": [
    {
     "data": {
      "text/plain": [
       "{'Back in Black': 50, 'The Bodyguard': 50, 'Thriller': 65}"
      ]
     },
     "execution_count": 21,
     "metadata": {},
     "output_type": "execute_result"
    }
   ],
   "source": [
    "album_sales_dict={\"Back in Black\":50, \"The Bodyguard\":50,\"Thriller\":65}\n",
    "album_sales_dict"
   ]
  },
  {
   "cell_type": "markdown",
   "id": "396c28a3",
   "metadata": {},
   "source": [
    "b) Use the dictionary to find the total sales of <b>Thriler</b>"
   ]
  },
  {
   "cell_type": "code",
   "execution_count": 22,
   "id": "c75462ec",
   "metadata": {},
   "outputs": [
    {
     "data": {
      "text/plain": [
       "65"
      ]
     },
     "execution_count": 22,
     "metadata": {},
     "output_type": "execute_result"
    }
   ],
   "source": [
    "album_sales_dict[\"Thriller\"]"
   ]
  },
  {
   "cell_type": "markdown",
   "id": "cb7d7f99",
   "metadata": {},
   "source": [
    "c) Find the names of the albums from the dictionary using the method keys()"
   ]
  },
  {
   "cell_type": "code",
   "execution_count": 23,
   "id": "b0a5c0d8",
   "metadata": {},
   "outputs": [
    {
     "data": {
      "text/plain": [
       "dict_keys(['Back in Black', 'The Bodyguard', 'Thriller'])"
      ]
     },
     "execution_count": 23,
     "metadata": {},
     "output_type": "execute_result"
    }
   ],
   "source": [
    "album_sales_dict.keys()"
   ]
  },
  {
   "cell_type": "markdown",
   "id": "68b33de7",
   "metadata": {},
   "source": [
    "d) Find the values of the recording sales from the dictionary using method values:"
   ]
  },
  {
   "cell_type": "code",
   "execution_count": 25,
   "id": "4774b558",
   "metadata": {},
   "outputs": [
    {
     "data": {
      "text/plain": [
       "dict_values([50, 50, 65])"
      ]
     },
     "execution_count": 25,
     "metadata": {},
     "output_type": "execute_result"
    }
   ],
   "source": [
    "album_sales_dict.values()"
   ]
  },
  {
   "cell_type": "markdown",
   "id": "93a811de",
   "metadata": {},
   "source": [
    "### Scenario: Inventory Store\n",
    "\n",
    "The inventory store scenario project utilizes a dictionary-based approach to develop a robust system for managing and tracking inventory in a retail store. "
   ]
  },
  {
   "cell_type": "markdown",
   "id": "9983329a",
   "metadata": {},
   "source": [
    "### Task-1 Create an empty dictionary \n",
    "\n",
    "First you nedd to create an empty dictionary, where you will be stroing the product details:"
   ]
  },
  {
   "cell_type": "code",
   "execution_count": 62,
   "id": "7e12e335",
   "metadata": {},
   "outputs": [],
   "source": [
    "inventory={}"
   ]
  },
  {
   "cell_type": "markdown",
   "id": "5efad381",
   "metadata": {},
   "source": [
    "### Task-2 Store the firt producti details in variable\n",
    "\n",
    "* Product name = Mobile Phone\n",
    "* Product Quantity = 5\n",
    "* Product price= 20000\n",
    "* Product Release Year = 2020"
   ]
  },
  {
   "cell_type": "code",
   "execution_count": 63,
   "id": "60f02382",
   "metadata": {},
   "outputs": [],
   "source": [
    "product1_name=\"Mobile Phone\"\n",
    "product1_quantity=5\n",
    "product1_price=20000\n",
    "product1_release_year=2020"
   ]
  },
  {
   "cell_type": "markdown",
   "id": "5045122a",
   "metadata": {},
   "source": [
    "### Task-3 Add the details in inventory"
   ]
  },
  {
   "cell_type": "code",
   "execution_count": 64,
   "id": "3bc14dcc",
   "metadata": {},
   "outputs": [
    {
     "data": {
      "text/plain": [
       "{'Product1_name': 'Mobile Phone',\n",
       " 'Product1_quantity': 5,\n",
       " 'Product1_price': 20000,\n",
       " 'Product1_release_year': 2020}"
      ]
     },
     "execution_count": 64,
     "metadata": {},
     "output_type": "execute_result"
    }
   ],
   "source": [
    "inventory[\"Product1_name\"]= product1_name\n",
    "inventory[\"Product1_quantity\"]= product1_quantity\n",
    "inventory[\"Product1_price\"]= product1_price\n",
    "inventory[\"Product1_release_year\"]= product1_release_year\n",
    "inventory"
   ]
  },
  {
   "cell_type": "markdown",
   "id": "73a0e47c",
   "metadata": {},
   "source": [
    "### Task-4 Store the second product details in a variable\n",
    "\n",
    "* Product Name = \"Laptop\"\n",
    "* Product Quantity = 10\n",
    "* Product price = 50000\n",
    "* Product Release Year = 2023"
   ]
  },
  {
   "cell_type": "code",
   "execution_count": 65,
   "id": "690c9a9d",
   "metadata": {},
   "outputs": [],
   "source": [
    "product2_name = \"Laptop\"\n",
    "product2_quantity = 10\n",
    "product2_price = 50000\n",
    "product2_release_year = 2023"
   ]
  },
  {
   "cell_type": "markdown",
   "id": "6c30e432",
   "metadata": {},
   "source": [
    "### Task-5 add the item detail in the inventory"
   ]
  },
  {
   "cell_type": "code",
   "execution_count": 66,
   "id": "6b323240",
   "metadata": {},
   "outputs": [
    {
     "data": {
      "text/plain": [
       "{'Product1_name': 'Mobile Phone',\n",
       " 'Product1_quantity': 5,\n",
       " 'Product1_price': 20000,\n",
       " 'Product1_release_year': 2020,\n",
       " 'Product2_name': 'Laptop',\n",
       " 'Product2_quantity': 10,\n",
       " 'Product2_price': 50000,\n",
       " 'Product2_release_year': 2023}"
      ]
     },
     "execution_count": 66,
     "metadata": {},
     "output_type": "execute_result"
    }
   ],
   "source": [
    "inventory[\"Product2_name\"] =product2_name\n",
    "inventory[\"Product2_quantity\"] =product2_quantity\n",
    "inventory[\"Product2_price\"] =product2_price\n",
    "inventory[\"Product2_release_year\"] =product2_release_year\n",
    "inventory"
   ]
  },
  {
   "cell_type": "markdown",
   "id": "9706cf0a",
   "metadata": {},
   "source": [
    "### Task-6 Display the Products present in the ivnentory \n",
    "\n",
    "Use print statement for fidplaying the products"
   ]
  },
  {
   "cell_type": "code",
   "execution_count": 67,
   "id": "26fa09c1",
   "metadata": {},
   "outputs": [
    {
     "name": "stdout",
     "output_type": "stream",
     "text": [
      "{'Product1_name': 'Mobile Phone', 'Product1_quantity': 5, 'Product1_price': 20000, 'Product1_release_year': 2020, 'Product2_name': 'Laptop', 'Product2_quantity': 10, 'Product2_price': 50000, 'Product2_release_year': 2023}\n"
     ]
    }
   ],
   "source": [
    "print(inventory)"
   ]
  },
  {
   "cell_type": "markdown",
   "id": "795e008e",
   "metadata": {},
   "source": [
    "### Task-7 Check if prodcut1_release_year and product2_release_year is in the invetory "
   ]
  },
  {
   "cell_type": "code",
   "execution_count": 68,
   "id": "5e1eb330",
   "metadata": {},
   "outputs": [
    {
     "data": {
      "text/plain": [
       "True"
      ]
     },
     "execution_count": 68,
     "metadata": {},
     "output_type": "execute_result"
    }
   ],
   "source": [
    "\"Product1_release_year\" in inventory "
   ]
  },
  {
   "cell_type": "code",
   "execution_count": 69,
   "id": "bf0226ca",
   "metadata": {},
   "outputs": [
    {
     "data": {
      "text/plain": [
       "True"
      ]
     },
     "execution_count": 69,
     "metadata": {},
     "output_type": "execute_result"
    }
   ],
   "source": [
    "\"Product2_release_year\" in inventory"
   ]
  },
  {
   "cell_type": "markdown",
   "id": "7e6910be",
   "metadata": {},
   "source": [
    "### Task-8 Delete release year of both the prodcuts from the inventory "
   ]
  },
  {
   "cell_type": "code",
   "execution_count": 70,
   "id": "8faf1287",
   "metadata": {},
   "outputs": [
    {
     "data": {
      "text/plain": [
       "{'Product1_name': 'Mobile Phone',\n",
       " 'Product1_quantity': 5,\n",
       " 'Product1_price': 20000,\n",
       " 'Product2_name': 'Laptop',\n",
       " 'Product2_quantity': 10,\n",
       " 'Product2_price': 50000}"
      ]
     },
     "execution_count": 70,
     "metadata": {},
     "output_type": "execute_result"
    }
   ],
   "source": [
    "del(inventory[\"Product1_release_year\"])\n",
    "del(inventory[\"Product2_release_year\"])\n",
    "inventory"
   ]
  }
 ],
 "metadata": {
  "kernelspec": {
   "display_name": "Python 3 (ipykernel)",
   "language": "python",
   "name": "python3"
  },
  "language_info": {
   "codemirror_mode": {
    "name": "ipython",
    "version": 3
   },
   "file_extension": ".py",
   "mimetype": "text/x-python",
   "name": "python",
   "nbconvert_exporter": "python",
   "pygments_lexer": "ipython3",
   "version": "3.11.7"
  }
 },
 "nbformat": 4,
 "nbformat_minor": 5
}
