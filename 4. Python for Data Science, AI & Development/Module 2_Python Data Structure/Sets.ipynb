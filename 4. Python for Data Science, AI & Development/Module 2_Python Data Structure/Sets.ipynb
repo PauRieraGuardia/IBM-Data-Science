{
 "cells": [
  {
   "cell_type": "markdown",
   "id": "9b726bde",
   "metadata": {},
   "source": [
    "### Sets in Python\n",
    "\n",
    "A set is a unqique collection of objects in Python. You can denote a set with a pair of curly brackets {}. Python will automatically remove duplicate items:"
   ]
  },
  {
   "cell_type": "code",
   "execution_count": 1,
   "id": "5ef57983",
   "metadata": {},
   "outputs": [
    {
     "data": {
      "text/plain": [
       "{'R&B', 'disco', 'hard rock', 'pop', 'rock', 'soul'}"
      ]
     },
     "execution_count": 1,
     "metadata": {},
     "output_type": "execute_result"
    }
   ],
   "source": [
    "# Create a set\n",
    "\n",
    "set1={\"pop\",\"rock\",\"soul\",\"hard rock\",\"rock\",\"R&B\",\"rock\",\"disco\"}\n",
    "set1"
   ]
  },
  {
   "cell_type": "markdown",
   "id": "928a99f6",
   "metadata": {},
   "source": [
    "You can also create a set from a list as folllows:"
   ]
  },
  {
   "cell_type": "code",
   "execution_count": 2,
   "id": "6bbf1d82",
   "metadata": {},
   "outputs": [
    {
     "data": {
      "text/plain": [
       "{'00:42:19',\n",
       " 10.0,\n",
       " 1982,\n",
       " '30-nov-82',\n",
       " 46.0,\n",
       " 65,\n",
       " 'Michael Jacson',\n",
       " None,\n",
       " 'Pop, Rock, R&B',\n",
       " 'Thriller'}"
      ]
     },
     "execution_count": 2,
     "metadata": {},
     "output_type": "execute_result"
    }
   ],
   "source": [
    "# Convert a list to set\n",
    "\n",
    "album_list =[\"Michael Jacson\",\"Thriller\",1982,\"00:42:19\",\"Pop, Rock, R&B\",46.0,65,\"30-nov-82\", None, 10.0]\n",
    "album_set = set(album_list)\n",
    "album_set"
   ]
  },
  {
   "cell_type": "markdown",
   "id": "4dcb4a6e",
   "metadata": {},
   "source": [
    "Now let us create a set of genres:"
   ]
  },
  {
   "cell_type": "code",
   "execution_count": 3,
   "id": "6b468076",
   "metadata": {},
   "outputs": [
    {
     "data": {
      "text/plain": [
       "{'R&B',\n",
       " 'disco',\n",
       " 'folk rock',\n",
       " 'hard rock',\n",
       " 'pop',\n",
       " 'progressive rock',\n",
       " 'rock',\n",
       " 'soft rock',\n",
       " 'soul'}"
      ]
     },
     "execution_count": 3,
     "metadata": {},
     "output_type": "execute_result"
    }
   ],
   "source": [
    "# Convert list to set\n",
    "\n",
    "music_genres = set([\"pop\",\"pop\",\"rock\",\"folk rock\", \"hard rock\",\"soul\",\"progressive rock\",\"soft rock\",\"R&B\",\"disco\"])\n",
    "music_genres\n"
   ]
  },
  {
   "cell_type": "markdown",
   "id": "2cbc57e5",
   "metadata": {},
   "source": [
    "### Set Operations\n",
    "\n",
    "Let us go over set operations, as theses can be used to change the set. Consider the set <b>A</b>"
   ]
  },
  {
   "cell_type": "code",
   "execution_count": 4,
   "id": "3014de92",
   "metadata": {},
   "outputs": [
    {
     "data": {
      "text/plain": [
       "{'AC/DC', 'Back in Black', 'Thriller'}"
      ]
     },
     "execution_count": 4,
     "metadata": {},
     "output_type": "execute_result"
    }
   ],
   "source": [
    "# Sample set\n",
    "\n",
    "A = set([\"Thriller\",\"Back in Black\",\"AC/DC\"])\n",
    "A"
   ]
  },
  {
   "cell_type": "markdown",
   "id": "bb5deea9",
   "metadata": {},
   "source": [
    "We can add an element to a set using the add() method:"
   ]
  },
  {
   "cell_type": "code",
   "execution_count": 5,
   "id": "b3289d82",
   "metadata": {},
   "outputs": [
    {
     "data": {
      "text/plain": [
       "{'AC/DC', 'Back in Black', 'NYSNC', 'Thriller'}"
      ]
     },
     "execution_count": 5,
     "metadata": {},
     "output_type": "execute_result"
    }
   ],
   "source": [
    "# Add eleent to set\n",
    "\n",
    "A.add(\"NYSNC\")\n",
    "A"
   ]
  },
  {
   "cell_type": "markdown",
   "id": "42a6c8cc",
   "metadata": {},
   "source": [
    "If we add the same element twice, nothing will happen as there can be no duplicates in a set:"
   ]
  },
  {
   "cell_type": "code",
   "execution_count": 6,
   "id": "4b7724fd",
   "metadata": {},
   "outputs": [
    {
     "data": {
      "text/plain": [
       "{'AC/DC', 'Back in Black', 'NYSNC', 'Thriller'}"
      ]
     },
     "execution_count": 6,
     "metadata": {},
     "output_type": "execute_result"
    }
   ],
   "source": [
    "# Try to add duplicate element to the set\n",
    "\n",
    "A.add(\"NYSNC\")\n",
    "A"
   ]
  },
  {
   "cell_type": "markdown",
   "id": "32ef62cd",
   "metadata": {},
   "source": [
    "We can remove an item from a set using the remove method:"
   ]
  },
  {
   "cell_type": "code",
   "execution_count": 7,
   "id": "3cdfda2c",
   "metadata": {},
   "outputs": [
    {
     "data": {
      "text/plain": [
       "{'AC/DC', 'Back in Black', 'Thriller'}"
      ]
     },
     "execution_count": 7,
     "metadata": {},
     "output_type": "execute_result"
    }
   ],
   "source": [
    "A.remove(\"NYSNC\")\n",
    "A"
   ]
  },
  {
   "cell_type": "markdown",
   "id": "85a8385e",
   "metadata": {},
   "source": [
    "We can verify if an element is in the set using the in command:"
   ]
  },
  {
   "cell_type": "code",
   "execution_count": 8,
   "id": "49e28eb5",
   "metadata": {},
   "outputs": [
    {
     "data": {
      "text/plain": [
       "True"
      ]
     },
     "execution_count": 8,
     "metadata": {},
     "output_type": "execute_result"
    }
   ],
   "source": [
    "# Verify if the element is in the set \n",
    "\n",
    "\"AC/DC\" in A"
   ]
  },
  {
   "cell_type": "markdown",
   "id": "d6c20cfc",
   "metadata": {},
   "source": [
    "### Set Logic Operations\n",
    "\n",
    "Remember that with sets you can check the difference between sets, as well as the symmetric difference, intersaction, and union:\n",
    "\n",
    "Consider the following two sets:"
   ]
  },
  {
   "cell_type": "code",
   "execution_count": 11,
   "id": "eab8c931",
   "metadata": {},
   "outputs": [],
   "source": [
    "# Sample Sets\n",
    "\n",
    "album_set1= set([\"Thriller\",\"AC/DC\",\"Back in Black\"])\n",
    "album_set2= set([\"AC/DC\",\"Back in Black\",\"The Dark Side of the Moon\"])"
   ]
  },
  {
   "cell_type": "code",
   "execution_count": 12,
   "id": "5afc80d2",
   "metadata": {},
   "outputs": [
    {
     "data": {
      "text/plain": [
       "({'AC/DC', 'Back in Black', 'Thriller'},\n",
       " {'AC/DC', 'Back in Black', 'The Dark Side of the Moon'})"
      ]
     },
     "execution_count": 12,
     "metadata": {},
     "output_type": "execute_result"
    }
   ],
   "source": [
    "# Print two sets\n",
    "\n",
    "album_set1, album_set2"
   ]
  },
  {
   "cell_type": "markdown",
   "id": "d6640d8d",
   "metadata": {},
   "source": [
    "You can find the intersect of two sets as follow using &:"
   ]
  },
  {
   "cell_type": "code",
   "execution_count": 16,
   "id": "9d7b8bf4",
   "metadata": {},
   "outputs": [
    {
     "data": {
      "text/plain": [
       "{'AC/DC', 'Back in Black'}"
      ]
     },
     "execution_count": 16,
     "metadata": {},
     "output_type": "execute_result"
    }
   ],
   "source": [
    "# Find the intersections\n",
    "\n",
    "intersection = album_set1 & album_set2\n",
    "intersection"
   ]
  },
  {
   "cell_type": "markdown",
   "id": "8f19b6e9",
   "metadata": {},
   "source": [
    "You can find all the elements that are only contained in album_set1 using the difference method:"
   ]
  },
  {
   "cell_type": "code",
   "execution_count": 14,
   "id": "b876405e",
   "metadata": {},
   "outputs": [
    {
     "data": {
      "text/plain": [
       "{'Thriller'}"
      ]
     },
     "execution_count": 14,
     "metadata": {},
     "output_type": "execute_result"
    }
   ],
   "source": [
    "# Find the difference in set 1 but not set 2\n",
    "\n",
    "album_set1.difference(album_set2)"
   ]
  },
  {
   "cell_type": "markdown",
   "id": "02edaf38",
   "metadata": {},
   "source": [
    "The elements in album_set2 but not in album_set1 is given by:"
   ]
  },
  {
   "cell_type": "code",
   "execution_count": 15,
   "id": "61289501",
   "metadata": {},
   "outputs": [
    {
     "data": {
      "text/plain": [
       "{'The Dark Side of the Moon'}"
      ]
     },
     "execution_count": 15,
     "metadata": {},
     "output_type": "execute_result"
    }
   ],
   "source": [
    "album_set2.difference(album_set1)"
   ]
  },
  {
   "cell_type": "markdown",
   "id": "c9a73691",
   "metadata": {},
   "source": [
    "You can also find the intersaction of album:list1 and album_list2, using the intersection method;"
   ]
  },
  {
   "cell_type": "code",
   "execution_count": 17,
   "id": "7627e296",
   "metadata": {},
   "outputs": [
    {
     "data": {
      "text/plain": [
       "{'AC/DC', 'Back in Black'}"
      ]
     },
     "execution_count": 17,
     "metadata": {},
     "output_type": "execute_result"
    }
   ],
   "source": [
    "#Use intersection method to find the intersection of album_list1 and album_list2\n",
    "\n",
    "album_set1.intersection(album_set2)"
   ]
  },
  {
   "cell_type": "markdown",
   "id": "a2dcfb55",
   "metadata": {},
   "source": [
    "The union corresponds to all the elements in both sets. The union is given by."
   ]
  },
  {
   "cell_type": "code",
   "execution_count": 18,
   "id": "8f767425",
   "metadata": {},
   "outputs": [
    {
     "data": {
      "text/plain": [
       "{'AC/DC', 'Back in Black', 'The Dark Side of the Moon', 'Thriller'}"
      ]
     },
     "execution_count": 18,
     "metadata": {},
     "output_type": "execute_result"
    }
   ],
   "source": [
    "# Find the union of two sets\n",
    "\n",
    "album_set1.union(album_set2)"
   ]
  },
  {
   "cell_type": "markdown",
   "id": "ff6044ba",
   "metadata": {},
   "source": [
    "And you can check if a set is a superset or subset of another set, respectively, like this:"
   ]
  },
  {
   "cell_type": "code",
   "execution_count": 20,
   "id": "c48fc53c",
   "metadata": {},
   "outputs": [
    {
     "data": {
      "text/plain": [
       "False"
      ]
     },
     "execution_count": 20,
     "metadata": {},
     "output_type": "execute_result"
    }
   ],
   "source": [
    "# Check if superst\n",
    "set(album_set1).issuperset(album_set2)"
   ]
  },
  {
   "cell_type": "code",
   "execution_count": 21,
   "id": "45c60728",
   "metadata": {},
   "outputs": [
    {
     "data": {
      "text/plain": [
       "False"
      ]
     },
     "execution_count": 21,
     "metadata": {},
     "output_type": "execute_result"
    }
   ],
   "source": [
    "# Check if subset\n",
    "set(album_set2).issubset(album_set1)"
   ]
  },
  {
   "cell_type": "markdown",
   "id": "5c431e4c",
   "metadata": {},
   "source": [
    "Here is an example where issubset() and issuperset() return true:"
   ]
  },
  {
   "cell_type": "code",
   "execution_count": 26,
   "id": "7310658a",
   "metadata": {},
   "outputs": [
    {
     "data": {
      "text/plain": [
       "True"
      ]
     },
     "execution_count": 26,
     "metadata": {},
     "output_type": "execute_result"
    }
   ],
   "source": [
    "# Check if subset\n",
    "\n",
    "set({\"Back in Black\",\"AC/DC\"}).issubset(album_set1)"
   ]
  },
  {
   "cell_type": "code",
   "execution_count": 27,
   "id": "38b99fdd",
   "metadata": {},
   "outputs": [
    {
     "data": {
      "text/plain": [
       "True"
      ]
     },
     "execution_count": 27,
     "metadata": {},
     "output_type": "execute_result"
    }
   ],
   "source": [
    "# Check if superst\n",
    "\n",
    "album_set1.issuperset({\"Back in Black\",\"AC/DC\"})"
   ]
  },
  {
   "cell_type": "markdown",
   "id": "3c044e10",
   "metadata": {},
   "source": [
    "### Quiz on Sets\n",
    "\n",
    "Convert the list [\"rap\",\"house\",\"electronic muscic\",\"rap\"] to a set"
   ]
  },
  {
   "cell_type": "code",
   "execution_count": 30,
   "id": "68644e17",
   "metadata": {},
   "outputs": [
    {
     "data": {
      "text/plain": [
       "{'electronic muscic', 'house', 'rap'}"
      ]
     },
     "execution_count": 30,
     "metadata": {},
     "output_type": "execute_result"
    }
   ],
   "source": [
    "set([\"rap\",\"house\",\"electronic muscic\",\"rap\"])\n"
   ]
  },
  {
   "cell_type": "markdown",
   "id": "94d80db6",
   "metadata": {},
   "source": [
    "Consider the list A=[1,2,2,1] and set B=set([1,2,2,1]), does sum(A) == sum(B)?"
   ]
  },
  {
   "cell_type": "code",
   "execution_count": 31,
   "id": "45135d34",
   "metadata": {},
   "outputs": [
    {
     "data": {
      "text/plain": [
       "False"
      ]
     },
     "execution_count": 31,
     "metadata": {},
     "output_type": "execute_result"
    }
   ],
   "source": [
    "A=[1,2,2,1]\n",
    "B=set([1,2,2,1])\n",
    "sum(A) == sum(B)"
   ]
  },
  {
   "cell_type": "markdown",
   "id": "a864f7e7",
   "metadata": {},
   "source": [
    "Create a new set album_set3 that is the union of album_set1 anf album_set2"
   ]
  },
  {
   "cell_type": "code",
   "execution_count": 35,
   "id": "ededbcdc",
   "metadata": {},
   "outputs": [
    {
     "data": {
      "text/plain": [
       "{'AC/DC', 'Back in Black', 'The Dark Side of the Moon', 'Thriller'}"
      ]
     },
     "execution_count": 35,
     "metadata": {},
     "output_type": "execute_result"
    }
   ],
   "source": [
    "album_set3= album_set1.union(album_set2)\n",
    "album_set3"
   ]
  },
  {
   "cell_type": "code",
   "execution_count": null,
   "id": "a7d6bfca",
   "metadata": {},
   "outputs": [],
   "source": []
  },
  {
   "cell_type": "markdown",
   "id": "368bfda5",
   "metadata": {},
   "source": [
    "Find out if album_set1 is a subset of album_set3:"
   ]
  },
  {
   "cell_type": "code",
   "execution_count": 37,
   "id": "a3a1150f",
   "metadata": {},
   "outputs": [
    {
     "data": {
      "text/plain": [
       "True"
      ]
     },
     "execution_count": 37,
     "metadata": {},
     "output_type": "execute_result"
    }
   ],
   "source": [
    "album_set1.issubset(album_set3)"
   ]
  }
 ],
 "metadata": {
  "kernelspec": {
   "display_name": "Python 3 (ipykernel)",
   "language": "python",
   "name": "python3"
  },
  "language_info": {
   "codemirror_mode": {
    "name": "ipython",
    "version": 3
   },
   "file_extension": ".py",
   "mimetype": "text/x-python",
   "name": "python",
   "nbconvert_exporter": "python",
   "pygments_lexer": "ipython3",
   "version": "3.11.7"
  }
 },
 "nbformat": 4,
 "nbformat_minor": 5
}
