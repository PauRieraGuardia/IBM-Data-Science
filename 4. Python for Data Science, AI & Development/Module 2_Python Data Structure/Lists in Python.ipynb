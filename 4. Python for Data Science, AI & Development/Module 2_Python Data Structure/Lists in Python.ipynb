{
 "cells": [
  {
   "cell_type": "markdown",
   "id": "ee992aa3",
   "metadata": {},
   "source": [
    "### Lists \n",
    "\n",
    "### Indexing\n",
    "\n",
    "We are going to take a look at lists in Python. A list is a sequecend collection of different objects such as integers, strings and even other lists as well. The address of each element within a list is called an index. An index is used to access and refer to items within a list."
   ]
  },
  {
   "cell_type": "markdown",
   "id": "d1541345",
   "metadata": {},
   "source": [
    "To create a list, type the list within square brackets [], with your content inside the parenthesis and separated by commas."
   ]
  },
  {
   "cell_type": "code",
   "execution_count": 4,
   "id": "9b0b2406",
   "metadata": {},
   "outputs": [
    {
     "data": {
      "text/plain": [
       "['Michael Jackson', 10.1, 1982]"
      ]
     },
     "execution_count": 4,
     "metadata": {},
     "output_type": "execute_result"
    }
   ],
   "source": [
    "# Create a list\n",
    "L = [\"Michael Jackson\",10.1,1982]\n",
    "L"
   ]
  },
  {
   "cell_type": "markdown",
   "id": "8de4cf6e",
   "metadata": {},
   "source": [
    "We can use negative and regular indexing with a list:"
   ]
  },
  {
   "cell_type": "code",
   "execution_count": 5,
   "id": "3ac39cf7",
   "metadata": {},
   "outputs": [
    {
     "name": "stdout",
     "output_type": "stream",
     "text": [
      "the same element using negative and positive indexing:\n",
      " Positive Michael Jackson \n",
      " Negative: Michael Jackson\n",
      "the same element using negative and positive indexing:\n",
      " Positive: 10.1 \n",
      " Negative: 10.1\n",
      "the same element using nefative and poitive indexing: \n",
      " Positive: 1982 \n",
      " Negative: 1982\n"
     ]
    }
   ],
   "source": [
    "# Print the elements on each index\n",
    "print(\"the same element using negative and positive indexing:\\n Positive\",L[0],\"\\n Negative:\",L[-3])\n",
    "print(\"the same element using negative and positive indexing:\\n Positive:\",L[1],\"\\n Negative:\",L[-2])\n",
    "print(\"the same element using nefative and poitive indexing: \\n Positive:\",L[2],\"\\n Negative:\",L[-1])"
   ]
  },
  {
   "cell_type": "markdown",
   "id": "094379b3",
   "metadata": {},
   "source": [
    "### List Content\n",
    "\n",
    "Lists con contain strings, floats, and integers. We can nest other lists, and we can also nest tuples and other data structures. The same indexing conventions apply for nesting:"
   ]
  },
  {
   "cell_type": "code",
   "execution_count": 6,
   "id": "6d045c48",
   "metadata": {
    "scrolled": true
   },
   "outputs": [
    {
     "data": {
      "text/plain": [
       "['Michael Jackson', 10.1, 1982, 'MJ', 1]"
      ]
     },
     "execution_count": 6,
     "metadata": {},
     "output_type": "execute_result"
    }
   ],
   "source": [
    "# Sample List\n",
    "[\"Michael Jackson\",10.1, 1982,\"MJ\",1]"
   ]
  },
  {
   "cell_type": "markdown",
   "id": "8230e814",
   "metadata": {},
   "source": [
    "### List Operations\n",
    "\n",
    "We can also perform slicing in lists. For example, if we want the last two elements, we use the following command:"
   ]
  },
  {
   "cell_type": "code",
   "execution_count": 7,
   "id": "a5d5d6d0",
   "metadata": {},
   "outputs": [
    {
     "data": {
      "text/plain": [
       "['Michael Jackson', 10.1, 1982, 'MJ', 1]"
      ]
     },
     "execution_count": 7,
     "metadata": {},
     "output_type": "execute_result"
    }
   ],
   "source": [
    "# Sample List\n",
    "L=[\"Michael Jackson\",10.1, 1982,\"MJ\",1]\n",
    "L"
   ]
  },
  {
   "cell_type": "code",
   "execution_count": 8,
   "id": "c48c0590",
   "metadata": {},
   "outputs": [
    {
     "data": {
      "text/plain": [
       "['MJ', 1]"
      ]
     },
     "execution_count": 8,
     "metadata": {},
     "output_type": "execute_result"
    }
   ],
   "source": [
    "# List Slicing\n",
    "L[3:5]"
   ]
  },
  {
   "cell_type": "code",
   "execution_count": 9,
   "id": "25f25eca",
   "metadata": {},
   "outputs": [
    {
     "data": {
      "text/plain": [
       "[1982, 'MJ', 1]"
      ]
     },
     "execution_count": 9,
     "metadata": {},
     "output_type": "execute_result"
    }
   ],
   "source": [
    "L[2:5]"
   ]
  },
  {
   "cell_type": "markdown",
   "id": "8fb6f897",
   "metadata": {},
   "source": [
    "We can use the method extend to add new elements to the list:"
   ]
  },
  {
   "cell_type": "code",
   "execution_count": 10,
   "id": "ab420ac6",
   "metadata": {},
   "outputs": [
    {
     "data": {
      "text/plain": [
       "['Michael Jackson', 10.2, 'pop', 10]"
      ]
     },
     "execution_count": 10,
     "metadata": {},
     "output_type": "execute_result"
    }
   ],
   "source": [
    "# Use extend to add elements to list\n",
    "L=[\"Michael Jackson\",10.2]\n",
    "L.extend([\"pop\",10])\n",
    "L"
   ]
  },
  {
   "cell_type": "markdown",
   "id": "29ce4941",
   "metadata": {},
   "source": [
    "Another similar method is append. If we apply append instead of extend, we add one element to the list:"
   ]
  },
  {
   "cell_type": "code",
   "execution_count": 11,
   "id": "4f71da58",
   "metadata": {},
   "outputs": [
    {
     "data": {
      "text/plain": [
       "['Michael Jacskon', 10.2, ['pop', 10]]"
      ]
     },
     "execution_count": 11,
     "metadata": {},
     "output_type": "execute_result"
    }
   ],
   "source": [
    "# Use append to add elements to list\n",
    "L = [\"Michael Jacskon\",10.2]\n",
    "L.append([\"pop\",10])\n",
    "L"
   ]
  },
  {
   "cell_type": "markdown",
   "id": "27a29c7f",
   "metadata": {},
   "source": [
    "Each time we apply a method, the list changes. If we apply extend we add two elements to the list. The list L is then modified by adding two elements:"
   ]
  },
  {
   "cell_type": "code",
   "execution_count": 12,
   "id": "183863bc",
   "metadata": {},
   "outputs": [
    {
     "data": {
      "text/plain": [
       "['Michale Jacsokn', 10.2, 'pop', 10]"
      ]
     },
     "execution_count": 12,
     "metadata": {},
     "output_type": "execute_result"
    }
   ],
   "source": [
    "# Use extend to add elements to list\n",
    "\n",
    "L=[\"Michale Jacsokn\",10.2]\n",
    "L.extend([\"pop\",10])\n",
    "L"
   ]
  },
  {
   "cell_type": "markdown",
   "id": "2625f798",
   "metadata": {},
   "source": [
    "If we append the list [\"a\",b\"] we have one new element consisting of a nested list:"
   ]
  },
  {
   "cell_type": "code",
   "execution_count": 13,
   "id": "9212e2bc",
   "metadata": {},
   "outputs": [
    {
     "data": {
      "text/plain": [
       "['Michale Jacsokn', 10.2, 'pop', 10, ['a', 'b']]"
      ]
     },
     "execution_count": 13,
     "metadata": {},
     "output_type": "execute_result"
    }
   ],
   "source": [
    "# Use append to add eleents to list\n",
    "L.append([\"a\",\"b\"])\n",
    "L"
   ]
  },
  {
   "cell_type": "markdown",
   "id": "4e1ce01a",
   "metadata": {},
   "source": [
    "As lists are mutable, we can change them. For example, we can change the fisrt element as follows:"
   ]
  },
  {
   "cell_type": "code",
   "execution_count": 14,
   "id": "259cf66a",
   "metadata": {},
   "outputs": [
    {
     "name": "stdout",
     "output_type": "stream",
     "text": [
      "Before change: ['disco', 10, 10.2]\n",
      "After change: ['hard rock', 10, 10.2]\n"
     ]
    }
   ],
   "source": [
    "# Change the element based ont hte indez\n",
    "A =[\"disco\",10,10.2]\n",
    "print(\"Before change:\",A)\n",
    "A[0]=\"hard rock\"\n",
    "print(\"After change:\",A)"
   ]
  },
  {
   "cell_type": "markdown",
   "id": "8543c37c",
   "metadata": {},
   "source": [
    "We can also delete an element of a list using the del commadn:"
   ]
  },
  {
   "cell_type": "code",
   "execution_count": 15,
   "id": "5a5c922e",
   "metadata": {},
   "outputs": [
    {
     "name": "stdout",
     "output_type": "stream",
     "text": [
      "Before change: ['hard rock', 10, 10.2]\n",
      "After Change: [10, 10.2]\n"
     ]
    }
   ],
   "source": [
    "# Delet the element based on the index\n",
    "print(\"Before change:\",A)\n",
    "del(A[0])\n",
    "print(\"After Change:\",A)"
   ]
  },
  {
   "cell_type": "markdown",
   "id": "91758c47",
   "metadata": {},
   "source": []
  },
  {
   "cell_type": "markdown",
   "id": "c74cf916",
   "metadata": {},
   "source": [
    "We can convert a string to a list using split. For example, the method split translater every group of characters separated by a space into in a list:"
   ]
  },
  {
   "cell_type": "code",
   "execution_count": 16,
   "id": "dfaccee8",
   "metadata": {},
   "outputs": [
    {
     "data": {
      "text/plain": [
       "['Hard', 'rock']"
      ]
     },
     "execution_count": 16,
     "metadata": {},
     "output_type": "execute_result"
    }
   ],
   "source": [
    "# Split the string, default is by space\n",
    "\"Hard rock\".split()"
   ]
  },
  {
   "cell_type": "markdown",
   "id": "cd673db8",
   "metadata": {},
   "source": [
    "We can use the split function to separate on a specific character which we call a delimiter. We pass the character we would likt to split on into the argument, which in this case is a comma. The result is a listm and each element corresponds to a set of characters that have been separated by a comma:"
   ]
  },
  {
   "cell_type": "code",
   "execution_count": 17,
   "id": "5f4d832d",
   "metadata": {},
   "outputs": [
    {
     "data": {
      "text/plain": [
       "['A', 'B', 'C', 'D']"
      ]
     },
     "execution_count": 17,
     "metadata": {},
     "output_type": "execute_result"
    }
   ],
   "source": [
    "# Split the string by comma\n",
    "\"A,B,C,D\".split(\",\")"
   ]
  },
  {
   "cell_type": "markdown",
   "id": "a955b066",
   "metadata": {},
   "source": [
    "### Copy and Clone List\n",
    "\n",
    "When we set one variable B equal to A, both A and B are referencing the same list in memory:"
   ]
  },
  {
   "cell_type": "code",
   "execution_count": 18,
   "id": "41a038ce",
   "metadata": {},
   "outputs": [
    {
     "name": "stdout",
     "output_type": "stream",
     "text": [
      "A; ['hard rock', 10, 10.2]\n",
      "B: ['hard rock', 10, 10.2]\n"
     ]
    }
   ],
   "source": [
    "# Copy (cpy by reference) the List A\n",
    "A=[\"hard rock\",10,10.2]\n",
    "B=A\n",
    "print(\"A;\",A)\n",
    "print(\"B:\",B)"
   ]
  },
  {
   "cell_type": "markdown",
   "id": "5bc36074",
   "metadata": {},
   "source": [
    "Initially, the value of the first element in <b>B</b> is set as \"hard rock\". if we change the first element in <b>A</b> to \"banana\", we get unexpected side effect. As <b>A</b> and <b>B</b> are referencing the same list, if e change list <b>A</b>, then the list <b>B</b> also changes. If we check the first element of <b>B</b> we get \"banana\" isntead of \"hard rock\"."
   ]
  },
  {
   "cell_type": "code",
   "execution_count": 19,
   "id": "f8c91700",
   "metadata": {},
   "outputs": [
    {
     "name": "stdout",
     "output_type": "stream",
     "text": [
      "B[0]: hard rock\n",
      "B[0]: banana\n"
     ]
    }
   ],
   "source": [
    "# Examine the copy by reference\n",
    "print(\"B[0]:\", B[0])\n",
    "A[0]=\"banana\"\n",
    "print(\"B[0]:\",B[0])"
   ]
  },
  {
   "cell_type": "markdown",
   "id": "550a6817",
   "metadata": {},
   "source": [
    "We can clone list A by using the following syntax:"
   ]
  },
  {
   "cell_type": "code",
   "execution_count": 20,
   "id": "0ea18b4c",
   "metadata": {},
   "outputs": [
    {
     "data": {
      "text/plain": [
       "['banana', 10, 10.2]"
      ]
     },
     "execution_count": 20,
     "metadata": {},
     "output_type": "execute_result"
    }
   ],
   "source": [
    "# Clone (clone by value) the list A\n",
    "B= A[:]\n",
    "B"
   ]
  },
  {
   "cell_type": "markdown",
   "id": "302e0da8",
   "metadata": {},
   "source": [
    "Now if we change A, B will not change"
   ]
  },
  {
   "cell_type": "code",
   "execution_count": 21,
   "id": "dd4c511f",
   "metadata": {},
   "outputs": [
    {
     "name": "stdout",
     "output_type": "stream",
     "text": [
      "B[0]: banana\n",
      "B[0]: banana\n"
     ]
    }
   ],
   "source": [
    "print (\"B[0]:\",B[0])\n",
    "A[0]=\"hard rock\"\n",
    "print(\"B[0]:\",B[0])"
   ]
  },
  {
   "cell_type": "markdown",
   "id": "998c93a2",
   "metadata": {},
   "source": [
    "### Quiz on List\n",
    "\n",
    "Creat a list a_list, with the following elements 1, hello, [1,2,3], and True"
   ]
  },
  {
   "cell_type": "code",
   "execution_count": 22,
   "id": "aa6c51aa",
   "metadata": {},
   "outputs": [
    {
     "data": {
      "text/plain": [
       "[1, 'hello', [1, 2, 3], True]"
      ]
     },
     "execution_count": 22,
     "metadata": {},
     "output_type": "execute_result"
    }
   ],
   "source": [
    "a_list= [1,\"hello\",[1,2,3],True]\n",
    "a_list"
   ]
  },
  {
   "cell_type": "markdown",
   "id": "bce9ece8",
   "metadata": {},
   "source": [
    "Find the value stored at index 1 of the a_list:"
   ]
  },
  {
   "cell_type": "code",
   "execution_count": 23,
   "id": "59a05d45",
   "metadata": {},
   "outputs": [
    {
     "data": {
      "text/plain": [
       "'hello'"
      ]
     },
     "execution_count": 23,
     "metadata": {},
     "output_type": "execute_result"
    }
   ],
   "source": [
    "a_list[1]"
   ]
  },
  {
   "cell_type": "raw",
   "id": "64d5bfb3",
   "metadata": {},
   "source": [
    "Retrive the elements stored at index 1, 2 and 3 of a_list"
   ]
  },
  {
   "cell_type": "code",
   "execution_count": 24,
   "id": "a15b3cdd",
   "metadata": {},
   "outputs": [
    {
     "data": {
      "text/plain": [
       "['hello', [1, 2, 3], True]"
      ]
     },
     "execution_count": 24,
     "metadata": {},
     "output_type": "execute_result"
    }
   ],
   "source": [
    "a_list[1:4]"
   ]
  },
  {
   "cell_type": "markdown",
   "id": "68043d39",
   "metadata": {},
   "source": [
    "Concatenate the following lists A=[1,\"a\"] and B =[2,1,\"d\"]"
   ]
  },
  {
   "cell_type": "code",
   "execution_count": 25,
   "id": "b24de9ea",
   "metadata": {},
   "outputs": [
    {
     "data": {
      "text/plain": [
       "[1, 'a', 2, 1, 'd']"
      ]
     },
     "execution_count": 25,
     "metadata": {},
     "output_type": "execute_result"
    }
   ],
   "source": [
    "A= [1,\"a\"]\n",
    "B=[2,1,\"d\"]\n",
    "A+B"
   ]
  },
  {
   "cell_type": "markdown",
   "id": "01672af8",
   "metadata": {},
   "source": [
    "#### Scenario: Shopping list"
   ]
  },
  {
   "cell_type": "markdown",
   "id": "525e692c",
   "metadata": {},
   "source": [
    "### Task-1 Create an empty list\n",
    "\n",
    "At first wee need to create a empty list of storing the items to buy in Shopping list."
   ]
  },
  {
   "cell_type": "code",
   "execution_count": 26,
   "id": "6e7691ff",
   "metadata": {},
   "outputs": [],
   "source": [
    "Shopping_list=[]"
   ]
  },
  {
   "cell_type": "markdown",
   "id": "d21336d7",
   "metadata": {},
   "source": [
    "### Task-2 Now store the humber of items to the shopping_list\n",
    "\n",
    "* Watch\n",
    "* Laptop\n",
    "* Shoes\n",
    "* Pen\n",
    "* Clothes"
   ]
  },
  {
   "cell_type": "code",
   "execution_count": 27,
   "id": "19dd339b",
   "metadata": {},
   "outputs": [
    {
     "data": {
      "text/plain": [
       "['Watch', 'Laptop', 'Shoes', 'Pen', 'Clothes']"
      ]
     },
     "execution_count": 27,
     "metadata": {},
     "output_type": "execute_result"
    }
   ],
   "source": [
    "Shopping_list=[\"Watch\",\"Laptop\",\"Shoes\",\"Pen\",\"Clothes\"]\n",
    "Shopping_list"
   ]
  },
  {
   "cell_type": "markdown",
   "id": "de8c6df3",
   "metadata": {},
   "source": [
    "### Task-3 Add a new item to the shopping_list\n",
    "\n",
    "Seems like I miessed one item \"Football\" to add in the shopping lits."
   ]
  },
  {
   "cell_type": "code",
   "execution_count": 28,
   "id": "7c9a94c0",
   "metadata": {},
   "outputs": [
    {
     "data": {
      "text/plain": [
       "['Watch', 'Laptop', 'Shoes', 'Pen', 'Clothes', 'Football']"
      ]
     },
     "execution_count": 28,
     "metadata": {},
     "output_type": "execute_result"
    }
   ],
   "source": [
    "Shopping_list.extend([\"Football\"])\n",
    "Shopping_list"
   ]
  },
  {
   "cell_type": "markdown",
   "id": "5931dac8",
   "metadata": {},
   "source": [
    "### Task-4 Print Fisrt item from the shopping_list\n",
    "\n",
    "Let's check the fisrt item that wee nedd to buy:"
   ]
  },
  {
   "cell_type": "code",
   "execution_count": 29,
   "id": "70bcb667",
   "metadata": {},
   "outputs": [
    {
     "data": {
      "text/plain": [
       "'Watch'"
      ]
     },
     "execution_count": 29,
     "metadata": {},
     "output_type": "execute_result"
    }
   ],
   "source": [
    "Shopping_list[0]"
   ]
  },
  {
   "cell_type": "markdown",
   "id": "84bb0276",
   "metadata": {},
   "source": [
    "### Task 5- Print Last From the shopping_list\n",
    "\n",
    "Let's chack the last item we need to buy:"
   ]
  },
  {
   "cell_type": "code",
   "execution_count": 30,
   "id": "35dde196",
   "metadata": {},
   "outputs": [
    {
     "data": {
      "text/plain": [
       "'Football'"
      ]
     },
     "execution_count": 30,
     "metadata": {},
     "output_type": "execute_result"
    }
   ],
   "source": [
    "Shopping_list[-1]"
   ]
  },
  {
   "cell_type": "markdown",
   "id": "a1285c9b",
   "metadata": {},
   "source": [
    "### Task-6 Print the entire Shopping list"
   ]
  },
  {
   "cell_type": "code",
   "execution_count": 31,
   "id": "41b0d42d",
   "metadata": {},
   "outputs": [
    {
     "data": {
      "text/plain": [
       "['Watch', 'Laptop', 'Shoes', 'Pen', 'Clothes', 'Football']"
      ]
     },
     "execution_count": 31,
     "metadata": {},
     "output_type": "execute_result"
    }
   ],
   "source": [
    "Shopping_list"
   ]
  },
  {
   "cell_type": "markdown",
   "id": "97d9b06b",
   "metadata": {},
   "source": [
    "### Task-7 Print the item that are important to buy from the Shopping List\n",
    "\n",
    "Print \"Laptop\" and \"shoes\""
   ]
  },
  {
   "cell_type": "code",
   "execution_count": 32,
   "id": "1485972f",
   "metadata": {},
   "outputs": [
    {
     "name": "stdout",
     "output_type": "stream",
     "text": [
      "['Laptop', 'Shoes']\n"
     ]
    }
   ],
   "source": [
    "print(Shopping_list[1:3])"
   ]
  },
  {
   "cell_type": "markdown",
   "id": "72714cbe",
   "metadata": {},
   "source": [
    "### Task-8 Change the item from the shopping_list\n",
    "\n",
    "Instead of \"Pen\" I want to buy \"Notebook\" let's chage the item stored int the list"
   ]
  },
  {
   "cell_type": "code",
   "execution_count": 33,
   "id": "498d289d",
   "metadata": {},
   "outputs": [
    {
     "data": {
      "text/plain": [
       "['Watch', 'Laptop', 'Shoes', 'Notebook', 'Clothes', 'Football']"
      ]
     },
     "execution_count": 33,
     "metadata": {},
     "output_type": "execute_result"
    }
   ],
   "source": [
    "Shopping_list[3]=\"Notebook\"\n",
    "Shopping_list"
   ]
  },
  {
   "cell_type": "markdown",
   "id": "a02bff09",
   "metadata": {},
   "source": [
    "### Task-9 Delet the item from the shopping_list that is not required\n",
    "\n",
    "Let's delete items that are unimportant, such as; I don´t want to bu clothes, let's delet it. "
   ]
  },
  {
   "cell_type": "code",
   "execution_count": 34,
   "id": "0410ec84",
   "metadata": {},
   "outputs": [
    {
     "data": {
      "text/plain": [
       "['Watch', 'Laptop', 'Shoes', 'Notebook', 'Football']"
      ]
     },
     "execution_count": 34,
     "metadata": {},
     "output_type": "execute_result"
    }
   ],
   "source": [
    "del(Shopping_list[4])\n",
    "Shopping_list"
   ]
  },
  {
   "cell_type": "markdown",
   "id": "3814dee4",
   "metadata": {},
   "source": [
    "### Task-10 Print the Shopping list"
   ]
  },
  {
   "cell_type": "code",
   "execution_count": 35,
   "id": "004bf5f2",
   "metadata": {},
   "outputs": [
    {
     "data": {
      "text/plain": [
       "['Watch', 'Laptop', 'Shoes', 'Notebook', 'Football']"
      ]
     },
     "execution_count": 35,
     "metadata": {},
     "output_type": "execute_result"
    }
   ],
   "source": [
    "Shopping_list"
   ]
  },
  {
   "cell_type": "markdown",
   "id": "8a957cb1",
   "metadata": {},
   "source": [
    "### "
   ]
  }
 ],
 "metadata": {
  "kernelspec": {
   "display_name": "Python 3 (ipykernel)",
   "language": "python",
   "name": "python3"
  },
  "language_info": {
   "codemirror_mode": {
    "name": "ipython",
    "version": 3
   },
   "file_extension": ".py",
   "mimetype": "text/x-python",
   "name": "python",
   "nbconvert_exporter": "python",
   "pygments_lexer": "ipython3",
   "version": "3.11.7"
  }
 },
 "nbformat": 4,
 "nbformat_minor": 5
}
