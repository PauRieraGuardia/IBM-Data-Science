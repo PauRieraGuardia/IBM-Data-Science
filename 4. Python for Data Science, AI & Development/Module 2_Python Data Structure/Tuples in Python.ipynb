{
 "cells": [
  {
   "cell_type": "markdown",
   "id": "b8a8e63c",
   "metadata": {},
   "source": [
    "### Tuples\n",
    "\n",
    "In Python, there are different data types: String, Integer, and Float. These data tupes can all be contained in a tuples as follows:"
   ]
  },
  {
   "cell_type": "markdown",
   "id": "20815dab",
   "metadata": {},
   "source": [
    "Now, lets create your first tuple with string, integer and float"
   ]
  },
  {
   "cell_type": "code",
   "execution_count": 1,
   "id": "1b073bf5",
   "metadata": {},
   "outputs": [
    {
     "data": {
      "text/plain": [
       "('disco', 10, 1.2)"
      ]
     },
     "execution_count": 1,
     "metadata": {},
     "output_type": "execute_result"
    }
   ],
   "source": [
    "# Create yout firt tuple\n",
    "\n",
    "tuple1= (\"disco\",10,1.2)\n",
    "tuple1"
   ]
  },
  {
   "cell_type": "markdown",
   "id": "4f81db8f",
   "metadata": {},
   "source": [
    "The type of variable is a <b>tuple.</b>"
   ]
  },
  {
   "cell_type": "code",
   "execution_count": 2,
   "id": "5466b825",
   "metadata": {},
   "outputs": [
    {
     "data": {
      "text/plain": [
       "tuple"
      ]
     },
     "execution_count": 2,
     "metadata": {},
     "output_type": "execute_result"
    }
   ],
   "source": [
    "# Print the type of the tuple you created\n",
    "type(tuple1)"
   ]
  },
  {
   "cell_type": "markdown",
   "id": "562e538a",
   "metadata": {},
   "source": [
    "### Indexing \n",
    "\n",
    "Each element of a tuple can be accessed via an indez. The following table repreents the relationship between the index and the items in the tuple. Each element can be obtained by the name of the tuple followed by a square bracjket woth the index number:\n",
    "\n",
    "We can print put each value in the tuple:"
   ]
  },
  {
   "cell_type": "code",
   "execution_count": 3,
   "id": "bb4d2477",
   "metadata": {},
   "outputs": [
    {
     "name": "stdout",
     "output_type": "stream",
     "text": [
      "disco\n",
      "10\n",
      "1.2\n"
     ]
    }
   ],
   "source": [
    "# Print the variable on each indez\n",
    "\n",
    "print(tuple1[0])\n",
    "print(tuple1[1])\n",
    "print(tuple1[2])"
   ]
  },
  {
   "cell_type": "markdown",
   "id": "3e9c3b91",
   "metadata": {},
   "source": [
    "We can print out the type of each value in the tuple:"
   ]
  },
  {
   "cell_type": "code",
   "execution_count": 4,
   "id": "c61ba10a",
   "metadata": {},
   "outputs": [
    {
     "name": "stdout",
     "output_type": "stream",
     "text": [
      "<class 'str'>\n",
      "<class 'int'>\n",
      "<class 'float'>\n"
     ]
    }
   ],
   "source": [
    "# Print hte type of value on each index\n",
    "print(type(tuple1[0]))\n",
    "print(type(tuple1[1]))\n",
    "print(type(tuple1[2]))"
   ]
  },
  {
   "cell_type": "markdown",
   "id": "68b52069",
   "metadata": {},
   "source": [
    "We can also use negative indexing. We use the same table above with corresponding negative values:\n",
    "\n",
    "We can obtain the last element as follows:"
   ]
  },
  {
   "cell_type": "code",
   "execution_count": 8,
   "id": "66cdb202",
   "metadata": {},
   "outputs": [
    {
     "data": {
      "text/plain": [
       "1.2"
      ]
     },
     "execution_count": 8,
     "metadata": {},
     "output_type": "execute_result"
    }
   ],
   "source": [
    "# Use negative index to ger the value of the last element\n",
    "\n",
    "tuple1[-1]"
   ]
  },
  {
   "cell_type": "markdown",
   "id": "809c4977",
   "metadata": {},
   "source": [
    "We can display the next two elements as follows:"
   ]
  },
  {
   "cell_type": "code",
   "execution_count": 9,
   "id": "afc3c814",
   "metadata": {},
   "outputs": [
    {
     "data": {
      "text/plain": [
       "10"
      ]
     },
     "execution_count": 9,
     "metadata": {},
     "output_type": "execute_result"
    }
   ],
   "source": [
    "# Use negative index to get the value of the second last element\n",
    "tuple1[-2]"
   ]
  },
  {
   "cell_type": "code",
   "execution_count": 10,
   "id": "a7ea83c0",
   "metadata": {},
   "outputs": [
    {
     "data": {
      "text/plain": [
       "'disco'"
      ]
     },
     "execution_count": 10,
     "metadata": {},
     "output_type": "execute_result"
    }
   ],
   "source": [
    "# Use negative index to get the value o the third last element\n",
    "tuple1[-3]"
   ]
  },
  {
   "cell_type": "markdown",
   "id": "57827f34",
   "metadata": {},
   "source": [
    "### Concatenate Tuples\n",
    "\n",
    "We can concatenate or combine tuples by using the + sign:"
   ]
  },
  {
   "cell_type": "code",
   "execution_count": 11,
   "id": "7d629e7d",
   "metadata": {},
   "outputs": [
    {
     "data": {
      "text/plain": [
       "('disco', 10, 1.2, 'hard rock', 10)"
      ]
     },
     "execution_count": 11,
     "metadata": {},
     "output_type": "execute_result"
    }
   ],
   "source": [
    "# Concatenate two tuples\n",
    "\n",
    "tuple2= tuple1+(\"hard rock\",10)\n",
    "tuple2"
   ]
  },
  {
   "cell_type": "markdown",
   "id": "578d004e",
   "metadata": {},
   "source": [
    "### Slicing \n",
    "\n",
    "We can slice tuples, obtaining new tuples with corresponding elements:"
   ]
  },
  {
   "cell_type": "code",
   "execution_count": 12,
   "id": "0e355b60",
   "metadata": {},
   "outputs": [
    {
     "data": {
      "text/plain": [
       "('disco', 10, 1.2)"
      ]
     },
     "execution_count": 12,
     "metadata": {},
     "output_type": "execute_result"
    }
   ],
   "source": [
    "# Slice from indez 0 to index 2\n",
    "tuple2[0:3]"
   ]
  },
  {
   "cell_type": "markdown",
   "id": "8c9caee7",
   "metadata": {},
   "source": [
    "We can obtain the last two elements of the tuple:"
   ]
  },
  {
   "cell_type": "code",
   "execution_count": 13,
   "id": "067c4786",
   "metadata": {},
   "outputs": [
    {
     "data": {
      "text/plain": [
       "('hard rock', 10)"
      ]
     },
     "execution_count": 13,
     "metadata": {},
     "output_type": "execute_result"
    }
   ],
   "source": [
    "# Slice from index 3 to index 4\n",
    "tuple2[3:5]"
   ]
  },
  {
   "cell_type": "markdown",
   "id": "3770660d",
   "metadata": {},
   "source": [
    "We can obtain the length of a tuple using length command:¡"
   ]
  },
  {
   "cell_type": "code",
   "execution_count": 14,
   "id": "b46114d8",
   "metadata": {},
   "outputs": [
    {
     "data": {
      "text/plain": [
       "5"
      ]
     },
     "execution_count": 14,
     "metadata": {},
     "output_type": "execute_result"
    }
   ],
   "source": [
    "# Get the length of the tuple\n",
    "len(tuple2)"
   ]
  },
  {
   "cell_type": "markdown",
   "id": "20be50e1",
   "metadata": {},
   "source": [
    "### Sorting\n",
    "\n",
    "Consider the following tuple"
   ]
  },
  {
   "cell_type": "code",
   "execution_count": 18,
   "id": "c047dc56",
   "metadata": {},
   "outputs": [],
   "source": [
    "# A sample tuple\n",
    "\n",
    "Ratings =(0,9,6,5,10,8,9,6,2)"
   ]
  },
  {
   "cell_type": "markdown",
   "id": "a4d7e9ad",
   "metadata": {},
   "source": [
    "We can sort the values in a tuple and save it to a new tuple:"
   ]
  },
  {
   "cell_type": "code",
   "execution_count": 19,
   "id": "ed58ccef",
   "metadata": {},
   "outputs": [
    {
     "data": {
      "text/plain": [
       "[0, 2, 5, 6, 6, 8, 9, 9, 10]"
      ]
     },
     "execution_count": 19,
     "metadata": {},
     "output_type": "execute_result"
    }
   ],
   "source": [
    "# Sort the tuple\n",
    "\n",
    "RatingsSorted= sorted(Ratings)\n",
    "RatingsSorted"
   ]
  },
  {
   "cell_type": "markdown",
   "id": "278728e3",
   "metadata": {},
   "source": [
    "### Nested Tuple\n",
    "\n",
    "A tuple can contain another tuple as well as otger more complex data types. This process is called \"nesting\". Consider the following tuple with several elements:"
   ]
  },
  {
   "cell_type": "code",
   "execution_count": 20,
   "id": "37a3358d",
   "metadata": {},
   "outputs": [],
   "source": [
    "# Create a nest tuple\n",
    "\n",
    "NestedT=(1,2,(\"pop\",\"rock\"),(3,4),(\"disco\",(1,2)))"
   ]
  },
  {
   "cell_type": "markdown",
   "id": "14cb4fe3",
   "metadata": {},
   "source": [
    "Each element int the tuple, including other tuples, can be obtained via an index as shown:"
   ]
  },
  {
   "cell_type": "code",
   "execution_count": 21,
   "id": "41444ccb",
   "metadata": {},
   "outputs": [
    {
     "name": "stdout",
     "output_type": "stream",
     "text": [
      "Element 0 of tuple:  1\n",
      "Element 1 of tuple:  2\n",
      "Element 2 of tuple:  ('pop', 'rock')\n",
      "Element 3 of tuple:  (3, 4)\n",
      "Element 4 of tuple:  ('disco', (1, 2))\n"
     ]
    }
   ],
   "source": [
    "# print element on each index\n",
    "print(\"Element 0 of tuple: \",NestedT[0])\n",
    "print(\"Element 1 of tuple: \",NestedT[1])  \n",
    "print(\"Element 2 of tuple: \",NestedT[2])\n",
    "print(\"Element 3 of tuple: \",NestedT[3])\n",
    "print(\"Element 4 of tuple: \",NestedT[4])"
   ]
  },
  {
   "cell_type": "markdown",
   "id": "b1d20a59",
   "metadata": {},
   "source": [
    "We can use the second index to access other tuples as demonstrated:"
   ]
  },
  {
   "cell_type": "code",
   "execution_count": 22,
   "id": "c5959274",
   "metadata": {},
   "outputs": [
    {
     "name": "stdout",
     "output_type": "stream",
     "text": [
      "Element 2, 0 of Tuple: pop\n",
      "Element 2, 1 of Tuple: rock\n",
      "Element 3, 0 of Tuple: pop\n",
      "Element 3, 1 of Tuple: rock\n",
      "Element 4, 0 of Tuple: pop\n",
      "Element 4, 1 of Tuple: rock\n"
     ]
    }
   ],
   "source": [
    "# Print element on each index, including nest indexes\n",
    "\n",
    "print(\"Element 2, 0 of Tuple:\",NestedT[2][0])\n",
    "print(\"Element 2, 1 of Tuple:\",NestedT[2][1])\n",
    "print(\"Element 3, 0 of Tuple:\",NestedT[2][0])\n",
    "print(\"Element 3, 1 of Tuple:\",NestedT[2][1])\n",
    "print(\"Element 4, 0 of Tuple:\",NestedT[2][0])\n",
    "print(\"Element 4, 1 of Tuple:\",NestedT[2][1])"
   ]
  },
  {
   "cell_type": "markdown",
   "id": "5461fa42",
   "metadata": {},
   "source": [
    "We can access strings int the second nested tuples using a third index:"
   ]
  },
  {
   "cell_type": "code",
   "execution_count": 23,
   "id": "4cf83ccb",
   "metadata": {},
   "outputs": [
    {
     "data": {
      "text/plain": [
       "'r'"
      ]
     },
     "execution_count": 23,
     "metadata": {},
     "output_type": "execute_result"
    }
   ],
   "source": [
    "# Print the first element in the second nested tuples\n",
    "\n",
    "NestedT[2][1][0]"
   ]
  },
  {
   "cell_type": "markdown",
   "id": "aee225f9",
   "metadata": {},
   "source": [
    "Similary, we can access elements nested deeper in the tree with a third index:"
   ]
  },
  {
   "cell_type": "code",
   "execution_count": 26,
   "id": "af763007",
   "metadata": {},
   "outputs": [
    {
     "data": {
      "text/plain": [
       "1"
      ]
     },
     "execution_count": 26,
     "metadata": {},
     "output_type": "execute_result"
    }
   ],
   "source": [
    "# Print the first element int the second nested tuples\n",
    "NestedT[4][1][0]"
   ]
  },
  {
   "cell_type": "markdown",
   "id": "83cb752f",
   "metadata": {},
   "source": [
    "### Quiz on Tuples\n",
    "\n",
    "Consider the following tuple"
   ]
  },
  {
   "cell_type": "code",
   "execution_count": 27,
   "id": "9e23d957",
   "metadata": {},
   "outputs": [
    {
     "data": {
      "text/plain": [
       "('pop', 'rock', 'soul', 'hard rock', 'soft rock')"
      ]
     },
     "execution_count": 27,
     "metadata": {},
     "output_type": "execute_result"
    }
   ],
   "source": [
    "# Sample tuple\n",
    "\n",
    "genres_tuple = (\"pop\",\"rock\",\"soul\",\"hard rock\",\"soft rock\")\n",
    "genres_tuple"
   ]
  },
  {
   "cell_type": "markdown",
   "id": "fe337b9c",
   "metadata": {},
   "source": [
    "Find the length of the tuple, genres_tuple:"
   ]
  },
  {
   "cell_type": "code",
   "execution_count": 28,
   "id": "58756780",
   "metadata": {},
   "outputs": [
    {
     "data": {
      "text/plain": [
       "5"
      ]
     },
     "execution_count": 28,
     "metadata": {},
     "output_type": "execute_result"
    }
   ],
   "source": [
    "len(genres_tuple)"
   ]
  },
  {
   "cell_type": "markdown",
   "id": "66fab280",
   "metadata": {},
   "source": [
    "Access the element, woth respect to index 3:"
   ]
  },
  {
   "cell_type": "code",
   "execution_count": 30,
   "id": "93789a61",
   "metadata": {},
   "outputs": [
    {
     "data": {
      "text/plain": [
       "'hard rock'"
      ]
     },
     "execution_count": 30,
     "metadata": {},
     "output_type": "execute_result"
    }
   ],
   "source": [
    "genres_tuple[3]"
   ]
  },
  {
   "cell_type": "markdown",
   "id": "29b3f591",
   "metadata": {},
   "source": [
    "Use slicing to obtain indexes 3, 4 and 5:"
   ]
  },
  {
   "cell_type": "code",
   "execution_count": 38,
   "id": "c36e73a0",
   "metadata": {},
   "outputs": [
    {
     "data": {
      "text/plain": [
       "('soul', 'hard rock', 'soft rock')"
      ]
     },
     "execution_count": 38,
     "metadata": {},
     "output_type": "execute_result"
    }
   ],
   "source": [
    "genres_tuple[2:6]"
   ]
  },
  {
   "cell_type": "markdown",
   "id": "605feaeb",
   "metadata": {},
   "source": [
    "Find the firts two elements of the tuple genres_tuple"
   ]
  },
  {
   "cell_type": "code",
   "execution_count": 36,
   "id": "86a6d56c",
   "metadata": {},
   "outputs": [
    {
     "data": {
      "text/plain": [
       "('pop', 'rock')"
      ]
     },
     "execution_count": 36,
     "metadata": {},
     "output_type": "execute_result"
    }
   ],
   "source": [
    "genres_tuple[0:2]"
   ]
  },
  {
   "cell_type": "markdown",
   "id": "64c429ba",
   "metadata": {},
   "source": [
    "Find the index of \"s\" ind \"disco\":"
   ]
  },
  {
   "cell_type": "code",
   "execution_count": 37,
   "id": "bed6b079",
   "metadata": {},
   "outputs": [
    {
     "data": {
      "text/plain": [
       "2"
      ]
     },
     "execution_count": 37,
     "metadata": {},
     "output_type": "execute_result"
    }
   ],
   "source": [
    "\"disco\".find(\"s\")"
   ]
  },
  {
   "cell_type": "markdown",
   "id": "eebcf105",
   "metadata": {},
   "source": [
    "Generate a sorted List from the Tuple C_tuple=(-5,1,-3)"
   ]
  },
  {
   "cell_type": "code",
   "execution_count": 40,
   "id": "de808825",
   "metadata": {},
   "outputs": [
    {
     "data": {
      "text/plain": [
       "[-5, -3, 1]"
      ]
     },
     "execution_count": 40,
     "metadata": {},
     "output_type": "execute_result"
    }
   ],
   "source": [
    "C_Tuple=(-5,1,-3)\n",
    "C_list=sorted(C_Tuple)\n",
    "C_list"
   ]
  }
 ],
 "metadata": {
  "kernelspec": {
   "display_name": "Python 3 (ipykernel)",
   "language": "python",
   "name": "python3"
  },
  "language_info": {
   "codemirror_mode": {
    "name": "ipython",
    "version": 3
   },
   "file_extension": ".py",
   "mimetype": "text/x-python",
   "name": "python",
   "nbconvert_exporter": "python",
   "pygments_lexer": "ipython3",
   "version": "3.11.7"
  }
 },
 "nbformat": 4,
 "nbformat_minor": 5
}
